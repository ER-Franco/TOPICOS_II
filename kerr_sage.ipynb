{
 "cells": [
  {
   "cell_type": "code",
   "execution_count": 21,
   "metadata": {},
   "outputs": [],
   "source": [
    "%display latex"
   ]
  },
  {
   "cell_type": "code",
   "execution_count": 22,
   "metadata": {},
   "outputs": [],
   "source": [
    "Parallelism().set(nproc = 4)"
   ]
  },
  {
   "cell_type": "markdown",
   "metadata": {},
   "source": [
    "# Metric"
   ]
  },
  {
   "cell_type": "code",
   "execution_count": 23,
   "metadata": {},
   "outputs": [],
   "source": [
    "M = Manifold(4, 'M', r'\\mathcal{M}');"
   ]
  },
  {
   "cell_type": "code",
   "execution_count": 24,
   "metadata": {},
   "outputs": [],
   "source": [
    "M0 = M.open_subset('M0', r'\\mathcal{M}_0')\n",
    "# BL = Boyer-Lindquist\n",
    "BL.<t,r,th,ph> = M0.chart(r't r:(0,+oo) th:(0,pi):\\theta ph:(0,2*pi):\\phi')"
   ]
  },
  {
   "cell_type": "code",
   "execution_count": 43,
   "metadata": {},
   "outputs": [],
   "source": [
    "var('u', latex_name = '\\\\mu')\n",
    "var('a')\n",
    "var('q');\n",
    "\n",
    "n = 4"
   ]
  },
  {
   "cell_type": "code",
   "execution_count": 26,
   "metadata": {},
   "outputs": [],
   "source": [
    "g = M.lorentzian_metric('g')"
   ]
  },
  {
   "cell_type": "code",
   "execution_count": 27,
   "metadata": {},
   "outputs": [
    {
     "data": {
      "text/html": [
       "<html><script type=\"math/tex; mode=display\">\\newcommand{\\Bold}[1]{\\mathbf{#1}}g = \\left( -\\frac{a^{2} \\sin\\left({\\theta}\\right)^{2} - a^{2} - r^{2} + 2 \\, r {\\mu}}{a^{2} \\cos\\left({\\theta}\\right)^{2} + r^{2}} \\right) \\mathrm{d} t\\otimes \\mathrm{d} t + \\left( \\frac{2 \\, a r {\\mu} \\sin\\left({\\theta}\\right)^{2}}{a^{2} \\cos\\left({\\theta}\\right)^{2} + r^{2}} \\right) \\mathrm{d} t\\otimes \\mathrm{d} {\\phi} + \\left( -\\frac{a^{2} \\cos\\left({\\theta}\\right)^{2} + r^{2}}{a^{2} + r^{2} - 2 \\, r {\\mu}} \\right) \\mathrm{d} r\\otimes \\mathrm{d} r + \\left( -a^{2} \\cos\\left({\\theta}\\right)^{2} - r^{2} \\right) \\mathrm{d} {\\theta}\\otimes \\mathrm{d} {\\theta} + \\left( \\frac{2 \\, a r {\\mu} \\sin\\left({\\theta}\\right)^{2}}{a^{2} \\cos\\left({\\theta}\\right)^{2} + r^{2}} \\right) \\mathrm{d} {\\phi}\\otimes \\mathrm{d} t + \\left( \\frac{{\\left({\\left(a^{2} + r^{2} - 2 \\, r {\\mu}\\right)} a^{2} \\sin\\left({\\theta}\\right)^{2} - {\\left(a^{2} + r^{2}\\right)}^{2}\\right)} \\sin\\left({\\theta}\\right)^{2}}{a^{2} \\cos\\left({\\theta}\\right)^{2} + r^{2}} \\right) \\mathrm{d} {\\phi}\\otimes \\mathrm{d} {\\phi}</script></html>"
      ],
      "text/plain": [
       "g = -(a^2*sin(th)^2 - a^2 - r^2 + 2*r*u)/(a^2*cos(th)^2 + r^2) dt*dt + 2*a*r*u*sin(th)^2/(a^2*cos(th)^2 + r^2) dt*dph - (a^2*cos(th)^2 + r^2)/(a^2 + r^2 - 2*r*u) dr*dr + (-a^2*cos(th)^2 - r^2) dth*dth + 2*a*r*u*sin(th)^2/(a^2*cos(th)^2 + r^2) dph*dt + ((a^2 + r^2 - 2*r*u)*a^2*sin(th)^2 - (a^2 + r^2)^2)*sin(th)^2/(a^2*cos(th)^2 + r^2) dph*dph"
      ]
     },
     "execution_count": 27,
     "metadata": {},
     "output_type": "execute_result"
    }
   ],
   "source": [
    "p_sq = r^2 + (a*cos(th))^2\n",
    "D = r^2 -2*u*r + a^2\n",
    "E_sq = (r^2 + a^2)**2 - a^2*D*sin(th)^2\n",
    "\n",
    "g[0,0] = (D - a^2*sin(th)^2)/p_sq\n",
    "g[0,3] = 2*u*a*r*sin(th)^2/p_sq\n",
    "g[1,1], g[2,2] = -p_sq/D, -p_sq\n",
    "g[3,0] = 2*u*a*r*sin(th)^2/p_sq\n",
    "g[3,3] = -E_sq*sin(th)^2/p_sq\n",
    "\n",
    "g.display()"
   ]
  },
  {
   "cell_type": "markdown",
   "metadata": {},
   "source": [
    "# Christoffel symbols"
   ]
  },
  {
   "cell_type": "code",
   "execution_count": 28,
   "metadata": {},
   "outputs": [],
   "source": [
    "nab = g.connection()"
   ]
  },
  {
   "cell_type": "code",
   "execution_count": 29,
   "metadata": {},
   "outputs": [],
   "source": [
    "chris_latex = open('christoffel_sage.txt', 'w')\n",
    "\n",
    "for i in range(n):\n",
    "    for j in range(n):\n",
    "        for k in range(n):\n",
    "            if nab[i, j, k] != 0:\n",
    "                chris = nab[i, j, k]\n",
    "\n",
    "                chris_latex.write(str(i) + ';' + str(j) + ';' + str(k) + ';' + '\"' + str(chris) + '\"' + '\\n')\n",
    "                #rim_latex.write(latex(rim) + '\\n')\n",
    "\n",
    "               #display([i, j, k, l], rim)\n",
    "                        \n",
    "chris_latex.close()"
   ]
  },
  {
   "cell_type": "markdown",
   "metadata": {},
   "source": [
    "# Riemann tensor"
   ]
  },
  {
   "cell_type": "code",
   "execution_count": 31,
   "metadata": {},
   "outputs": [],
   "source": [
    "R = g.riemann()"
   ]
  },
  {
   "cell_type": "code",
   "execution_count": 32,
   "metadata": {
    "scrolled": true
   },
   "outputs": [],
   "source": [
    "rim_latex = open('riemann_sage.txt', 'w')\n",
    "\n",
    "for i in range(n):\n",
    "    for j in range(n):\n",
    "        for k in range(n):\n",
    "            for l in range(n):\n",
    "                    if R[i, j, k, l] != 0:\n",
    "                        rim = R[i, j, k, l]\n",
    "                        \n",
    "                        rim_latex.write(str(i) + ';' + str(j) + ';' + str(k) + ';' + str(l) + ';' + '\"' + str(rim) + '\"' + '\\n')\n",
    "                        #rim_latex.write(latex(rim) + '\\n')\n",
    "                        \n",
    "                       #display([i, j, k, l], rim)\n",
    "                        \n",
    "rim_latex.close()"
   ]
  },
  {
   "cell_type": "markdown",
   "metadata": {},
   "source": [
    "# Ricci tensor"
   ]
  },
  {
   "cell_type": "code",
   "execution_count": 33,
   "metadata": {},
   "outputs": [],
   "source": [
    "Ric = g.ricci()"
   ]
  },
  {
   "cell_type": "code",
   "execution_count": 34,
   "metadata": {},
   "outputs": [
    {
     "data": {
      "text/html": [
       "<html><script type=\"math/tex; mode=display\">\\newcommand{\\Bold}[1]{\\mathbf{#1}}\\left(\\begin{array}{rrrr}\n",
       "0 & 0 & 0 & 0 \\\\\n",
       "0 & 0 & 0 & 0 \\\\\n",
       "0 & 0 & 0 & 0 \\\\\n",
       "0 & 0 & 0 & 0\n",
       "\\end{array}\\right)</script></html>"
      ],
      "text/plain": [
       "[0 0 0 0]\n",
       "[0 0 0 0]\n",
       "[0 0 0 0]\n",
       "[0 0 0 0]"
      ]
     },
     "execution_count": 34,
     "metadata": {},
     "output_type": "execute_result"
    }
   ],
   "source": [
    "Ric[:]"
   ]
  },
  {
   "cell_type": "markdown",
   "metadata": {},
   "source": [
    "# Kretshmann scalar"
   ]
  },
  {
   "cell_type": "code",
   "execution_count": 35,
   "metadata": {},
   "outputs": [],
   "source": [
    "dR = R.down(g)"
   ]
  },
  {
   "cell_type": "code",
   "execution_count": 36,
   "metadata": {},
   "outputs": [],
   "source": [
    "uR = R.up(g)"
   ]
  },
  {
   "cell_type": "code",
   "execution_count": 37,
   "metadata": {},
   "outputs": [],
   "source": [
    "Kr_scalar = uR['^ijkl']*dR['_ijkl']"
   ]
  },
  {
   "cell_type": "code",
   "execution_count": 38,
   "metadata": {},
   "outputs": [
    {
     "data": {
      "text/html": [
       "<html><script type=\"math/tex; mode=display\">\\newcommand{\\Bold}[1]{\\mathbf{#1}}-\\frac{48 \\, {\\left(a^{2} \\cos\\left({\\theta}\\right)^{2} + 4 \\, a r \\cos\\left({\\theta}\\right) + r^{2}\\right)} {\\left(a^{2} \\cos\\left({\\theta}\\right)^{2} - 4 \\, a r \\cos\\left({\\theta}\\right) + r^{2}\\right)} {\\left(a \\cos\\left({\\theta}\\right) + r\\right)} {\\left(a \\cos\\left({\\theta}\\right) - r\\right)} {\\mu}^{2}}{{\\left(a^{2} \\cos\\left({\\theta}\\right)^{2} + r^{2}\\right)}^{6}}</script></html>"
      ],
      "text/plain": [
       "-48*(a^2*cos(th)^2 + 4*a*r*cos(th) + r^2)*(a^2*cos(th)^2 - 4*a*r*cos(th) + r^2)*(a*cos(th) + r)*(a*cos(th) - r)*u^2/(a^2*cos(th)^2 + r^2)^6"
      ]
     },
     "execution_count": 38,
     "metadata": {},
     "output_type": "execute_result"
    }
   ],
   "source": [
    "Kr = Kr_scalar.coord_function()\n",
    "Kr.factor()"
   ]
  },
  {
   "cell_type": "code",
   "execution_count": 39,
   "metadata": {},
   "outputs": [],
   "source": [
    "Kr_KN = 8/(r^2+(a*cos(th))^2)^6 *(6*u^2*(r^6 - 15*r^4*(a*cos(th))^2 + 15*r^2*(a*cos(th))^4 - (a*cos(th))^6)- 12*u*q^2*r*(r^4 - 10*(a*r*cos(th))^2 + 5*(a*cos(th))^4) + q^4*(7*r^4 - 34*(a*r*cos(th))^2 + 7*(a*cos(th))^4))"
   ]
  },
  {
   "cell_type": "code",
   "execution_count": 40,
   "metadata": {},
   "outputs": [
    {
     "data": {
      "text/html": [
       "<html><script type=\"math/tex; mode=display\">\\newcommand{\\Bold}[1]{\\mathbf{#1}}\\mathrm{True}</script></html>"
      ],
      "text/plain": [
       "True"
      ]
     },
     "execution_count": 40,
     "metadata": {},
     "output_type": "execute_result"
    }
   ],
   "source": [
    "Kr == Kr_KN.subs(q = 0)"
   ]
  }
 ],
 "metadata": {
  "kernelspec": {
   "display_name": "SageMath 8.9",
   "language": "sage",
   "name": "sagemath"
  },
  "language_info": {
   "codemirror_mode": {
    "name": "ipython",
    "version": 3
   },
   "file_extension": ".py",
   "mimetype": "text/x-python",
   "name": "python",
   "nbconvert_exporter": "python",
   "pygments_lexer": "ipython3",
   "version": "3.7.3"
  }
 },
 "nbformat": 4,
 "nbformat_minor": 1
}
