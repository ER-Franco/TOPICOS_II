{
 "cells": [
  {
   "cell_type": "code",
   "execution_count": 1,
   "metadata": {},
   "outputs": [],
   "source": [
    "%display latex"
   ]
  },
  {
   "cell_type": "code",
   "execution_count": 2,
   "metadata": {},
   "outputs": [],
   "source": [
    "Parallelism().set(nproc = 4)"
   ]
  },
  {
   "cell_type": "markdown",
   "metadata": {},
   "source": [
    "# Metrica"
   ]
  },
  {
   "cell_type": "code",
   "execution_count": 3,
   "metadata": {},
   "outputs": [],
   "source": [
    "M = Manifold(4, 'M', r'\\mathcal{M}');"
   ]
  },
  {
   "cell_type": "code",
   "execution_count": 4,
   "metadata": {},
   "outputs": [],
   "source": [
    "M0 = M.open_subset('M0', r'\\mathcal{M}_0')\n",
    "# BL = Boyer-Lindquist\n",
    "BL.<t,r,th,ph> = M0.chart(r't r:(0,+oo) th:(0,pi):\\theta ph:(0,2*pi):\\phi')"
   ]
  },
  {
   "cell_type": "code",
   "execution_count": 5,
   "metadata": {},
   "outputs": [
    {
     "name": "stderr",
     "output_type": "stream",
     "text": [
      "<input>:1: DeprecationWarning: invalid escape sequence \\m\n",
      "<input>:1: DeprecationWarning: invalid escape sequence \\m\n",
      "<input>:1: DeprecationWarning: invalid escape sequence \\m\n",
      "<input>:1: DeprecationWarning: invalid escape sequence \\m\n",
      "<input>:1: DeprecationWarning: invalid escape sequence \\m\n",
      "<input>:1: DeprecationWarning: invalid escape sequence \\m\n",
      "<input>:1: DeprecationWarning: invalid escape sequence \\m\n",
      "<input>:1: DeprecationWarning: invalid escape sequence \\m\n",
      "<input>:1: DeprecationWarning: invalid escape sequence \\m\n",
      "<input>:1: DeprecationWarning: invalid escape sequence \\m\n",
      "<input>:1: DeprecationWarning: invalid escape sequence \\m\n",
      "<input>:1: DeprecationWarning: invalid escape sequence \\m\n",
      "<input>:1: DeprecationWarning: invalid escape sequence \\m\n",
      "<input>:1: DeprecationWarning: invalid escape sequence \\m\n",
      "<input>:1: DeprecationWarning: invalid escape sequence \\m\n",
      "<input>:1: DeprecationWarning: invalid escape sequence \\m\n",
      "<input>:1: DeprecationWarning: invalid escape sequence \\m\n",
      "<input>:1: DeprecationWarning: invalid escape sequence \\m\n",
      "<input>:1: DeprecationWarning: invalid escape sequence \\m\n",
      "<input>:1: DeprecationWarning: invalid escape sequence \\m\n",
      "<input>:1: DeprecationWarning: invalid escape sequence \\m\n",
      "<input>:1: DeprecationWarning: invalid escape sequence \\m\n",
      "<input>:1: DeprecationWarning: invalid escape sequence \\m\n",
      "<input>:1: DeprecationWarning: invalid escape sequence \\m\n",
      "<ipython-input-5-047e1f94c426>:1: DeprecationWarning: invalid escape sequence \\m\n",
      "  var('u', latex_name = '\\mu')\n"
     ]
    }
   ],
   "source": [
    "var('u', latex_name = '\\mu')\n",
    "#var('p', latex_name = '\\rho')\n",
    "#var('E', latex_name = '\\Sigma')\n",
    "#var('D', latex_name = '\\Delta')\n",
    "var('a')\n",
    "var('q');\n",
    "\n",
    "n = 4"
   ]
  },
  {
   "cell_type": "code",
   "execution_count": 6,
   "metadata": {},
   "outputs": [],
   "source": [
    "g = M.lorentzian_metric('g')"
   ]
  },
  {
   "cell_type": "code",
   "execution_count": 7,
   "metadata": {},
   "outputs": [
    {
     "data": {
      "text/html": [
       "<html><script type=\"math/tex; mode=display\">\\newcommand{\\Bold}[1]{\\mathbf{#1}}g = \\left( -\\frac{a^{2} \\sin\\left({\\theta}\\right)^{2} - a^{2} - r^{2} + 2 \\, r {\\mu}}{a^{2} \\cos\\left({\\theta}\\right)^{2} + r^{2}} \\right) \\mathrm{d} t\\otimes \\mathrm{d} t + \\left( \\frac{2 \\, a r {\\mu} \\sin\\left({\\theta}\\right)^{2}}{a^{2} \\cos\\left({\\theta}\\right)^{2} + r^{2}} \\right) \\mathrm{d} t\\otimes \\mathrm{d} {\\phi} + \\left( -\\frac{a^{2} \\cos\\left({\\theta}\\right)^{2} + r^{2}}{a^{2} + r^{2} - 2 \\, r {\\mu}} \\right) \\mathrm{d} r\\otimes \\mathrm{d} r + \\left( -a^{2} \\cos\\left({\\theta}\\right)^{2} - r^{2} \\right) \\mathrm{d} {\\theta}\\otimes \\mathrm{d} {\\theta} + \\left( \\frac{2 \\, a r {\\mu} \\sin\\left({\\theta}\\right)^{2}}{a^{2} \\cos\\left({\\theta}\\right)^{2} + r^{2}} \\right) \\mathrm{d} {\\phi}\\otimes \\mathrm{d} t + \\left( \\frac{{\\left({\\left(a^{2} + r^{2} - 2 \\, r {\\mu}\\right)} a^{2} \\sin\\left({\\theta}\\right)^{2} - {\\left(a^{2} + r^{2}\\right)}^{2}\\right)} \\sin\\left({\\theta}\\right)^{2}}{a^{2} \\cos\\left({\\theta}\\right)^{2} + r^{2}} \\right) \\mathrm{d} {\\phi}\\otimes \\mathrm{d} {\\phi}</script></html>"
      ],
      "text/plain": [
       "g = -(a^2*sin(th)^2 - a^2 - r^2 + 2*r*u)/(a^2*cos(th)^2 + r^2) dt*dt + 2*a*r*u*sin(th)^2/(a^2*cos(th)^2 + r^2) dt*dph - (a^2*cos(th)^2 + r^2)/(a^2 + r^2 - 2*r*u) dr*dr + (-a^2*cos(th)^2 - r^2) dth*dth + 2*a*r*u*sin(th)^2/(a^2*cos(th)^2 + r^2) dph*dt + ((a^2 + r^2 - 2*r*u)*a^2*sin(th)^2 - (a^2 + r^2)^2)*sin(th)^2/(a^2*cos(th)^2 + r^2) dph*dph"
      ]
     },
     "execution_count": 7,
     "metadata": {},
     "output_type": "execute_result"
    }
   ],
   "source": [
    "p_sq = r^2 + (a*cos(th))^2\n",
    "D = r^2 -2*u*r + a^2\n",
    "E_sq = (r^2 + a^2)**2 - a^2*D*sin(th)^2\n",
    "\n",
    "g[0,0] = (D - a^2*sin(th)^2)/p_sq\n",
    "g[0,3] = 2*u*a*r*sin(th)^2/p_sq\n",
    "g[1,1], g[2,2] = -p_sq/D, -p_sq\n",
    "g[3,0] = 2*u*a*r*sin(th)^2/p_sq\n",
    "g[3,3] = -E_sq*sin(th)^2/p_sq\n",
    "\n",
    "g.display()"
   ]
  },
  {
   "cell_type": "markdown",
   "metadata": {},
   "source": [
    "# Christoffel"
   ]
  },
  {
   "cell_type": "code",
   "execution_count": 8,
   "metadata": {},
   "outputs": [],
   "source": [
    "nab = g.connection()"
   ]
  },
  {
   "cell_type": "code",
   "execution_count": 9,
   "metadata": {},
   "outputs": [
    {
     "data": {
      "text/html": [
       "<html><script type=\"math/tex; mode=display\">\\newcommand{\\Bold}[1]{\\mathbf{#1}}\\begin{array}{lcl} \\Gamma_{ \\phantom{\\, t} \\, t \\, r }^{ \\, t \\phantom{\\, t} \\phantom{\\, r} } & = & -\\frac{{\\left(a^{4} - r^{4} - {\\left(a^{4} + a^{2} r^{2}\\right)} \\sin\\left({\\theta}\\right)^{2}\\right)} {\\mu}}{a^{2} r^{4} + r^{6} + {\\left(a^{6} + a^{4} r^{2}\\right)} \\cos\\left({\\theta}\\right)^{4} + 2 \\, {\\left(a^{4} r^{2} + a^{2} r^{4}\\right)} \\cos\\left({\\theta}\\right)^{2} - 2 \\, {\\left(a^{4} r \\cos\\left({\\theta}\\right)^{4} + 2 \\, a^{2} r^{3} \\cos\\left({\\theta}\\right)^{2} + r^{5}\\right)} {\\mu}} \\\\ \\Gamma_{ \\phantom{\\, t} \\, t \\, {\\theta} }^{ \\, t \\phantom{\\, t} \\phantom{\\, {\\theta}} } & = & -\\frac{2 \\, a^{2} r {\\mu} \\cos\\left({\\theta}\\right) \\sin\\left({\\theta}\\right)}{a^{4} \\cos\\left({\\theta}\\right)^{4} + 2 \\, a^{2} r^{2} \\cos\\left({\\theta}\\right)^{2} + r^{4}} \\\\ \\Gamma_{ \\phantom{\\, t} \\, r \\, {\\phi} }^{ \\, t \\phantom{\\, r} \\phantom{\\, {\\phi}} } & = & -\\frac{{\\left(a^{3} r^{2} + 3 \\, a r^{4} + {\\left(a^{5} - a^{3} r^{2}\\right)} \\cos\\left({\\theta}\\right)^{4} - {\\left(a^{5} + 3 \\, a r^{4}\\right)} \\cos\\left({\\theta}\\right)^{2}\\right)} {\\mu}}{a^{2} r^{4} + r^{6} + {\\left(a^{6} + a^{4} r^{2}\\right)} \\cos\\left({\\theta}\\right)^{4} + 2 \\, {\\left(a^{4} r^{2} + a^{2} r^{4}\\right)} \\cos\\left({\\theta}\\right)^{2} - 2 \\, {\\left(a^{4} r \\cos\\left({\\theta}\\right)^{4} + 2 \\, a^{2} r^{3} \\cos\\left({\\theta}\\right)^{2} + r^{5}\\right)} {\\mu}} \\\\ \\Gamma_{ \\phantom{\\, t} \\, {\\theta} \\, {\\phi} }^{ \\, t \\phantom{\\, {\\theta}} \\phantom{\\, {\\phi}} } & = & -\\frac{2 \\, {\\left(a^{5} r \\cos\\left({\\theta}\\right) \\sin\\left({\\theta}\\right)^{5} - {\\left(a^{5} r + a^{3} r^{3}\\right)} \\cos\\left({\\theta}\\right) \\sin\\left({\\theta}\\right)^{3}\\right)} {\\mu}}{a^{6} \\cos\\left({\\theta}\\right)^{6} + 3 \\, a^{4} r^{2} \\cos\\left({\\theta}\\right)^{4} + 3 \\, a^{2} r^{4} \\cos\\left({\\theta}\\right)^{2} + r^{6}} \\\\ \\Gamma_{ \\phantom{\\, r} \\, t \\, t }^{ \\, r \\phantom{\\, t} \\phantom{\\, t} } & = & \\frac{2 \\, {\\left(a^{2} r \\cos\\left({\\theta}\\right)^{2} - r^{3}\\right)} {\\mu}^{2} + {\\left(a^{2} r^{2} + r^{4} - {\\left(a^{4} + a^{2} r^{2}\\right)} \\cos\\left({\\theta}\\right)^{2}\\right)} {\\mu}}{a^{6} \\cos\\left({\\theta}\\right)^{6} + 3 \\, a^{4} r^{2} \\cos\\left({\\theta}\\right)^{4} + 3 \\, a^{2} r^{4} \\cos\\left({\\theta}\\right)^{2} + r^{6}} \\\\ \\Gamma_{ \\phantom{\\, r} \\, t \\, {\\phi} }^{ \\, r \\phantom{\\, t} \\phantom{\\, {\\phi}} } & = & -\\frac{2 \\, {\\left(a^{3} r \\cos\\left({\\theta}\\right)^{2} - a r^{3}\\right)} {\\mu}^{2} \\sin\\left({\\theta}\\right)^{2} + {\\left(a^{3} r^{2} + a r^{4} - {\\left(a^{5} + a^{3} r^{2}\\right)} \\cos\\left({\\theta}\\right)^{2}\\right)} {\\mu} \\sin\\left({\\theta}\\right)^{2}}{a^{6} \\cos\\left({\\theta}\\right)^{6} + 3 \\, a^{4} r^{2} \\cos\\left({\\theta}\\right)^{4} + 3 \\, a^{2} r^{4} \\cos\\left({\\theta}\\right)^{2} + r^{6}} \\\\ \\Gamma_{ \\phantom{\\, r} \\, r \\, r }^{ \\, r \\phantom{\\, r} \\phantom{\\, r} } & = & -\\frac{a^{2} r \\cos\\left({\\theta}\\right)^{2} - a^{2} r - {\\left(a^{2} \\cos\\left({\\theta}\\right)^{2} - r^{2}\\right)} {\\mu}}{a^{2} r^{2} + r^{4} + {\\left(a^{4} + a^{2} r^{2}\\right)} \\cos\\left({\\theta}\\right)^{2} - 2 \\, {\\left(a^{2} r \\cos\\left({\\theta}\\right)^{2} + r^{3}\\right)} {\\mu}} \\\\ \\Gamma_{ \\phantom{\\, r} \\, r \\, {\\theta} }^{ \\, r \\phantom{\\, r} \\phantom{\\, {\\theta}} } & = & -\\frac{a^{2} \\cos\\left({\\theta}\\right) \\sin\\left({\\theta}\\right)}{a^{2} \\cos\\left({\\theta}\\right)^{2} + r^{2}} \\\\ \\Gamma_{ \\phantom{\\, r} \\, {\\theta} \\, {\\theta} }^{ \\, r \\phantom{\\, {\\theta}} \\phantom{\\, {\\theta}} } & = & -\\frac{a^{2} r + r^{3} - 2 \\, r^{2} {\\mu}}{a^{2} \\cos\\left({\\theta}\\right)^{2} + r^{2}} \\\\ \\Gamma_{ \\phantom{\\, r} \\, {\\phi} \\, {\\phi} }^{ \\, r \\phantom{\\, {\\phi}} \\phantom{\\, {\\phi}} } & = & -\\frac{{\\left(a^{6} r + a^{4} r^{3}\\right)} \\sin\\left({\\theta}\\right)^{6} - 2 \\, {\\left(a^{6} r + 2 \\, a^{4} r^{3} + a^{2} r^{5}\\right)} \\sin\\left({\\theta}\\right)^{4} + 2 \\, {\\left(a^{4} r \\sin\\left({\\theta}\\right)^{6} - {\\left(a^{4} r - a^{2} r^{3}\\right)} \\sin\\left({\\theta}\\right)^{4}\\right)} {\\mu}^{2} + {\\left(a^{6} r + 3 \\, a^{4} r^{3} + 3 \\, a^{2} r^{5} + r^{7}\\right)} \\sin\\left({\\theta}\\right)^{2} - {\\left({\\left(a^{6} + 3 \\, a^{4} r^{2}\\right)} \\sin\\left({\\theta}\\right)^{6} - {\\left(a^{6} + 4 \\, a^{4} r^{2} + 3 \\, a^{2} r^{4}\\right)} \\sin\\left({\\theta}\\right)^{4} + 2 \\, {\\left(a^{4} r^{2} + 2 \\, a^{2} r^{4} + r^{6}\\right)} \\sin\\left({\\theta}\\right)^{2}\\right)} {\\mu}}{a^{6} \\cos\\left({\\theta}\\right)^{6} + 3 \\, a^{4} r^{2} \\cos\\left({\\theta}\\right)^{4} + 3 \\, a^{2} r^{4} \\cos\\left({\\theta}\\right)^{2} + r^{6}} \\\\ \\Gamma_{ \\phantom{\\, {\\theta}} \\, t \\, t }^{ \\, {\\theta} \\phantom{\\, t} \\phantom{\\, t} } & = & -\\frac{2 \\, a^{2} r {\\mu} \\cos\\left({\\theta}\\right) \\sin\\left({\\theta}\\right)}{a^{6} \\cos\\left({\\theta}\\right)^{6} + 3 \\, a^{4} r^{2} \\cos\\left({\\theta}\\right)^{4} + 3 \\, a^{2} r^{4} \\cos\\left({\\theta}\\right)^{2} + r^{6}} \\\\ \\Gamma_{ \\phantom{\\, {\\theta}} \\, t \\, {\\phi} }^{ \\, {\\theta} \\phantom{\\, t} \\phantom{\\, {\\phi}} } & = & \\frac{2 \\, {\\left(a^{3} r + a r^{3}\\right)} {\\mu} \\cos\\left({\\theta}\\right) \\sin\\left({\\theta}\\right)}{a^{6} \\cos\\left({\\theta}\\right)^{6} + 3 \\, a^{4} r^{2} \\cos\\left({\\theta}\\right)^{4} + 3 \\, a^{2} r^{4} \\cos\\left({\\theta}\\right)^{2} + r^{6}} \\\\ \\Gamma_{ \\phantom{\\, {\\theta}} \\, r \\, r }^{ \\, {\\theta} \\phantom{\\, r} \\phantom{\\, r} } & = & \\frac{a^{2} \\cos\\left({\\theta}\\right) \\sin\\left({\\theta}\\right)}{a^{2} r^{2} + r^{4} + {\\left(a^{4} + a^{2} r^{2}\\right)} \\cos\\left({\\theta}\\right)^{2} - 2 \\, {\\left(a^{2} r \\cos\\left({\\theta}\\right)^{2} + r^{3}\\right)} {\\mu}} \\\\ \\Gamma_{ \\phantom{\\, {\\theta}} \\, r \\, {\\theta} }^{ \\, {\\theta} \\phantom{\\, r} \\phantom{\\, {\\theta}} } & = & \\frac{r}{a^{2} \\cos\\left({\\theta}\\right)^{2} + r^{2}} \\\\ \\Gamma_{ \\phantom{\\, {\\theta}} \\, {\\theta} \\, {\\theta} }^{ \\, {\\theta} \\phantom{\\, {\\theta}} \\phantom{\\, {\\theta}} } & = & -\\frac{a^{2} \\cos\\left({\\theta}\\right) \\sin\\left({\\theta}\\right)}{a^{2} \\cos\\left({\\theta}\\right)^{2} + r^{2}} \\\\ \\Gamma_{ \\phantom{\\, {\\theta}} \\, {\\phi} \\, {\\phi} }^{ \\, {\\theta} \\phantom{\\, {\\phi}} \\phantom{\\, {\\phi}} } & = & \\frac{2 \\, {\\left(a^{4} r \\cos\\left({\\theta}\\right)^{5} + 2 \\, a^{2} r^{3} \\cos\\left({\\theta}\\right)^{3} - {\\left(a^{4} r + 2 \\, a^{2} r^{3}\\right)} \\cos\\left({\\theta}\\right)\\right)} {\\mu} \\sin\\left({\\theta}\\right) - {\\left({\\left(a^{6} + a^{4} r^{2}\\right)} \\cos\\left({\\theta}\\right)^{5} + 2 \\, {\\left(a^{4} r^{2} + a^{2} r^{4}\\right)} \\cos\\left({\\theta}\\right)^{3} + {\\left(a^{2} r^{4} + r^{6}\\right)} \\cos\\left({\\theta}\\right)\\right)} \\sin\\left({\\theta}\\right)}{a^{6} \\cos\\left({\\theta}\\right)^{6} + 3 \\, a^{4} r^{2} \\cos\\left({\\theta}\\right)^{4} + 3 \\, a^{2} r^{4} \\cos\\left({\\theta}\\right)^{2} + r^{6}} \\\\ \\Gamma_{ \\phantom{\\, {\\phi}} \\, t \\, r }^{ \\, {\\phi} \\phantom{\\, t} \\phantom{\\, r} } & = & -\\frac{{\\left(a^{3} \\cos\\left({\\theta}\\right)^{2} - a r^{2}\\right)} {\\mu}}{a^{2} r^{4} + r^{6} + {\\left(a^{6} + a^{4} r^{2}\\right)} \\cos\\left({\\theta}\\right)^{4} + 2 \\, {\\left(a^{4} r^{2} + a^{2} r^{4}\\right)} \\cos\\left({\\theta}\\right)^{2} - 2 \\, {\\left(a^{4} r \\cos\\left({\\theta}\\right)^{4} + 2 \\, a^{2} r^{3} \\cos\\left({\\theta}\\right)^{2} + r^{5}\\right)} {\\mu}} \\\\ \\Gamma_{ \\phantom{\\, {\\phi}} \\, t \\, {\\theta} }^{ \\, {\\phi} \\phantom{\\, t} \\phantom{\\, {\\theta}} } & = & -\\frac{2 \\, a r {\\mu} \\cos\\left({\\theta}\\right)}{{\\left(a^{4} \\cos\\left({\\theta}\\right)^{4} + 2 \\, a^{2} r^{2} \\cos\\left({\\theta}\\right)^{2} + r^{4}\\right)} \\sin\\left({\\theta}\\right)} \\\\ \\Gamma_{ \\phantom{\\, {\\phi}} \\, r \\, {\\phi} }^{ \\, {\\phi} \\phantom{\\, r} \\phantom{\\, {\\phi}} } & = & \\frac{a^{4} r \\cos\\left({\\theta}\\right)^{4} + 2 \\, a^{2} r^{3} \\cos\\left({\\theta}\\right)^{2} + r^{5} - {\\left(a^{4} \\cos\\left({\\theta}\\right)^{4} + a^{2} r^{2} + 2 \\, r^{4} - {\\left(a^{4} - a^{2} r^{2}\\right)} \\cos\\left({\\theta}\\right)^{2}\\right)} {\\mu}}{a^{2} r^{4} + r^{6} + {\\left(a^{6} + a^{4} r^{2}\\right)} \\cos\\left({\\theta}\\right)^{4} + 2 \\, {\\left(a^{4} r^{2} + a^{2} r^{4}\\right)} \\cos\\left({\\theta}\\right)^{2} - 2 \\, {\\left(a^{4} r \\cos\\left({\\theta}\\right)^{4} + 2 \\, a^{2} r^{3} \\cos\\left({\\theta}\\right)^{2} + r^{5}\\right)} {\\mu}} \\\\ \\Gamma_{ \\phantom{\\, {\\phi}} \\, {\\theta} \\, {\\phi} }^{ \\, {\\phi} \\phantom{\\, {\\theta}} \\phantom{\\, {\\phi}} } & = & \\frac{a^{4} \\cos\\left({\\theta}\\right)^{5} + 2 \\, a^{2} r^{2} \\cos\\left({\\theta}\\right)^{3} + r^{4} \\cos\\left({\\theta}\\right) - 2 \\, {\\left(a^{2} r \\cos\\left({\\theta}\\right)^{3} - a^{2} r \\cos\\left({\\theta}\\right)\\right)} {\\mu}}{{\\left(a^{4} \\cos\\left({\\theta}\\right)^{4} + 2 \\, a^{2} r^{2} \\cos\\left({\\theta}\\right)^{2} + r^{4}\\right)} \\sin\\left({\\theta}\\right)} \\end{array}</script></html>"
      ],
      "text/plain": [
       "Gam^t_t,r = -(a^4 - r^4 - (a^4 + a^2*r^2)*sin(th)^2)*u/(a^2*r^4 + r^6 + (a^6 + a^4*r^2)*cos(th)^4 + 2*(a^4*r^2 + a^2*r^4)*cos(th)^2 - 2*(a^4*r*cos(th)^4 + 2*a^2*r^3*cos(th)^2 + r^5)*u) \n",
       "Gam^t_t,th = -2*a^2*r*u*cos(th)*sin(th)/(a^4*cos(th)^4 + 2*a^2*r^2*cos(th)^2 + r^4) \n",
       "Gam^t_r,ph = -(a^3*r^2 + 3*a*r^4 + (a^5 - a^3*r^2)*cos(th)^4 - (a^5 + 3*a*r^4)*cos(th)^2)*u/(a^2*r^4 + r^6 + (a^6 + a^4*r^2)*cos(th)^4 + 2*(a^4*r^2 + a^2*r^4)*cos(th)^2 - 2*(a^4*r*cos(th)^4 + 2*a^2*r^3*cos(th)^2 + r^5)*u) \n",
       "Gam^t_th,ph = -2*(a^5*r*cos(th)*sin(th)^5 - (a^5*r + a^3*r^3)*cos(th)*sin(th)^3)*u/(a^6*cos(th)^6 + 3*a^4*r^2*cos(th)^4 + 3*a^2*r^4*cos(th)^2 + r^6) \n",
       "Gam^r_t,t = (2*(a^2*r*cos(th)^2 - r^3)*u^2 + (a^2*r^2 + r^4 - (a^4 + a^2*r^2)*cos(th)^2)*u)/(a^6*cos(th)^6 + 3*a^4*r^2*cos(th)^4 + 3*a^2*r^4*cos(th)^2 + r^6) \n",
       "Gam^r_t,ph = -(2*(a^3*r*cos(th)^2 - a*r^3)*u^2*sin(th)^2 + (a^3*r^2 + a*r^4 - (a^5 + a^3*r^2)*cos(th)^2)*u*sin(th)^2)/(a^6*cos(th)^6 + 3*a^4*r^2*cos(th)^4 + 3*a^2*r^4*cos(th)^2 + r^6) \n",
       "Gam^r_r,r = -(a^2*r*cos(th)^2 - a^2*r - (a^2*cos(th)^2 - r^2)*u)/(a^2*r^2 + r^4 + (a^4 + a^2*r^2)*cos(th)^2 - 2*(a^2*r*cos(th)^2 + r^3)*u) \n",
       "Gam^r_r,th = -a^2*cos(th)*sin(th)/(a^2*cos(th)^2 + r^2) \n",
       "Gam^r_th,th = -(a^2*r + r^3 - 2*r^2*u)/(a^2*cos(th)^2 + r^2) \n",
       "Gam^r_ph,ph = -((a^6*r + a^4*r^3)*sin(th)^6 - 2*(a^6*r + 2*a^4*r^3 + a^2*r^5)*sin(th)^4 + 2*(a^4*r*sin(th)^6 - (a^4*r - a^2*r^3)*sin(th)^4)*u^2 + (a^6*r + 3*a^4*r^3 + 3*a^2*r^5 + r^7)*sin(th)^2 - ((a^6 + 3*a^4*r^2)*sin(th)^6 - (a^6 + 4*a^4*r^2 + 3*a^2*r^4)*sin(th)^4 + 2*(a^4*r^2 + 2*a^2*r^4 + r^6)*sin(th)^2)*u)/(a^6*cos(th)^6 + 3*a^4*r^2*cos(th)^4 + 3*a^2*r^4*cos(th)^2 + r^6) \n",
       "Gam^th_t,t = -2*a^2*r*u*cos(th)*sin(th)/(a^6*cos(th)^6 + 3*a^4*r^2*cos(th)^4 + 3*a^2*r^4*cos(th)^2 + r^6) \n",
       "Gam^th_t,ph = 2*(a^3*r + a*r^3)*u*cos(th)*sin(th)/(a^6*cos(th)^6 + 3*a^4*r^2*cos(th)^4 + 3*a^2*r^4*cos(th)^2 + r^6) \n",
       "Gam^th_r,r = a^2*cos(th)*sin(th)/(a^2*r^2 + r^4 + (a^4 + a^2*r^2)*cos(th)^2 - 2*(a^2*r*cos(th)^2 + r^3)*u) \n",
       "Gam^th_r,th = r/(a^2*cos(th)^2 + r^2) \n",
       "Gam^th_th,th = -a^2*cos(th)*sin(th)/(a^2*cos(th)^2 + r^2) \n",
       "Gam^th_ph,ph = (2*(a^4*r*cos(th)^5 + 2*a^2*r^3*cos(th)^3 - (a^4*r + 2*a^2*r^3)*cos(th))*u*sin(th) - ((a^6 + a^4*r^2)*cos(th)^5 + 2*(a^4*r^2 + a^2*r^4)*cos(th)^3 + (a^2*r^4 + r^6)*cos(th))*sin(th))/(a^6*cos(th)^6 + 3*a^4*r^2*cos(th)^4 + 3*a^2*r^4*cos(th)^2 + r^6) \n",
       "Gam^ph_t,r = -(a^3*cos(th)^2 - a*r^2)*u/(a^2*r^4 + r^6 + (a^6 + a^4*r^2)*cos(th)^4 + 2*(a^4*r^2 + a^2*r^4)*cos(th)^2 - 2*(a^4*r*cos(th)^4 + 2*a^2*r^3*cos(th)^2 + r^5)*u) \n",
       "Gam^ph_t,th = -2*a*r*u*cos(th)/((a^4*cos(th)^4 + 2*a^2*r^2*cos(th)^2 + r^4)*sin(th)) \n",
       "Gam^ph_r,ph = (a^4*r*cos(th)^4 + 2*a^2*r^3*cos(th)^2 + r^5 - (a^4*cos(th)^4 + a^2*r^2 + 2*r^4 - (a^4 - a^2*r^2)*cos(th)^2)*u)/(a^2*r^4 + r^6 + (a^6 + a^4*r^2)*cos(th)^4 + 2*(a^4*r^2 + a^2*r^4)*cos(th)^2 - 2*(a^4*r*cos(th)^4 + 2*a^2*r^3*cos(th)^2 + r^5)*u) \n",
       "Gam^ph_th,ph = (a^4*cos(th)^5 + 2*a^2*r^2*cos(th)^3 + r^4*cos(th) - 2*(a^2*r*cos(th)^3 - a^2*r*cos(th))*u)/((a^4*cos(th)^4 + 2*a^2*r^2*cos(th)^2 + r^4)*sin(th)) "
      ]
     },
     "execution_count": 9,
     "metadata": {},
     "output_type": "execute_result"
    }
   ],
   "source": [
    "g.christoffel_symbols_display()"
   ]
  },
  {
   "cell_type": "code",
   "execution_count": 10,
   "metadata": {},
   "outputs": [],
   "source": [
    "R = g.riemann()"
   ]
  },
  {
   "cell_type": "code",
   "execution_count": 31,
   "metadata": {
    "scrolled": true
   },
   "outputs": [],
   "source": [
    "rim_latex = open('riemann_sage.txt', 'w')\n",
    "\n",
    "for i in range(n):\n",
    "    for j in range(n):\n",
    "        for k in range(n):\n",
    "            for l in range(n):\n",
    "                    if R[i, j, k, l] != 0:\n",
    "                        rim = R[i, j, k, l]\n",
    "                        \n",
    "                        rim_latex.write(str(i) + ';' + str(j) + ';' + str(k) + ';' + str(l) + ';' + '\"' + str(rim) + '\"' + '\\n')\n",
    "                        #rim_latex.write(latex(rim) + '\\n')\n",
    "                        \n",
    "                       #display([i, j, k, l], rim)\n",
    "                        \n",
    "rim_latex.close()"
   ]
  },
  {
   "cell_type": "code",
   "execution_count": 12,
   "metadata": {},
   "outputs": [],
   "source": [
    "Ric = g.ricci()"
   ]
  },
  {
   "cell_type": "code",
   "execution_count": 13,
   "metadata": {},
   "outputs": [
    {
     "data": {
      "text/html": [
       "<html><script type=\"math/tex; mode=display\">\\newcommand{\\Bold}[1]{\\mathbf{#1}}\\left(\\begin{array}{rrrr}\n",
       "0 & 0 & 0 & 0 \\\\\n",
       "0 & 0 & 0 & 0 \\\\\n",
       "0 & 0 & 0 & 0 \\\\\n",
       "0 & 0 & 0 & 0\n",
       "\\end{array}\\right)</script></html>"
      ],
      "text/plain": [
       "[0 0 0 0]\n",
       "[0 0 0 0]\n",
       "[0 0 0 0]\n",
       "[0 0 0 0]"
      ]
     },
     "execution_count": 13,
     "metadata": {},
     "output_type": "execute_result"
    }
   ],
   "source": [
    "Ric[:]"
   ]
  },
  {
   "cell_type": "code",
   "execution_count": 14,
   "metadata": {},
   "outputs": [],
   "source": [
    "dR = R.down(g)"
   ]
  },
  {
   "cell_type": "code",
   "execution_count": 15,
   "metadata": {},
   "outputs": [],
   "source": [
    "uR = R.up(g)"
   ]
  },
  {
   "cell_type": "code",
   "execution_count": null,
   "metadata": {},
   "outputs": [],
   "source": [
    "Kr_scalar = uR['^ijkl']*dR['_ijkl']"
   ]
  },
  {
   "cell_type": "code",
   "execution_count": null,
   "metadata": {},
   "outputs": [],
   "source": [
    "Kr = Kr_scalar.coord_function()\n",
    "Kr.factor()"
   ]
  },
  {
   "cell_type": "code",
   "execution_count": null,
   "metadata": {},
   "outputs": [],
   "source": [
    "Kr_KN = 8/(r^2+(a*cos(th))^2)^6 *(6*u^2*(r^6 - 15*r^4*(a*cos(th))^2 + 15*r^2*(a*cos(th))^4 - (a*cos(th))^6)- 12*u*q^2*r*(r^4 - 10*(a*r*cos(th))^2 + 5*(a*cos(th))^4) + q^4*(7*r^4 - 34*(a*r*cos(th))^2 + 7*(a*cos(th))^4))"
   ]
  },
  {
   "cell_type": "code",
   "execution_count": null,
   "metadata": {},
   "outputs": [],
   "source": [
    "Kr == Kr_KN.subs(q = 0)"
   ]
  },
  {
   "cell_type": "code",
   "execution_count": null,
   "metadata": {},
   "outputs": [],
   "source": []
  }
 ],
 "metadata": {
  "kernelspec": {
   "display_name": "SageMath 8.9",
   "language": "sage",
   "name": "sagemath"
  },
  "language_info": {
   "codemirror_mode": {
    "name": "ipython",
    "version": 3
   },
   "file_extension": ".py",
   "mimetype": "text/x-python",
   "name": "python",
   "nbconvert_exporter": "python",
   "pygments_lexer": "ipython3",
   "version": "3.7.3"
  }
 },
 "nbformat": 4,
 "nbformat_minor": 1
}
