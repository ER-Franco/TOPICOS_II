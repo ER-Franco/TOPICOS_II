{
 "cells": [
  {
   "cell_type": "code",
   "execution_count": 1,
   "metadata": {},
   "outputs": [],
   "source": [
    "import sympy as sp\n",
    "import einsteinpy.symbolic as gr\n",
    "sp.init_printing()"
   ]
  },
  {
   "cell_type": "code",
   "execution_count": 2,
   "metadata": {},
   "outputs": [],
   "source": [
    "t, r, th, ph = sp.symbols('t, r, theta, phi')\n",
    "u, a, c = sp.symbols('mu, a, c')\n",
    "rhox, Dx, Ex = sp.symbols('rho, Delta, Sigma')\n",
    "\n",
    "rho_sq = r**2 + a**2*(sp.cos(th))**2\n",
    "D = r**2 - 2*u*r + a**2\n",
    "E_sq = (r**2 + a**2)**2 - a**2*D*(sp.sin(th))**2\n",
    "\n",
    "n = 4"
   ]
  },
  {
   "cell_type": "markdown",
   "metadata": {},
   "source": [
    "## Métrica"
   ]
  },
  {
   "cell_type": "code",
   "execution_count": 4,
   "metadata": {},
   "outputs": [
    {
     "data": {
      "image/png": "[encoded data removed]",
      "text/latex": [
       "$\\displaystyle \\left[\\begin{matrix}\\frac{a^{2} \\cos^{2}{\\left(\\theta \\right)} - 2 \\mu r + r^{2}}{a^{2} \\cos^{2}{\\left(\\theta \\right)} + r^{2}} & 0 & 0 & \\frac{2 a \\mu r \\sin^{2}{\\left(\\theta \\right)}}{a^{2} \\cos^{2}{\\left(\\theta \\right)} + r^{2}}\\\\0 & \\frac{- a^{2} \\cos^{2}{\\left(\\theta \\right)} - r^{2}}{a^{2} - 2 \\mu r + r^{2}} & 0 & 0\\\\0 & 0 & - a^{2} \\cos^{2}{\\left(\\theta \\right)} - r^{2} & 0\\\\\\frac{2 a \\mu r \\sin^{2}{\\left(\\theta \\right)}}{a^{2} \\cos^{2}{\\left(\\theta \\right)} + r^{2}} & 0 & 0 & \\frac{\\left(a^{2} \\left(a^{2} - 2 \\mu r + r^{2}\\right) \\sin^{2}{\\left(\\theta \\right)} - \\left(a^{2} + r^{2}\\right)^{2}\\right) \\sin^{2}{\\left(\\theta \\right)}}{a^{2} \\cos^{2}{\\left(\\theta \\right)} + r^{2}}\\end{matrix}\\right]$"
      ],
      "text/plain": [
       "⎡ 2    2               2                                                      \n",
       "⎢a ⋅cos (θ) - 2⋅μ⋅r + r                                                       \n",
       "⎢───────────────────────          0                  0                        \n",
       "⎢     2    2       2                                                          \n",
       "⎢    a ⋅cos (θ) + r                                                           \n",
       "⎢                                                                             \n",
       "⎢                            2    2       2                                   \n",
       "⎢                         - a ⋅cos (θ) - r                                    \n",
       "⎢           0             ─────────────────          0                        \n",
       "⎢                           2            2                                    \n",
       "⎢                          a  - 2⋅μ⋅r + r                                     \n",
       "⎢                                                                             \n",
       "⎢                                               2    2       2                \n",
       "⎢           0                     0          - a ⋅cos (θ) - r                 \n",
       "⎢                                                                             \n",
       "⎢                                                               ⎛             \n",
       "⎢               2                                               ⎜ 2 ⎛ 2       \n",
       "⎢    2⋅a⋅μ⋅r⋅sin (θ)                                            ⎝a ⋅⎝a  - 2⋅μ⋅\n",
       "⎢    ───────────────              0                  0          ──────────────\n",
       "⎢     2    2       2                                                          \n",
       "⎣    a ⋅cos (θ) + r                                                           \n",
       "\n",
       "               2                     ⎤\n",
       "    2⋅a⋅μ⋅r⋅sin (θ)                  ⎥\n",
       "    ───────────────                  ⎥\n",
       "     2    2       2                  ⎥\n",
       "    a ⋅cos (θ) + r                   ⎥\n",
       "                                     ⎥\n",
       "                                     ⎥\n",
       "                                     ⎥\n",
       "           0                         ⎥\n",
       "                                     ⎥\n",
       "                                     ⎥\n",
       "                                     ⎥\n",
       "                                     ⎥\n",
       "           0                         ⎥\n",
       "                                     ⎥\n",
       "                           2⎞        ⎥\n",
       "     2⎞    2      ⎛ 2    2⎞ ⎟    2   ⎥\n",
       "r + r ⎠⋅sin (θ) - ⎝a  + r ⎠ ⎠⋅sin (θ)⎥\n",
       "─────────────────────────────────────⎥\n",
       "     2    2       2                  ⎥\n",
       "    a ⋅cos (θ) + r                   ⎦"
      ]
     },
     "execution_count": 4,
     "metadata": {},
     "output_type": "execute_result"
    }
   ],
   "source": [
    "metric = [[0 for i in range(4)] for i in range(4)]\n",
    "\n",
    "metric[0][0] = sp.simplify((D - a**2*(sp.sin(th))**2)/rho_sq)\n",
    "metric[0][3] = sp.simplify(2*u*a*r*(sp.sin(th))**2/rho_sq)\n",
    "metric[1][1] = -rho_sq/D\n",
    "metric[2][2] = -rho_sq\n",
    "metric[3][0] = sp.simplify(2*u*a*r*(sp.sin(th))**2/rho_sq)\n",
    "metric[3][3] = sp.simplify(-E_sq*(sp.sin(th))**2/rho_sq)\n",
    "\n",
    "coord = [t, r, th, ph]\n",
    "metric_gr = gr.MetricTensor(metric, coord)\n",
    "\n",
    "metric_gr.tensor()"
   ]
  },
  {
   "cell_type": "code",
   "execution_count": 4,
   "metadata": {},
   "outputs": [],
   "source": [
    "def subsx(exp, extra = False):\n",
    "    exp = exp.simplify() \n",
    "    exp = sp.factor(exp)\n",
    "    exp = exp.subs(Ex**2*(Dx - a**2*(sp.sin(th))**2) + 4*a**2*u**2*r**2*(sp.sin(th))**2, Dx*rhox**4)\n",
    "    exp = exp.subs(Dx*Ex**2 - Ex**2*a**2*(sp.sin(th))**2 + 4*a**2*u**2*r**2*(sp.sin(th))**2, Dx*rhox**4)\n",
    "    exp = exp.subs(2*Dx*Ex**2 - Ex**2*a**2*(sp.sin(th))**2 + 4*a**2*u**2*r**2*(sp.sin(th))**2, Dx*(rhox**4 + Ex**2))\n",
    "    exp = exp.subs(3*Dx*Ex**2 - Ex**2*a**2*(sp.sin(th))**2 + 4*a**2*u**2*r**2*(sp.sin(th))**2, Dx*(rhox**4 + 2*Ex**2))\n",
    "    #exp = exp.subs(a**2*(sp.sin(th))**2, rho**2 + 2*u*r - D**2)\n",
    "    return exp"
   ]
  },
  {
   "cell_type": "code",
   "execution_count": null,
   "metadata": {},
   "outputs": [],
   "source": [
    "metricx = subsx(metric_gr)\n",
    "\n",
    "metricx.tensor()"
   ]
  },
  {
   "cell_type": "code",
   "execution_count": null,
   "metadata": {},
   "outputs": [],
   "source": [
    "g_latex = open('metrica.txt', 'w')\n",
    "\n",
    "for i in range(n):\n",
    "    for j in range(i, n):\n",
    "        if metricx[i, j] != 0:\n",
    "            g_latex.write(str(i) + str(j) + '\\n')\n",
    "            g_latex.write(sp.latex(metricx[i, j]) + '\\n')\n",
    "\n",
    "g_latex.close()"
   ]
  },
  {
   "cell_type": "markdown",
   "metadata": {},
   "source": [
    "## Métrica inversa $g^{\\mu \\nu}$"
   ]
  },
  {
   "cell_type": "code",
   "execution_count": null,
   "metadata": {},
   "outputs": [],
   "source": [
    "inv = metric_gr.inv()"
   ]
  },
  {
   "cell_type": "code",
   "execution_count": null,
   "metadata": {},
   "outputs": [],
   "source": [
    "invx = subsx(inv)\n",
    "\n",
    "invx.tensor()"
   ]
  },
  {
   "cell_type": "markdown",
   "metadata": {},
   "source": [
    "## Christoffel"
   ]
  },
  {
   "cell_type": "code",
   "execution_count": null,
   "metadata": {},
   "outputs": [],
   "source": [
    "chris = gr.ChristoffelSymbols.from_metric(metric_gr)"
   ]
  },
  {
   "cell_type": "code",
   "execution_count": 1,
   "metadata": {},
   "outputs": [
    {
     "ename": "NameError",
     "evalue": "name 'subsx' is not defined",
     "output_type": "error",
     "traceback": [
      "\u001b[0;31m---------------------------------------------------------------------------\u001b[0m",
      "\u001b[0;31mNameError\u001b[0m                                 Traceback (most recent call last)",
      "\u001b[0;32m<ipython-input-1-dab0f67cd6f8>\u001b[0m in \u001b[0;36m<module>\u001b[0;34m()\u001b[0m\n\u001b[0;32m----> 1\u001b[0;31m \u001b[0mchrx\u001b[0m \u001b[0;34m=\u001b[0m \u001b[0msubsx\u001b[0m\u001b[0;34m(\u001b[0m\u001b[0mchris\u001b[0m\u001b[0;34m)\u001b[0m\u001b[0;34m\u001b[0m\u001b[0;34m\u001b[0m\u001b[0m\n\u001b[0m\u001b[1;32m      2\u001b[0m \u001b[0;34m\u001b[0m\u001b[0m\n\u001b[1;32m      3\u001b[0m \u001b[0mchr_latex\u001b[0m \u001b[0;34m=\u001b[0m \u001b[0mopen\u001b[0m\u001b[0;34m(\u001b[0m\u001b[0;34m'christoffel.txt'\u001b[0m\u001b[0;34m,\u001b[0m \u001b[0;34m'w'\u001b[0m\u001b[0;34m)\u001b[0m\u001b[0;34m\u001b[0m\u001b[0;34m\u001b[0m\u001b[0m\n\u001b[1;32m      4\u001b[0m \u001b[0;34m\u001b[0m\u001b[0m\n\u001b[1;32m      5\u001b[0m \u001b[0;32mfor\u001b[0m \u001b[0mi\u001b[0m \u001b[0;32min\u001b[0m \u001b[0mrange\u001b[0m\u001b[0;34m(\u001b[0m\u001b[0mn\u001b[0m\u001b[0;34m)\u001b[0m\u001b[0;34m:\u001b[0m\u001b[0;34m\u001b[0m\u001b[0;34m\u001b[0m\u001b[0m\n",
      "\u001b[0;31mNameError\u001b[0m: name 'subsx' is not defined"
     ]
    }
   ],
   "source": [
    "chrx = subsx(chris)\n",
    "\n",
    "chr_latex = open('christoffel.txt', 'w')\n",
    "\n",
    "for i in range(n):\n",
    "    for j in range(n):\n",
    "        for k in range(j, n):\n",
    "            if chrx[i, j, k] != 0:\n",
    "                chrxpr = sp.simplify(chrx[i, j, k])\n",
    "                #chrxpr = chrxpr.subs(rho**2 - 2*u*r, D - a**2*(sp.sin(th))**2)\n",
    "                chrxpr = chrxpr.ratsimp().cancel().factor().trigsimp()\n",
    "                chrxpx = sp.collect(chrxpr, (sp.sin(th))**2)\n",
    "                \n",
    "                chr_latex.write(str(i) + str(j) + str(k) + '\\n')\n",
    "                chr_latex.write(sp.latex(chrxpr) + '\\n')\n",
    "                \n",
    "                display([i, j, k], chrxpr)\n",
    "                \n",
    "chr_latex.close()"
   ]
  },
  {
   "cell_type": "markdown",
   "metadata": {},
   "source": [
    "# Riemann"
   ]
  },
  {
   "cell_type": "code",
   "execution_count": null,
   "metadata": {},
   "outputs": [],
   "source": [
    "#rie = gr.RiemannCurvatureTensor.from_christoffels(chris)"
   ]
  },
  {
   "cell_type": "code",
   "execution_count": null,
   "metadata": {},
   "outputs": [],
   "source": [
    "for i in range(n):\n",
    "    for j in range(n):\n",
    "        for k in range(n):\n",
    "            if j != k:\n",
    "                if rie[i, j, k] != 0:\n",
    "                    riex = sp.simplify(chris[i, j, k].subs([(r**2 + a**2*(sp.cos(theta))**2, rhox), (r**2 - 2*u*r + a**2, Dx)]))\n",
    "                    riex = chrisx.subs((r**2 + a**2)**2 - a**2*Dx*(sp.sin(theta))**2, Ex)\n",
    "                    #chrisx = \n",
    "                    riex = chrisx.ratsimp().cancel()\n",
    "                    riex = chrisx.factor()\n",
    "\n",
    "                    display([i, j, k], riex)"
   ]
  },
  {
   "cell_type": "code",
   "execution_count": 8,
   "metadata": {},
   "outputs": [
    {
     "data": {
      "image/png": "[encoded data removed]",
      "text/latex": [
       "$\\displaystyle \\left(a^{2} \\cos^{2}{\\left(\\theta \\right)} + r^{2}\\right)^{2} \\left(a^{2} - 2 \\mu r + r^{2}\\right)$"
      ],
      "text/plain": [
       "                 2                  \n",
       "⎛ 2    2       2⎞  ⎛ 2            2⎞\n",
       "⎝a ⋅cos (θ) + r ⎠ ⋅⎝a  - 2⋅μ⋅r + r ⎠"
      ]
     },
     "execution_count": 8,
     "metadata": {},
     "output_type": "execute_result"
    }
   ],
   "source": [
    "subsx(sp.factor(E_sq*D - a**2*(E_sq - 4*u**2*r**2)*(sp.sin(th))**2))"
   ]
  },
  {
   "cell_type": "code",
   "execution_count": 19,
   "metadata": {},
   "outputs": [
    {
     "data": {
      "image/png": "[encoded data removed]",
      "text/latex": [
       "$\\displaystyle \\Delta \\Sigma^{2} - 2 \\Delta a^{2} \\mu^{2} \\sin^{2}{\\left(\\theta \\right)} - 2 \\Sigma^{2} a^{2} \\sin^{2}{\\left(\\theta \\right)} + \\Sigma^{2} a^{2} + 8 a^{2} \\mu^{2} r^{2} \\sin^{2}{\\left(\\theta \\right)} - 4 a^{2} \\mu^{2} r^{2}$"
      ],
      "text/plain": [
       "   2        2  2    2         2  2    2       2  2      2  2  2    2         2\n",
       "Δ⋅Σ  - 2⋅Δ⋅a ⋅μ ⋅sin (θ) - 2⋅Σ ⋅a ⋅sin (θ) + Σ ⋅a  + 8⋅a ⋅μ ⋅r ⋅sin (θ) - 4⋅a \n",
       "\n",
       "  2  2\n",
       "⋅μ ⋅r "
      ]
     },
     "execution_count": 19,
     "metadata": {},
     "output_type": "execute_result"
    }
   ],
   "source": [
    "subsx(sp.simplify(D*E_sq - 2*D*a**2*u**2*(sp.sin(th))**2 - 2*E_sq*a**2*(sp.sin(th))**2 + E_sq*a**2 + 8*a**2*u**2*r**2*(sp.sin(th))**2 - 4*a**2*u**2*r**2))"
   ]
  },
  {
   "cell_type": "code",
   "execution_count": 47,
   "metadata": {},
   "outputs": [
    {
     "data": {
      "image/png": "[encoded data removed]",
      "text/latex": [
       "$\\displaystyle - 2 \\Delta a^{2} \\left(\\mu^{2} + 2 \\mu r + \\rho^{2}\\right)$"
      ],
      "text/plain": [
       "      2 ⎛ 2            2⎞\n",
       "-2⋅Δ⋅a ⋅⎝μ  + 2⋅μ⋅r + ρ ⎠"
      ]
     },
     "execution_count": 47,
     "metadata": {},
     "output_type": "execute_result"
    }
   ],
   "source": [
    "exp1 = subsx(-2*D*a**2*u**2 - 2*E_sq*a**2 + 8*a**2*u**2*r**2)\n",
    "exp1 = exp1.subs(a**2 - 2*u*r + r**2, Dx)\n",
    "exp1 = exp1.subs(r**2 + a**2 - a**2*(sp.sin(th))**2, rhox**2 )\n",
    "\n",
    "exp1"
   ]
  },
  {
   "cell_type": "code",
   "execution_count": 38,
   "metadata": {},
   "outputs": [
    {
     "data": {
      "image/png": "[encoded data removed]",
      "text/latex": [
       "$\\displaystyle a^{4} \\sin^{2}{\\left(\\theta \\right)} - a^{4} - 2 a^{2} \\mu r \\sin^{2}{\\left(\\theta \\right)} + a^{2} r^{2} \\sin^{2}{\\left(\\theta \\right)} - 2 a^{2} r^{2} + 4 \\mu r - r^{4}$"
      ],
      "text/plain": [
       " 4    2       4      2        2       2  2    2         2  2            4\n",
       "a ⋅sin (θ) - a  - 2⋅a ⋅μ⋅r⋅sin (θ) + a ⋅r ⋅sin (θ) - 2⋅a ⋅r  + 4⋅μ⋅r - r "
      ]
     },
     "execution_count": 38,
     "metadata": {},
     "output_type": "execute_result"
    }
   ],
   "source": [
    "sp.simplify(sp.expand(-E_sq + 4*u*r))"
   ]
  },
  {
   "cell_type": "code",
   "execution_count": 61,
   "metadata": {},
   "outputs": [
    {
     "data": {
      "image/png": "[encoded data removed]",
      "text/latex": [
       "$\\displaystyle a^{2} \\left(\\Delta a^{2} \\sin^{2}{\\left(\\theta \\right)} + 2 \\Delta \\left(a^{2} \\cos^{2}{\\left(\\theta \\right)} + \\mu^{2} + 2 \\mu r + r^{2}\\right) \\sin^{2}{\\left(\\theta \\right)} + 4 \\mu^{2} r^{2} - \\left(a^{2} + r^{2}\\right)^{2}\\right)$"
      ],
      "text/plain": [
       "   ⎛                                                                          \n",
       " 2 ⎜   2    2          ⎛ 2    2       2            2⎞    2         2  2   ⎛ 2 \n",
       "a ⋅⎝Δ⋅a ⋅sin (θ) + 2⋅Δ⋅⎝a ⋅cos (θ) + μ  + 2⋅μ⋅r + r ⎠⋅sin (θ) + 4⋅μ ⋅r  - ⎝a  \n",
       "\n",
       "     2⎞\n",
       "   2⎞ ⎟\n",
       "+ r ⎠ ⎠"
      ]
     },
     "execution_count": 61,
     "metadata": {},
     "output_type": "execute_result"
    }
   ],
   "source": [
    "exp2 = sp.simplify(sp.trigsimp(-a**2*E_sq + 2*D*a**2*(u**2 + 2*u*r + rho_sq)*(sp.sin(th))**2 + 4*a**2*u**2*r**2))\n",
    "exp2 = exp2.subs(a**2 - 2*u*r + r**2, Dx)\n",
    "exp2 = exp2.subs(r**2 + a**2 - a**2*(sp.sin(th))**2, rhox**2)\n",
    "exp2 = exp2.subs(a**2 + r**2, D + 2*u*r)\n",
    "\n",
    "\n",
    "\n",
    "exp2"
   ]
  },
  {
   "cell_type": "code",
   "execution_count": 62,
   "metadata": {},
   "outputs": [
    {
     "data": {
      "image/png": "[encoded data removed]",
      "text/latex": [
       "$\\displaystyle - 2 \\Delta a^{2} \\left(\\mu^{2} + 2 \\mu r + \\rho^{2}\\right)$"
      ],
      "text/plain": [
       "      2 ⎛ 2            2⎞\n",
       "-2⋅Δ⋅a ⋅⎝μ  + 2⋅μ⋅r + ρ ⎠"
      ]
     },
     "execution_count": 62,
     "metadata": {},
     "output_type": "execute_result"
    }
   ],
   "source": [
    "exp3 = subsx(-2*D*a**2*u**2 - 2*E_sq*a**2 + 8*a**2*u**2*r**2)\n",
    "exp3 = exp1.subs(a**2 - 2*u*r + r**2, Dx)\n",
    "exp3 = exp1.subs(r**2 + a**2 - a**2*(sp.sin(th))**2, rhox**2 )\n",
    "\n",
    "exp3"
   ]
  },
  {
   "cell_type": "code",
   "execution_count": 18,
   "metadata": {},
   "outputs": [
    {
     "data": {
      "image/png": "[encoded data removed]",
      "text/latex": [
       "$\\displaystyle a^{10} \\cos^{4}{\\left(\\theta \\right)} + 2 a^{8} r \\left(2 \\mu + r + \\left(- 2 \\mu + r\\right) \\cos^{2}{\\left(\\theta \\right)}\\right) \\cos^{2}{\\left(\\theta \\right)} + a^{6} \\left(6 r^{4} + \\left(8 \\mu r^{3} - 6 r^{4} + 5\\right) \\sin^{2}{\\left(\\theta \\right)} + \\left(4 \\mu^{2} r^{2} - 4 \\mu r^{3} + r^{4} - 2\\right) \\sin^{4}{\\left(\\theta \\right)} - 3\\right) + a^{4} r \\left(4 \\mu + 4 r^{5} - 8 r + \\left(4 \\mu - 2 r\\right) \\sin^{4}{\\left(\\theta \\right)} + \\left(4 \\mu r^{4} - 10 \\mu - 2 r^{5} + 9 r\\right) \\sin^{2}{\\left(\\theta \\right)}\\right) + a^{2} r^{2} \\left(4 \\mu^{2} \\cos{\\left(\\theta \\right)} + 4 \\mu^{2} + r^{6} - 3 r^{2} + \\left(- 8 \\mu^{2} + 8 \\mu r - 4 r^{2}\\right) \\cos^{2}{\\left(\\theta \\right)}\\right) + 4 \\mu r^{5} - 2 r^{6}$"
      ],
      "text/plain": [
       " 10    4         8   ⎛                        2   ⎞    2       6 ⎛   4   ⎛    \n",
       "a  ⋅cos (θ) + 2⋅a ⋅r⋅⎝2⋅μ + r + (-2⋅μ + r)⋅cos (θ)⎠⋅cos (θ) + a ⋅⎝6⋅r  + ⎝8⋅μ⋅\n",
       "\n",
       " 3      4    ⎞    2      ⎛   2  2        3    4    ⎞    4       ⎞    4   ⎛    \n",
       "r  - 6⋅r  + 5⎠⋅sin (θ) + ⎝4⋅μ ⋅r  - 4⋅μ⋅r  + r  - 2⎠⋅sin (θ) - 3⎠ + a ⋅r⋅⎝4⋅μ \n",
       "\n",
       "     5                        4      ⎛     4             5      ⎞    2   ⎞    \n",
       "+ 4⋅r  - 8⋅r + (4⋅μ - 2⋅r)⋅sin (θ) + ⎝4⋅μ⋅r  - 10⋅μ - 2⋅r  + 9⋅r⎠⋅sin (θ)⎠ + a\n",
       "\n",
       "2  2 ⎛   2             2    6      2   ⎛     2              2⎞    2   ⎞       \n",
       " ⋅r ⋅⎝4⋅μ ⋅cos(θ) + 4⋅μ  + r  - 3⋅r  + ⎝- 8⋅μ  + 8⋅μ⋅r - 4⋅r ⎠⋅cos (θ)⎠ + 4⋅μ⋅\n",
       "\n",
       " 5      6\n",
       "r  - 2⋅r "
      ]
     },
     "execution_count": 18,
     "metadata": {},
     "output_type": "execute_result"
    }
   ],
   "source": [
    "exp = sp.trigsimp(sp.collect(sp.simplify(sp.expand(-2*D*E_sq - E_sq*a**2*sp.cos(2*th) + E_sq**2*a**2 + 4*a**2*u**2*r**2*sp.cos(th) - 4*a**2*u**2*r**2)), a))\n",
    "exp = sp.collect(exp, sp.cos(th))\n",
    "exp = sp.collect(exp, sp.sin(th))\n",
    "\n",
    "exp"
   ]
  },
  {
   "cell_type": "code",
   "execution_count": 13,
   "metadata": {},
   "outputs": [
    {
     "data": {
      "image/png": "[encoded data removed]",
      "text/latex": [
       "$\\displaystyle \\frac{1}{8} - \\frac{\\cos{\\left(4 \\theta \\right)}}{8}$"
      ],
      "text/plain": [
       "1   cos(4⋅θ)\n",
       "─ - ────────\n",
       "8      8    "
      ]
     },
     "execution_count": 13,
     "metadata": {},
     "output_type": "execute_result"
    }
   ],
   "source": [
    "subsx(sp.factor(E_sq*D - a**2*(E_sq - 4*u**2*r**2)*(sp.sin(th))**2))"
   ]
  },
  {
   "cell_type": "code",
   "execution_count": 19,
   "metadata": {},
   "outputs": [],
   "source": [
    "x = sp.simplify(a**4*sp.cos(th)**4 + 2*a**2*u*r*sp.sin(th)**2 + 2*a**2*r**2*sp.cos(th)**2 + r**4)"
   ]
  },
  {
   "cell_type": "code",
   "execution_count": 10,
   "metadata": {},
   "outputs": [
    {
     "data": {
      "image/png": "[encoded data removed]",
      "text/latex": [
       "$\\displaystyle - 2 a^{4} \\sin^{2}{\\left(\\theta \\right)} + a^{4} + 2 a^{2} \\mu r \\sin^{2}{\\left(\\theta \\right)} - 2 a^{2} r^{2} \\sin^{2}{\\left(\\theta \\right)} + 2 a^{2} r^{2} + r^{4}$"
      ],
      "text/plain": [
       "     4    2       4      2        2         2  2    2         2  2    4\n",
       "- 2⋅a ⋅sin (θ) + a  + 2⋅a ⋅μ⋅r⋅sin (θ) - 2⋅a ⋅r ⋅sin (θ) + 2⋅a ⋅r  + r "
      ]
     },
     "execution_count": 10,
     "metadata": {},
     "output_type": "execute_result"
    }
   ],
   "source": [
    "sp.simplify(sp.expand(rho_sq*(a**2 + r**2) - a**2*D*sp.sin(th)**2))"
   ]
  },
  {
   "cell_type": "code",
   "execution_count": 21,
   "metadata": {},
   "outputs": [
    {
     "data": {
      "text/plain": [
       "True"
      ]
     },
     "execution_count": 21,
     "metadata": {},
     "output_type": "execute_result"
    }
   ],
   "source": [
    "x == sp.expand(rho_sq**2 + 2*a**2*u*r*sp.sin(th)**2)"
   ]
  },
  {
   "cell_type": "code",
   "execution_count": 4,
   "metadata": {},
   "outputs": [
    {
     "data": {
      "image/png": "[encoded data removed]",
      "text/latex": [
       "$\\displaystyle a^{6} \\cos^{6}{\\left(\\theta \\right)} + 3 a^{4} r^{2} \\cos^{4}{\\left(\\theta \\right)} + 3 a^{2} r^{4} \\cos^{2}{\\left(\\theta \\right)} + r^{6}$"
      ],
      "text/plain": [
       " 6    6         4  2    4         2  4    2       6\n",
       "a ⋅cos (θ) + 3⋅a ⋅r ⋅cos (θ) + 3⋅a ⋅r ⋅cos (θ) + r "
      ]
     },
     "execution_count": 4,
     "metadata": {},
     "output_type": "execute_result"
    }
   ],
   "source": [
    "sp.expand(rho_sq**3)"
   ]
  },
  {
   "cell_type": "code",
   "execution_count": 5,
   "metadata": {},
   "outputs": [
    {
     "ename": "NameError",
     "evalue": "name 'chris_py_limpio' is not defined",
     "output_type": "error",
     "traceback": [
      "\u001b[0;31m---------------------------------------------------------------------------\u001b[0m",
      "\u001b[0;31mNameError\u001b[0m                                 Traceback (most recent call last)",
      "\u001b[0;32m<ipython-input-5-7f73560324a1>\u001b[0m in \u001b[0;36m<module>\u001b[0;34m\u001b[0m\n\u001b[0;32m----> 1\u001b[0;31m \u001b[0mchris_py_limpio\u001b[0m\u001b[0;34m[\u001b[0m\u001b[0;36m1\u001b[0m\u001b[0;34m,\u001b[0m \u001b[0;36m3\u001b[0m\u001b[0;34m,\u001b[0m \u001b[0;36m3\u001b[0m\u001b[0;34m]\u001b[0m\u001b[0;34m\u001b[0m\u001b[0;34m\u001b[0m\u001b[0m\n\u001b[0m",
      "\u001b[0;31mNameError\u001b[0m: name 'chris_py_limpio' is not defined"
     ]
    }
   ],
   "source": [
    "chris_py_limpio[1, 3, 3]"
   ]
  },
  {
   "cell_type": "code",
   "execution_count": 7,
   "metadata": {},
   "outputs": [
    {
     "data": {
      "image/png": "[encoded data removed]",
      "text/latex": [
       "$\\displaystyle a^{6} - 6 a^{4} \\mu r + 3 a^{4} r^{2} + 12 a^{2} \\mu^{2} r^{2} - 12 a^{2} \\mu r^{3} + 3 a^{2} r^{4} - 8 \\mu^{3} r^{3} + 12 \\mu^{2} r^{4} - 6 \\mu r^{5} + r^{6}$"
      ],
      "text/plain": [
       " 6      4          4  2       2  2  2       2    3      2  4      3  3       2\n",
       "a  - 6⋅a ⋅μ⋅r + 3⋅a ⋅r  + 12⋅a ⋅μ ⋅r  - 12⋅a ⋅μ⋅r  + 3⋅a ⋅r  - 8⋅μ ⋅r  + 12⋅μ \n",
       "\n",
       "  4        5    6\n",
       "⋅r  - 6⋅μ⋅r  + r "
      ]
     },
     "execution_count": 7,
     "metadata": {},
     "output_type": "execute_result"
    }
   ],
   "source": [
    "sp.expand(D**3)"
   ]
  },
  {
   "cell_type": "code",
   "execution_count": 20,
   "metadata": {
    "scrolled": true
   },
   "outputs": [
    {
     "data": {
      "image/png": "[encoded data removed]",
      "text/latex": [
       "$\\displaystyle a^{6} \\left(- r \\sin^{4}{\\left(\\theta \\right)} - 2 r \\sin^{2}{\\left(\\theta \\right)} + r - \\sin^{4}{\\left(\\theta \\right)} + \\sin^{2}{\\left(\\theta \\right)}\\right) + a^{4} \\left(2 \\mu^{2} r \\sin^{4}{\\left(\\theta \\right)} - 2 \\mu^{2} r \\sin^{2}{\\left(\\theta \\right)} - 2 \\mu r^{2} - r^{3} \\sin^{4}{\\left(\\theta \\right)} - 4 r^{3} \\sin^{2}{\\left(\\theta \\right)} + 3 r^{3} - 3 r^{2} \\sin^{4}{\\left(\\theta \\right)} + 4 r^{2} \\sin^{2}{\\left(\\theta \\right)}\\right) + a^{2} \\left(2 \\mu^{2} r^{3} \\sin^{2}{\\left(\\theta \\right)} - 4 \\mu r^{4} - 2 r^{5} \\sin^{2}{\\left(\\theta \\right)} + 3 r^{5} + 3 r^{4} \\sin^{2}{\\left(\\theta \\right)}\\right) - 2 \\mu r^{6} + r^{7}$"
      ],
      "text/plain": [
       " 6 ⎛       4             2             4         2   ⎞    4 ⎛   2      4      \n",
       "a ⋅⎝- r⋅sin (θ) - 2⋅r⋅sin (θ) + r - sin (θ) + sin (θ)⎠ + a ⋅⎝2⋅μ ⋅r⋅sin (θ) - \n",
       "\n",
       "   2      2           2    3    4         3    2         3      2    4        \n",
       "2⋅μ ⋅r⋅sin (θ) - 2⋅μ⋅r  - r ⋅sin (θ) - 4⋅r ⋅sin (θ) + 3⋅r  - 3⋅r ⋅sin (θ) + 4⋅\n",
       "\n",
       " 2    2   ⎞    2 ⎛   2  3    2           4      5    2         5      4    2  \n",
       "r ⋅sin (θ)⎠ + a ⋅⎝2⋅μ ⋅r ⋅sin (θ) - 4⋅μ⋅r  - 2⋅r ⋅sin (θ) + 3⋅r  + 3⋅r ⋅sin (θ\n",
       "\n",
       " ⎞        6    7\n",
       ")⎠ - 2⋅μ⋅r  + r "
      ]
     },
     "execution_count": 20,
     "metadata": {},
     "output_type": "execute_result"
    }
   ],
   "source": [
    "sp.collect(sp.expand(-(a**6*r + a**4*r**3)*sp.sin(th)**4 - 2*(a**6*r + 2*a**4*r**3 + a**2*r**5)*sp.sin(th)**2 + 2*(a**4*r*sp.sin(th)**4 - (a**4*r - a**2*r**3)*sp.sin(th)**2)*u**2 + (a**6*r + 3*a**4*r**3 + 3*a**2*r**5 + r**7) - ((a**6 + 3*a**4*r**2)*sp.sin(th)**4 - (a**6 + 4*a**4*r**2 + 3*a**2*r**4)*sp.sin(th)**2 + 2*(a**4*r**2 + 2*a**2*r**4 + r**6)*u)), a)"
   ]
  },
  {
   "cell_type": "markdown",
   "metadata": {},
   "source": [
    "###### "
   ]
  }
 ],
 "metadata": {
  "kernelspec": {
   "display_name": "Python 3",
   "language": "python",
   "name": "python3"
  },
  "language_info": {
   "codemirror_mode": {
    "name": "ipython",
    "version": 3
   },
   "file_extension": ".py",
   "mimetype": "text/x-python",
   "name": "python",
   "nbconvert_exporter": "python",
   "pygments_lexer": "ipython3",
   "version": "3.7.3"
  }
 },
 "nbformat": 4,
 "nbformat_minor": 2
}
