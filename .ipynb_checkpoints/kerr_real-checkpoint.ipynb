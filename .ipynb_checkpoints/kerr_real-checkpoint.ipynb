{
 "cells": [
  {
   "cell_type": "code",
   "execution_count": 1,
   "metadata": {},
   "outputs": [],
   "source": [
    "import sympy as sp\n",
    "import einsteinpy.symbolic as gr\n",
    "sp.init_printing()"
   ]
  },
  {
   "cell_type": "code",
   "execution_count": 2,
   "metadata": {},
   "outputs": [],
   "source": [
    "t, r, th, ph = sp.symbols('t, r, theta, phi')\n",
    "u, a, c = sp.symbols('mu, a, c')\n",
    "rho, D, E = sp.symbols('rho, Delta, Sigma')\n",
    "\n",
    "n = 4"
   ]
  },
  {
   "cell_type": "markdown",
   "metadata": {},
   "source": [
    "# Métrica"
   ]
  },
  {
   "cell_type": "markdown",
   "metadata": {},
   "source": [
    "$$\n",
    "g_{\\mu \\nu}\n",
    "$$"
   ]
  },
  {
   "cell_type": "code",
   "execution_count": 11,
   "metadata": {},
   "outputs": [
    {
     "data": {
      "text/latex": [
       "$\\displaystyle \\left[\\begin{matrix}\\frac{\\Delta - a^{2} \\sin^{2}{\\left(\\theta \\right)}}{\\rho^{2}} & 0 & 0 & \\frac{2 a \\mu r \\sin^{2}{\\left(\\theta \\right)}}{\\rho^{2}}\\\\0 & - \\frac{\\rho^{2}}{\\Delta} & 0 & 0\\\\0 & 0 & - \\rho^{2} & 0\\\\\\frac{2 a \\mu r \\sin^{2}{\\left(\\theta \\right)}}{\\rho^{2}} & 0 & 0 & - \\frac{\\Sigma^{2} \\sin^{2}{\\left(\\theta \\right)}}{\\rho^{2}}\\end{matrix}\\right]$"
      ],
      "text/plain": [
       "⎡     2    2                            2   ⎤\n",
       "⎢Δ - a ⋅sin (θ)              2⋅a⋅μ⋅r⋅sin (θ)⎥\n",
       "⎢──────────────    0     0   ───────────────⎥\n",
       "⎢       2                            2      ⎥\n",
       "⎢      ρ                            ρ       ⎥\n",
       "⎢                                           ⎥\n",
       "⎢                   2                       ⎥\n",
       "⎢                 -ρ                        ⎥\n",
       "⎢       0         ────   0          0       ⎥\n",
       "⎢                  Δ                        ⎥\n",
       "⎢                                           ⎥\n",
       "⎢                         2                 ⎥\n",
       "⎢       0          0    -ρ          0       ⎥\n",
       "⎢                                           ⎥\n",
       "⎢           2                   2    2      ⎥\n",
       "⎢2⋅a⋅μ⋅r⋅sin (θ)              -Σ ⋅sin (θ)   ⎥\n",
       "⎢───────────────   0     0    ────────────  ⎥\n",
       "⎢        2                          2       ⎥\n",
       "⎣       ρ                          ρ        ⎦"
      ]
     },
     "execution_count": 11,
     "metadata": {},
     "output_type": "execute_result"
    }
   ],
   "source": [
    "metric = [[0 for i in range(4)] for i in range(4)]\n",
    "\n",
    "metric[0][0] = sp.simplify((D - a**2*(sp.sin(th))**2)/rho**2)\n",
    "metric[0][3] = sp.simplify(2*u*a*r*(sp.sin(th))**2/rho**2)\n",
    "metric[1][1] = -rho**2/D\n",
    "metric[2][2] = -rho**2\n",
    "metric[3][0] = sp.simplify(2*u*a*r*(sp.sin(th))**2/rho**2)\n",
    "metric[3][3] = sp.simplify(-E**2*(sp.sin(th))**2/rho**2)\n",
    "\n",
    "coord = [t, r, th, ph]\n",
    "metric_gr = gr.MetricTensor(metric, coord)\n",
    "\n",
    "metric_gr.tensor()"
   ]
  },
  {
   "cell_type": "code",
   "execution_count": 4,
   "metadata": {},
   "outputs": [],
   "source": [
    "inv = metric_gr.inv()"
   ]
  },
  {
   "cell_type": "code",
   "execution_count": 45,
   "metadata": {},
   "outputs": [],
   "source": [
    "def subsx(exp, extra = False):\n",
    "    exp = exp.simplify()\n",
    "    exp = sp.factor(exp)\n",
    "    exp = exp.subs(E**2*(D - a**2*(sp.sin(th))**2) + 4*a**2*u**2*r**2*(sp.sin(th))**2, D*rho**4)\n",
    "    exp = exp.subs(D*E**2 - E**2*a**2*(sp.sin(th))**2 + 4*a**2*u**2*r**2*(sp.sin(th))**2, D*rho**4)\n",
    "    exp = exp.subs(2*D*E**2 - E**2*a**2*(sp.sin(th))**2 + 4*a**2*u**2*r**2*(sp.sin(th))**2, D*(rho**4 + E**2))\n",
    "    exp = exp.subs(3*D*E**2 - E**2*a**2*(sp.sin(th))**2 + 4*a**2*u**2*r**2*(sp.sin(th))**2, D*(rho**4 + 2*E**2))\n",
    "    exp = exp.subs(-2*D*a**2*u**2*(sp.sin(th))**2 - 2*E**2*a**2*(sp.sin(th))**2 + 8*a**2*u**2*r**2*(sp.sin(th))**2, -2*D*a**2*(u**2 + 2*u*r + rho**2)*(sp.sin(th))**2) \n",
    "    exp = exp.subs(-2*D*a**2*u**2*(sp.sin(th))**4 - 2*E**2*a**2*(sp.sin(th))**4 + 8*a**2*u**2*r**2*(sp.sin(th))**4, -2*D*a**2*(u**2 + 2*u*r + rho**2)*(sp.sin(th))**4)\n",
    "    return exp\n",
    "\n",
    "def fracx(exp):\n",
    "    num, den = sp.fraction(exp)\n",
    "                \n",
    "    num = subsx(num)\n",
    "    den = subsx(den)\n",
    "                \n",
    "    exp = num/den\n",
    "    \n",
    "    return exp\n",
    "\n",
    "#def writex(nam, exp):\n",
    "#    nam = open(nam + '.txt', 'w')\n",
    "    \n",
    "#    nam.write(str(i) + str(j) + str(k) + '\\n')\n",
    "#    nam.write(sp.latex(exp) + '\\n')\n",
    "    \n",
    "#    nam_latex.close()"
   ]
  },
  {
   "cell_type": "code",
   "execution_count": 6,
   "metadata": {},
   "outputs": [
    {
     "data": {
      "text/latex": [
       "$\\displaystyle \\left[\\begin{matrix}\\frac{\\Sigma^{2}}{\\Delta \\rho^{2}} & 0 & 0 & \\frac{2 a \\mu r}{\\Delta \\rho^{2}}\\\\0 & - \\frac{\\Delta}{\\rho^{2}} & 0 & 0\\\\0 & 0 & - \\frac{1}{\\rho^{2}} & 0\\\\\\frac{2 a \\mu r}{\\Delta \\rho^{2}} & 0 & 0 & \\frac{- \\Delta + a^{2} \\sin^{2}{\\left(\\theta \\right)}}{\\Delta \\rho^{2} \\sin^{2}{\\left(\\theta \\right)}}\\end{matrix}\\right]$"
      ],
      "text/plain": [
       "⎡   2                              ⎤\n",
       "⎢  Σ                    2⋅a⋅μ⋅r    ⎥\n",
       "⎢ ────     0    0       ───────    ⎥\n",
       "⎢    2                       2     ⎥\n",
       "⎢ Δ⋅ρ                     Δ⋅ρ      ⎥\n",
       "⎢                                  ⎥\n",
       "⎢         -Δ                       ⎥\n",
       "⎢   0     ───   0          0       ⎥\n",
       "⎢           2                      ⎥\n",
       "⎢          ρ                       ⎥\n",
       "⎢                                  ⎥\n",
       "⎢              -1                  ⎥\n",
       "⎢   0      0   ───         0       ⎥\n",
       "⎢                2                 ⎥\n",
       "⎢               ρ                  ⎥\n",
       "⎢                                  ⎥\n",
       "⎢                         2    2   ⎥\n",
       "⎢2⋅a⋅μ⋅r            -Δ + a ⋅sin (θ)⎥\n",
       "⎢───────   0    0   ───────────────⎥\n",
       "⎢     2                  2    2    ⎥\n",
       "⎣  Δ⋅ρ                Δ⋅ρ ⋅sin (θ) ⎦"
      ]
     },
     "execution_count": 6,
     "metadata": {},
     "output_type": "execute_result"
    }
   ],
   "source": [
    "invx = subsx(inv)\n",
    "\n",
    "invx"
   ]
  },
  {
   "cell_type": "markdown",
   "metadata": {},
   "source": [
    "# Christoffel"
   ]
  },
  {
   "cell_type": "markdown",
   "metadata": {},
   "source": [
    "$$\n",
    "\\Gamma^\\alpha_{\\beta \\gamma}\n",
    "$$"
   ]
  },
  {
   "cell_type": "code",
   "execution_count": 7,
   "metadata": {},
   "outputs": [],
   "source": [
    "chris = gr.ChristoffelSymbols.from_metric(metric_gr)"
   ]
  },
  {
   "cell_type": "code",
   "execution_count": 8,
   "metadata": {},
   "outputs": [
    {
     "data": {
      "image/png": "[encoded data removed]",
      "text/latex": [
       "$\\displaystyle \\left[ 0, \\  0, \\  1\\right]$"
      ],
      "text/plain": [
       "[0, 0, 1]"
      ]
     },
     "metadata": {},
     "output_type": "display_data"
    },
    {
     "data": {
      "image/png": "[encoded data removed]",
      "text/latex": [
       "$\\displaystyle \\frac{2 a^{2} \\mu^{2} r \\sin^{2}{\\left(\\theta \\right)}}{\\Delta \\rho^{4}}$"
      ],
      "text/plain": [
       "   2  2      2   \n",
       "2⋅a ⋅μ ⋅r⋅sin (θ)\n",
       "─────────────────\n",
       "          4      \n",
       "       Δ⋅ρ       "
      ]
     },
     "metadata": {},
     "output_type": "display_data"
    },
    {
     "data": {
      "image/png": "[encoded data removed]",
      "text/latex": [
       "$\\displaystyle \\left[ 0, \\  0, \\  2\\right]$"
      ],
      "text/plain": [
       "[0, 0, 2]"
      ]
     },
     "metadata": {},
     "output_type": "display_data"
    },
    {
     "data": {
      "image/png": "[encoded data removed]",
      "text/latex": [
       "$\\displaystyle \\frac{a^{2} \\left(- \\Sigma + 2 \\mu r\\right) \\left(\\Sigma + 2 \\mu r\\right) \\sin{\\left(2 \\theta \\right)}}{2 \\Delta \\rho^{4}}$"
      ],
      "text/plain": [
       " 2                                  \n",
       "a ⋅(-Σ + 2⋅μ⋅r)⋅(Σ + 2⋅μ⋅r)⋅sin(2⋅θ)\n",
       "────────────────────────────────────\n",
       "                    4               \n",
       "               2⋅Δ⋅ρ                "
      ]
     },
     "metadata": {},
     "output_type": "display_data"
    },
    {
     "data": {
      "image/png": "[encoded data removed]",
      "text/latex": [
       "$\\displaystyle \\left[ 0, \\  1, \\  0\\right]$"
      ],
      "text/plain": [
       "[0, 1, 0]"
      ]
     },
     "metadata": {},
     "output_type": "display_data"
    },
    {
     "data": {
      "image/png": "[encoded data removed]",
      "text/latex": [
       "$\\displaystyle \\frac{2 a^{2} \\mu^{2} r \\sin^{2}{\\left(\\theta \\right)}}{\\Delta \\rho^{4}}$"
      ],
      "text/plain": [
       "   2  2      2   \n",
       "2⋅a ⋅μ ⋅r⋅sin (θ)\n",
       "─────────────────\n",
       "          4      \n",
       "       Δ⋅ρ       "
      ]
     },
     "metadata": {},
     "output_type": "display_data"
    },
    {
     "data": {
      "image/png": "[encoded data removed]",
      "text/latex": [
       "$\\displaystyle \\left[ 0, \\  1, \\  3\\right]$"
      ],
      "text/plain": [
       "[0, 1, 3]"
      ]
     },
     "metadata": {},
     "output_type": "display_data"
    },
    {
     "data": {
      "image/png": "[encoded data removed]",
      "text/latex": [
       "$\\displaystyle \\frac{\\Sigma^{2} a \\mu \\sin^{2}{\\left(\\theta \\right)}}{\\Delta \\rho^{4}}$"
      ],
      "text/plain": [
       " 2        2   \n",
       "Σ ⋅a⋅μ⋅sin (θ)\n",
       "──────────────\n",
       "        4     \n",
       "     Δ⋅ρ      "
      ]
     },
     "metadata": {},
     "output_type": "display_data"
    },
    {
     "data": {
      "image/png": "[encoded data removed]",
      "text/latex": [
       "$\\displaystyle \\left[ 0, \\  2, \\  0\\right]$"
      ],
      "text/plain": [
       "[0, 2, 0]"
      ]
     },
     "metadata": {},
     "output_type": "display_data"
    },
    {
     "data": {
      "image/png": "[encoded data removed]",
      "text/latex": [
       "$\\displaystyle \\frac{a^{2} \\left(- \\Sigma + 2 \\mu r\\right) \\left(\\Sigma + 2 \\mu r\\right) \\sin{\\left(2 \\theta \\right)}}{2 \\Delta \\rho^{4}}$"
      ],
      "text/plain": [
       " 2                                  \n",
       "a ⋅(-Σ + 2⋅μ⋅r)⋅(Σ + 2⋅μ⋅r)⋅sin(2⋅θ)\n",
       "────────────────────────────────────\n",
       "                    4               \n",
       "               2⋅Δ⋅ρ                "
      ]
     },
     "metadata": {},
     "output_type": "display_data"
    },
    {
     "data": {
      "image/png": "[encoded data removed]",
      "text/latex": [
       "$\\displaystyle \\left[ 0, \\  3, \\  1\\right]$"
      ],
      "text/plain": [
       "[0, 3, 1]"
      ]
     },
     "metadata": {},
     "output_type": "display_data"
    },
    {
     "data": {
      "image/png": "[encoded data removed]",
      "text/latex": [
       "$\\displaystyle \\frac{\\Sigma^{2} a \\mu \\sin^{2}{\\left(\\theta \\right)}}{\\Delta \\rho^{4}}$"
      ],
      "text/plain": [
       " 2        2   \n",
       "Σ ⋅a⋅μ⋅sin (θ)\n",
       "──────────────\n",
       "        4     \n",
       "     Δ⋅ρ      "
      ]
     },
     "metadata": {},
     "output_type": "display_data"
    },
    {
     "data": {
      "image/png": "[encoded data removed]",
      "text/latex": [
       "$\\displaystyle \\left[ 1, \\  0, \\  3\\right]$"
      ],
      "text/plain": [
       "[1, 0, 3]"
      ]
     },
     "metadata": {},
     "output_type": "display_data"
    },
    {
     "data": {
      "image/png": "[encoded data removed]",
      "text/latex": [
       "$\\displaystyle \\frac{\\Delta a \\mu \\sin^{2}{\\left(\\theta \\right)}}{\\rho^{4}}$"
      ],
      "text/plain": [
       "         2   \n",
       "Δ⋅a⋅μ⋅sin (θ)\n",
       "─────────────\n",
       "       4     \n",
       "      ρ      "
      ]
     },
     "metadata": {},
     "output_type": "display_data"
    },
    {
     "data": {
      "image/png": "[encoded data removed]",
      "text/latex": [
       "$\\displaystyle \\left[ 1, \\  3, \\  0\\right]$"
      ],
      "text/plain": [
       "[1, 3, 0]"
      ]
     },
     "metadata": {},
     "output_type": "display_data"
    },
    {
     "data": {
      "image/png": "[encoded data removed]",
      "text/latex": [
       "$\\displaystyle \\frac{\\Delta a \\mu \\sin^{2}{\\left(\\theta \\right)}}{\\rho^{4}}$"
      ],
      "text/plain": [
       "         2   \n",
       "Δ⋅a⋅μ⋅sin (θ)\n",
       "─────────────\n",
       "       4     \n",
       "      ρ      "
      ]
     },
     "metadata": {},
     "output_type": "display_data"
    },
    {
     "data": {
      "image/png": "[encoded data removed]",
      "text/latex": [
       "$\\displaystyle \\left[ 2, \\  0, \\  0\\right]$"
      ],
      "text/plain": [
       "[2, 0, 0]"
      ]
     },
     "metadata": {},
     "output_type": "display_data"
    },
    {
     "data": {
      "image/png": "[encoded data removed]",
      "text/latex": [
       "$\\displaystyle - \\frac{a^{2} \\sin{\\left(2 \\theta \\right)}}{2 \\rho^{4}}$"
      ],
      "text/plain": [
       "  2          \n",
       "-a ⋅sin(2⋅θ) \n",
       "─────────────\n",
       "        4    \n",
       "     2⋅ρ     "
      ]
     },
     "metadata": {},
     "output_type": "display_data"
    },
    {
     "data": {
      "image/png": "[encoded data removed]",
      "text/latex": [
       "$\\displaystyle \\left[ 2, \\  0, \\  3\\right]$"
      ],
      "text/plain": [
       "[2, 0, 3]"
      ]
     },
     "metadata": {},
     "output_type": "display_data"
    },
    {
     "data": {
      "image/png": "[encoded data removed]",
      "text/latex": [
       "$\\displaystyle \\frac{a \\mu r \\sin{\\left(2 \\theta \\right)}}{\\rho^{4}}$"
      ],
      "text/plain": [
       "a⋅μ⋅r⋅sin(2⋅θ)\n",
       "──────────────\n",
       "       4      \n",
       "      ρ       "
      ]
     },
     "metadata": {},
     "output_type": "display_data"
    },
    {
     "data": {
      "image/png": "[encoded data removed]",
      "text/latex": [
       "$\\displaystyle \\left[ 2, \\  3, \\  0\\right]$"
      ],
      "text/plain": [
       "[2, 3, 0]"
      ]
     },
     "metadata": {},
     "output_type": "display_data"
    },
    {
     "data": {
      "image/png": "[encoded data removed]",
      "text/latex": [
       "$\\displaystyle \\frac{a \\mu r \\sin{\\left(2 \\theta \\right)}}{\\rho^{4}}$"
      ],
      "text/plain": [
       "a⋅μ⋅r⋅sin(2⋅θ)\n",
       "──────────────\n",
       "       4      \n",
       "      ρ       "
      ]
     },
     "metadata": {},
     "output_type": "display_data"
    },
    {
     "data": {
      "image/png": "[encoded data removed]",
      "text/latex": [
       "$\\displaystyle \\left[ 2, \\  3, \\  3\\right]$"
      ],
      "text/plain": [
       "[2, 3, 3]"
      ]
     },
     "metadata": {},
     "output_type": "display_data"
    },
    {
     "data": {
      "image/png": "[encoded data removed]",
      "text/latex": [
       "$\\displaystyle - \\frac{\\Sigma^{2} \\sin{\\left(2 \\theta \\right)}}{2 \\rho^{4}}$"
      ],
      "text/plain": [
       "  2          \n",
       "-Σ ⋅sin(2⋅θ) \n",
       "─────────────\n",
       "        4    \n",
       "     2⋅ρ     "
      ]
     },
     "metadata": {},
     "output_type": "display_data"
    },
    {
     "data": {
      "image/png": "[encoded data removed]",
      "text/latex": [
       "$\\displaystyle \\left[ 3, \\  0, \\  1\\right]$"
      ],
      "text/plain": [
       "[3, 0, 1]"
      ]
     },
     "metadata": {},
     "output_type": "display_data"
    },
    {
     "data": {
      "image/png": "[encoded data removed]",
      "text/latex": [
       "$\\displaystyle \\frac{a \\mu \\left(- \\Delta + a^{2} \\sin^{2}{\\left(\\theta \\right)}\\right)}{\\Delta \\rho^{4}}$"
      ],
      "text/plain": [
       "    ⎛      2    2   ⎞\n",
       "a⋅μ⋅⎝-Δ + a ⋅sin (θ)⎠\n",
       "─────────────────────\n",
       "            4        \n",
       "         Δ⋅ρ         "
      ]
     },
     "metadata": {},
     "output_type": "display_data"
    },
    {
     "data": {
      "image/png": "[encoded data removed]",
      "text/latex": [
       "$\\displaystyle \\left[ 3, \\  0, \\  2\\right]$"
      ],
      "text/plain": [
       "[3, 0, 2]"
      ]
     },
     "metadata": {},
     "output_type": "display_data"
    },
    {
     "data": {
      "image/png": "[encoded data removed]",
      "text/latex": [
       "$\\displaystyle - \\frac{2 a \\mu r}{\\rho^{4} \\tan{\\left(\\theta \\right)}}$"
      ],
      "text/plain": [
       "-2⋅a⋅μ⋅r \n",
       "─────────\n",
       " 4       \n",
       "ρ ⋅tan(θ)"
      ]
     },
     "metadata": {},
     "output_type": "display_data"
    },
    {
     "data": {
      "image/png": "[encoded data removed]",
      "text/latex": [
       "$\\displaystyle \\left[ 3, \\  1, \\  0\\right]$"
      ],
      "text/plain": [
       "[3, 1, 0]"
      ]
     },
     "metadata": {},
     "output_type": "display_data"
    },
    {
     "data": {
      "image/png": "[encoded data removed]",
      "text/latex": [
       "$\\displaystyle \\frac{a \\mu \\left(- \\Delta + a^{2} \\sin^{2}{\\left(\\theta \\right)}\\right)}{\\Delta \\rho^{4}}$"
      ],
      "text/plain": [
       "    ⎛      2    2   ⎞\n",
       "a⋅μ⋅⎝-Δ + a ⋅sin (θ)⎠\n",
       "─────────────────────\n",
       "            4        \n",
       "         Δ⋅ρ         "
      ]
     },
     "metadata": {},
     "output_type": "display_data"
    },
    {
     "data": {
      "image/png": "[encoded data removed]",
      "text/latex": [
       "$\\displaystyle \\left[ 3, \\  1, \\  3\\right]$"
      ],
      "text/plain": [
       "[3, 1, 3]"
      ]
     },
     "metadata": {},
     "output_type": "display_data"
    },
    {
     "data": {
      "image/png": "[encoded data removed]",
      "text/latex": [
       "$\\displaystyle \\frac{2 a^{2} \\mu^{2} r \\sin^{2}{\\left(\\theta \\right)}}{\\Delta \\rho^{4}}$"
      ],
      "text/plain": [
       "   2  2      2   \n",
       "2⋅a ⋅μ ⋅r⋅sin (θ)\n",
       "─────────────────\n",
       "          4      \n",
       "       Δ⋅ρ       "
      ]
     },
     "metadata": {},
     "output_type": "display_data"
    },
    {
     "data": {
      "image/png": "[encoded data removed]",
      "text/latex": [
       "$\\displaystyle \\left[ 3, \\  2, \\  0\\right]$"
      ],
      "text/plain": [
       "[3, 2, 0]"
      ]
     },
     "metadata": {},
     "output_type": "display_data"
    },
    {
     "data": {
      "image/png": "[encoded data removed]",
      "text/latex": [
       "$\\displaystyle - \\frac{2 a \\mu r}{\\rho^{4} \\tan{\\left(\\theta \\right)}}$"
      ],
      "text/plain": [
       "-2⋅a⋅μ⋅r \n",
       "─────────\n",
       " 4       \n",
       "ρ ⋅tan(θ)"
      ]
     },
     "metadata": {},
     "output_type": "display_data"
    },
    {
     "data": {
      "image/png": "[encoded data removed]",
      "text/latex": [
       "$\\displaystyle \\left[ 3, \\  2, \\  3\\right]$"
      ],
      "text/plain": [
       "[3, 2, 3]"
      ]
     },
     "metadata": {},
     "output_type": "display_data"
    },
    {
     "data": {
      "image/png": "[encoded data removed]",
      "text/latex": [
       "$\\displaystyle \\frac{1}{\\tan{\\left(\\theta \\right)}}$"
      ],
      "text/plain": [
       "  1   \n",
       "──────\n",
       "tan(θ)"
      ]
     },
     "metadata": {},
     "output_type": "display_data"
    },
    {
     "data": {
      "image/png": "[encoded data removed]",
      "text/latex": [
       "$\\displaystyle \\left[ 3, \\  3, \\  1\\right]$"
      ],
      "text/plain": [
       "[3, 3, 1]"
      ]
     },
     "metadata": {},
     "output_type": "display_data"
    },
    {
     "data": {
      "image/png": "[encoded data removed]",
      "text/latex": [
       "$\\displaystyle \\frac{2 a^{2} \\mu^{2} r \\sin^{2}{\\left(\\theta \\right)}}{\\Delta \\rho^{4}}$"
      ],
      "text/plain": [
       "   2  2      2   \n",
       "2⋅a ⋅μ ⋅r⋅sin (θ)\n",
       "─────────────────\n",
       "          4      \n",
       "       Δ⋅ρ       "
      ]
     },
     "metadata": {},
     "output_type": "display_data"
    },
    {
     "data": {
      "image/png": "[encoded data removed]",
      "text/latex": [
       "$\\displaystyle \\left[ 3, \\  3, \\  2\\right]$"
      ],
      "text/plain": [
       "[3, 3, 2]"
      ]
     },
     "metadata": {},
     "output_type": "display_data"
    },
    {
     "data": {
      "image/png": "[encoded data removed]",
      "text/latex": [
       "$\\displaystyle \\frac{1}{\\tan{\\left(\\theta \\right)}}$"
      ],
      "text/plain": [
       "  1   \n",
       "──────\n",
       "tan(θ)"
      ]
     },
     "metadata": {},
     "output_type": "display_data"
    }
   ],
   "source": [
    "chr_latex = open('christoffel_real.txt', 'w')\n",
    "\n",
    "for i in range(n):\n",
    "    for j in range(n):\n",
    "        for k in range(n):\n",
    "            if chris[i, j, k] != 0:\n",
    "                chrxpr = subsx(chris[i, j, k])\n",
    "                \n",
    "                chrxpr = fracx(chrxpr)\n",
    "                \n",
    "                \n",
    "                \n",
    "                display([i, j, k], chrxpr)\n",
    "                \n",
    "chr_latex.close()"
   ]
  },
  {
   "cell_type": "markdown",
   "metadata": {},
   "source": [
    "# Riemann"
   ]
  },
  {
   "cell_type": "markdown",
   "metadata": {},
   "source": [
    "$$\n",
    "R^\\alpha_{\\beta \\gamma \\delta}\n",
    "$$"
   ]
  },
  {
   "cell_type": "code",
   "execution_count": 18,
   "metadata": {},
   "outputs": [],
   "source": [
    "rim = gr.RiemannCurvatureTensor.from_christoffels(chris)"
   ]
  },
  {
   "cell_type": "code",
   "execution_count": 19,
   "metadata": {},
   "outputs": [
    {
     "data": {
      "image/png": "[encoded data removed]",
      "text/latex": [
       "$\\displaystyle \\left[ 0, \\  0, \\  1, \\  1\\right]$"
      ],
      "text/plain": [
       "[0, 0, 1, 1]"
      ]
     },
     "metadata": {},
     "output_type": "display_data"
    },
    {
     "data": {
      "image/png": "[encoded data removed]",
      "text/latex": [
       "$\\displaystyle - \\frac{a^{2} \\mu^{2} \\left(- \\Delta \\Sigma^{2} + \\Sigma^{2} a^{2} \\sin^{2}{\\left(\\theta \\right)} + 4 a^{2} \\mu^{2} r^{2} \\sin^{2}{\\left(\\theta \\right)}\\right) \\sin^{2}{\\left(\\theta \\right)}}{\\Delta^{2} \\rho^{8}}$"
      ],
      "text/plain": [
       "  2  2 ⎛     2    2  2    2         2  2  2    2   ⎞    2    \n",
       "-a ⋅μ ⋅⎝- Δ⋅Σ  + Σ ⋅a ⋅sin (θ) + 4⋅a ⋅μ ⋅r ⋅sin (θ)⎠⋅sin (θ) \n",
       "─────────────────────────────────────────────────────────────\n",
       "                             2  8                            \n",
       "                            Δ ⋅ρ                             "
      ]
     },
     "metadata": {},
     "output_type": "display_data"
    },
    {
     "data": {
      "image/png": "[encoded data removed]",
      "text/latex": [
       "$\\displaystyle \\left[ 0, \\  0, \\  1, \\  2\\right]$"
      ],
      "text/plain": [
       "[0, 0, 1, 2]"
      ]
     },
     "metadata": {},
     "output_type": "display_data"
    },
    {
     "data": {
      "image/png": "[encoded data removed]",
      "text/latex": [
       "$\\displaystyle \\frac{a^{2} \\mu^{2} r \\left(2 \\Sigma^{2} + \\rho^{4}\\right) \\sin{\\left(2 \\theta \\right)}}{\\Delta \\rho^{8}}$"
      ],
      "text/plain": [
       " 2  2   ⎛   2    4⎞         \n",
       "a ⋅μ ⋅r⋅⎝2⋅Σ  + ρ ⎠⋅sin(2⋅θ)\n",
       "────────────────────────────\n",
       "               8            \n",
       "            Δ⋅ρ             "
      ]
     },
     "metadata": {},
     "output_type": "display_data"
    },
    {
     "data": {
      "image/png": "[encoded data removed]",
      "text/latex": [
       "$\\displaystyle \\left[ 0, \\  0, \\  2, \\  1\\right]$"
      ],
      "text/plain": [
       "[0, 0, 2, 1]"
      ]
     },
     "metadata": {},
     "output_type": "display_data"
    },
    {
     "data": {
      "image/png": "[encoded data removed]",
      "text/latex": [
       "$\\displaystyle \\frac{a^{2} \\mu^{2} r \\left(\\Sigma^{2} + \\rho^{4}\\right) \\sin{\\left(2 \\theta \\right)}}{\\Delta \\rho^{8}}$"
      ],
      "text/plain": [
       " 2  2   ⎛ 2    4⎞         \n",
       "a ⋅μ ⋅r⋅⎝Σ  + ρ ⎠⋅sin(2⋅θ)\n",
       "──────────────────────────\n",
       "              8           \n",
       "           Δ⋅ρ            "
      ]
     },
     "metadata": {},
     "output_type": "display_data"
    },
    {
     "data": {
      "image/png": "[encoded data removed]",
      "text/latex": [
       "$\\displaystyle \\left[ 0, \\  0, \\  2, \\  2\\right]$"
      ],
      "text/plain": [
       "[0, 0, 2, 2]"
      ]
     },
     "metadata": {},
     "output_type": "display_data"
    },
    {
     "data": {
      "image/png": "[encoded data removed]",
      "text/latex": [
       "$\\displaystyle - \\frac{a^{2} \\left(- \\Sigma + 2 \\mu r\\right) \\left(\\Sigma + 2 \\mu r\\right) \\left(2 \\Delta \\Sigma^{2} \\sin^{2}{\\left(\\theta \\right)} - \\Delta \\Sigma^{2} - \\Sigma^{2} a^{2} \\sin^{4}{\\left(\\theta \\right)} + 4 a^{2} \\mu^{2} r^{2} \\sin^{4}{\\left(\\theta \\right)}\\right)}{\\Delta^{2} \\rho^{8}}$"
      ],
      "text/plain": [
       "  2                          ⎛     2    2         2    2  2    4         2  2 \n",
       "-a ⋅(-Σ + 2⋅μ⋅r)⋅(Σ + 2⋅μ⋅r)⋅⎝2⋅Δ⋅Σ ⋅sin (θ) - Δ⋅Σ  - Σ ⋅a ⋅sin (θ) + 4⋅a ⋅μ ⋅\n",
       "──────────────────────────────────────────────────────────────────────────────\n",
       "                                           2  8                               \n",
       "                                          Δ ⋅ρ                                \n",
       "\n",
       " 2    4   ⎞ \n",
       "r ⋅sin (θ)⎠ \n",
       "────────────\n",
       "            \n",
       "            "
      ]
     },
     "metadata": {},
     "output_type": "display_data"
    },
    {
     "data": {
      "image/png": "[encoded data removed]",
      "text/latex": [
       "$\\displaystyle \\left[ 0, \\  0, \\  3, \\  0\\right]$"
      ],
      "text/plain": [
       "[0, 0, 3, 0]"
      ]
     },
     "metadata": {},
     "output_type": "display_data"
    },
    {
     "data": {
      "image/png": "[encoded data removed]",
      "text/latex": [
       "$\\displaystyle - \\frac{2 a^{3} \\mu r \\left(\\Delta \\mu^{2} \\sin^{2}{\\left(\\theta \\right)} - \\Sigma^{2} \\cos^{2}{\\left(\\theta \\right)} + 4 \\mu^{2} r^{2} \\cos^{2}{\\left(\\theta \\right)}\\right) \\sin^{2}{\\left(\\theta \\right)}}{\\Delta \\rho^{8}}$"
      ],
      "text/plain": [
       "    3     ⎛   2    2       2    2         2  2    2   ⎞    2    \n",
       "-2⋅a ⋅μ⋅r⋅⎝Δ⋅μ ⋅sin (θ) - Σ ⋅cos (θ) + 4⋅μ ⋅r ⋅cos (θ)⎠⋅sin (θ) \n",
       "────────────────────────────────────────────────────────────────\n",
       "                                 8                              \n",
       "                              Δ⋅ρ                               "
      ]
     },
     "metadata": {},
     "output_type": "display_data"
    },
    {
     "data": {
      "image/png": "[encoded data removed]",
      "text/latex": [
       "$\\displaystyle \\left[ 0, \\  0, \\  3, \\  3\\right]$"
      ],
      "text/plain": [
       "[0, 0, 3, 3]"
      ]
     },
     "metadata": {},
     "output_type": "display_data"
    },
    {
     "data": {
      "image/png": "[encoded data removed]",
      "text/latex": [
       "$\\displaystyle \\frac{\\Sigma^{2} a^{2} \\left(\\Delta \\mu^{2} \\sin^{2}{\\left(\\theta \\right)} - \\Sigma^{2} \\cos^{2}{\\left(\\theta \\right)} + 4 \\mu^{2} r^{2} \\cos^{2}{\\left(\\theta \\right)}\\right) \\sin^{2}{\\left(\\theta \\right)}}{\\Delta \\rho^{8}}$"
      ],
      "text/plain": [
       " 2  2 ⎛   2    2       2    2         2  2    2   ⎞    2   \n",
       "Σ ⋅a ⋅⎝Δ⋅μ ⋅sin (θ) - Σ ⋅cos (θ) + 4⋅μ ⋅r ⋅cos (θ)⎠⋅sin (θ)\n",
       "───────────────────────────────────────────────────────────\n",
       "                               8                           \n",
       "                            Δ⋅ρ                            "
      ]
     },
     "metadata": {},
     "output_type": "display_data"
    },
    {
     "data": {
      "image/png": "[encoded data removed]",
      "text/latex": [
       "$\\displaystyle \\left[ 0, \\  1, \\  0, \\  1\\right]$"
      ],
      "text/plain": [
       "[0, 1, 0, 1]"
      ]
     },
     "metadata": {},
     "output_type": "display_data"
    },
    {
     "data": {
      "image/png": "[encoded data removed]",
      "text/latex": [
       "$\\displaystyle \\frac{a^{2} \\mu^{2} \\left(- \\Delta \\Sigma^{2} + \\Sigma^{2} a^{2} \\sin^{2}{\\left(\\theta \\right)} + 4 a^{2} \\mu^{2} r^{2} \\sin^{2}{\\left(\\theta \\right)}\\right) \\sin^{2}{\\left(\\theta \\right)}}{\\Delta^{2} \\rho^{8}}$"
      ],
      "text/plain": [
       " 2  2 ⎛     2    2  2    2         2  2  2    2   ⎞    2   \n",
       "a ⋅μ ⋅⎝- Δ⋅Σ  + Σ ⋅a ⋅sin (θ) + 4⋅a ⋅μ ⋅r ⋅sin (θ)⎠⋅sin (θ)\n",
       "───────────────────────────────────────────────────────────\n",
       "                            2  8                           \n",
       "                           Δ ⋅ρ                            "
      ]
     },
     "metadata": {},
     "output_type": "display_data"
    },
    {
     "data": {
      "image/png": "[encoded data removed]",
      "text/latex": [
       "$\\displaystyle \\left[ 0, \\  1, \\  0, \\  2\\right]$"
      ],
      "text/plain": [
       "[0, 1, 0, 2]"
      ]
     },
     "metadata": {},
     "output_type": "display_data"
    },
    {
     "data": {
      "image/png": "[encoded data removed]",
      "text/latex": [
       "$\\displaystyle - \\frac{a^{2} \\mu^{2} r \\left(2 \\Sigma^{2} + \\rho^{4}\\right) \\sin{\\left(2 \\theta \\right)}}{\\Delta \\rho^{8}}$"
      ],
      "text/plain": [
       "  2  2   ⎛   2    4⎞          \n",
       "-a ⋅μ ⋅r⋅⎝2⋅Σ  + ρ ⎠⋅sin(2⋅θ) \n",
       "──────────────────────────────\n",
       "                8             \n",
       "             Δ⋅ρ              "
      ]
     },
     "metadata": {},
     "output_type": "display_data"
    },
    {
     "data": {
      "image/png": "[encoded data removed]",
      "text/latex": [
       "$\\displaystyle \\left[ 0, \\  1, \\  2, \\  0\\right]$"
      ],
      "text/plain": [
       "[0, 1, 2, 0]"
      ]
     },
     "metadata": {},
     "output_type": "display_data"
    },
    {
     "data": {
      "image/png": "[encoded data removed]",
      "text/latex": [
       "$\\displaystyle - \\frac{\\Sigma^{2} a^{2} \\mu^{2} r \\sin{\\left(2 \\theta \\right)}}{\\Delta \\rho^{8}}$"
      ],
      "text/plain": [
       "  2  2  2            \n",
       "-Σ ⋅a ⋅μ ⋅r⋅sin(2⋅θ) \n",
       "─────────────────────\n",
       "            8        \n",
       "         Δ⋅ρ         "
      ]
     },
     "metadata": {},
     "output_type": "display_data"
    },
    {
     "data": {
      "image/png": "[encoded data removed]",
      "text/latex": [
       "$\\displaystyle \\left[ 0, \\  1, \\  2, \\  3\\right]$"
      ],
      "text/plain": [
       "[0, 1, 2, 3]"
      ]
     },
     "metadata": {},
     "output_type": "display_data"
    },
    {
     "data": {
      "image/png": "[encoded data removed]",
      "text/latex": [
       "$\\displaystyle \\frac{\\Sigma^{4} a \\mu \\sin{\\left(2 \\theta \\right)}}{2 \\Delta \\rho^{8}}$"
      ],
      "text/plain": [
       " 4             \n",
       "Σ ⋅a⋅μ⋅sin(2⋅θ)\n",
       "───────────────\n",
       "          8    \n",
       "     2⋅Δ⋅ρ     "
      ]
     },
     "metadata": {},
     "output_type": "display_data"
    },
    {
     "data": {
      "image/png": "[encoded data removed]",
      "text/latex": [
       "$\\displaystyle \\left[ 0, \\  1, \\  3, \\  1\\right]$"
      ],
      "text/plain": [
       "[0, 1, 3, 1]"
      ]
     },
     "metadata": {},
     "output_type": "display_data"
    },
    {
     "data": {
      "image/png": "[encoded data removed]",
      "text/latex": [
       "$\\displaystyle \\frac{4 \\Sigma^{2} a^{3} \\mu^{3} r \\sin^{4}{\\left(\\theta \\right)}}{\\Delta^{2} \\rho^{8}}$"
      ],
      "text/plain": [
       "   2  3  3      4   \n",
       "4⋅Σ ⋅a ⋅μ ⋅r⋅sin (θ)\n",
       "────────────────────\n",
       "        2  8        \n",
       "       Δ ⋅ρ         "
      ]
     },
     "metadata": {},
     "output_type": "display_data"
    },
    {
     "data": {
      "image/png": "[encoded data removed]",
      "text/latex": [
       "$\\displaystyle \\left[ 0, \\  1, \\  3, \\  2\\right]$"
      ],
      "text/plain": [
       "[0, 1, 3, 2]"
      ]
     },
     "metadata": {},
     "output_type": "display_data"
    },
    {
     "data": {
      "image/png": "[encoded data removed]",
      "text/latex": [
       "$\\displaystyle - \\frac{\\Sigma^{2} a \\mu \\sin{\\left(2 \\theta \\right)}}{2 \\Delta \\rho^{4}}$"
      ],
      "text/plain": [
       "  2              \n",
       "-Σ ⋅a⋅μ⋅sin(2⋅θ) \n",
       "─────────────────\n",
       "           4     \n",
       "      2⋅Δ⋅ρ      "
      ]
     },
     "metadata": {},
     "output_type": "display_data"
    },
    {
     "data": {
      "image/png": "[encoded data removed]",
      "text/latex": [
       "$\\displaystyle \\left[ 0, \\  2, \\  0, \\  1\\right]$"
      ],
      "text/plain": [
       "[0, 2, 0, 1]"
      ]
     },
     "metadata": {},
     "output_type": "display_data"
    },
    {
     "data": {
      "image/png": "[encoded data removed]",
      "text/latex": [
       "$\\displaystyle - \\frac{a^{2} \\mu^{2} r \\left(\\Sigma^{2} + \\rho^{4}\\right) \\sin{\\left(2 \\theta \\right)}}{\\Delta \\rho^{8}}$"
      ],
      "text/plain": [
       "  2  2   ⎛ 2    4⎞          \n",
       "-a ⋅μ ⋅r⋅⎝Σ  + ρ ⎠⋅sin(2⋅θ) \n",
       "────────────────────────────\n",
       "               8            \n",
       "            Δ⋅ρ             "
      ]
     },
     "metadata": {},
     "output_type": "display_data"
    },
    {
     "data": {
      "image/png": "[encoded data removed]",
      "text/latex": [
       "$\\displaystyle \\left[ 0, \\  2, \\  0, \\  2\\right]$"
      ],
      "text/plain": [
       "[0, 2, 0, 2]"
      ]
     },
     "metadata": {},
     "output_type": "display_data"
    },
    {
     "data": {
      "image/png": "[encoded data removed]",
      "text/latex": [
       "$\\displaystyle \\frac{a^{2} \\left(- \\Sigma + 2 \\mu r\\right) \\left(\\Sigma + 2 \\mu r\\right) \\left(2 \\Delta \\Sigma^{2} \\sin^{2}{\\left(\\theta \\right)} - \\Delta \\Sigma^{2} - \\Sigma^{2} a^{2} \\sin^{4}{\\left(\\theta \\right)} + 4 a^{2} \\mu^{2} r^{2} \\sin^{4}{\\left(\\theta \\right)}\\right)}{\\Delta^{2} \\rho^{8}}$"
      ],
      "text/plain": [
       " 2                          ⎛     2    2         2    2  2    4         2  2  \n",
       "a ⋅(-Σ + 2⋅μ⋅r)⋅(Σ + 2⋅μ⋅r)⋅⎝2⋅Δ⋅Σ ⋅sin (θ) - Δ⋅Σ  - Σ ⋅a ⋅sin (θ) + 4⋅a ⋅μ ⋅r\n",
       "──────────────────────────────────────────────────────────────────────────────\n",
       "                                          2  8                                \n",
       "                                         Δ ⋅ρ                                 \n",
       "\n",
       "2    4   ⎞\n",
       " ⋅sin (θ)⎠\n",
       "──────────\n",
       "          \n",
       "          "
      ]
     },
     "metadata": {},
     "output_type": "display_data"
    },
    {
     "data": {
      "image/png": "[encoded data removed]",
      "text/latex": [
       "$\\displaystyle \\left[ 0, \\  2, \\  1, \\  0\\right]$"
      ],
      "text/plain": [
       "[0, 2, 1, 0]"
      ]
     },
     "metadata": {},
     "output_type": "display_data"
    },
    {
     "data": {
      "image/png": "[encoded data removed]",
      "text/latex": [
       "$\\displaystyle \\frac{\\Sigma^{2} a^{2} \\mu^{2} r \\sin{\\left(2 \\theta \\right)}}{\\Delta \\rho^{8}}$"
      ],
      "text/plain": [
       " 2  2  2           \n",
       "Σ ⋅a ⋅μ ⋅r⋅sin(2⋅θ)\n",
       "───────────────────\n",
       "           8       \n",
       "        Δ⋅ρ        "
      ]
     },
     "metadata": {},
     "output_type": "display_data"
    },
    {
     "data": {
      "image/png": "[encoded data removed]",
      "text/latex": [
       "$\\displaystyle \\left[ 0, \\  2, \\  1, \\  3\\right]$"
      ],
      "text/plain": [
       "[0, 2, 1, 3]"
      ]
     },
     "metadata": {},
     "output_type": "display_data"
    },
    {
     "data": {
      "image/png": "[encoded data removed]",
      "text/latex": [
       "$\\displaystyle - \\frac{\\Sigma^{4} a \\mu \\sin{\\left(2 \\theta \\right)}}{2 \\Delta \\rho^{8}}$"
      ],
      "text/plain": [
       "  4              \n",
       "-Σ ⋅a⋅μ⋅sin(2⋅θ) \n",
       "─────────────────\n",
       "           8     \n",
       "      2⋅Δ⋅ρ      "
      ]
     },
     "metadata": {},
     "output_type": "display_data"
    },
    {
     "data": {
      "image/png": "[encoded data removed]",
      "text/latex": [
       "$\\displaystyle \\left[ 0, \\  2, \\  3, \\  1\\right]$"
      ],
      "text/plain": [
       "[0, 2, 3, 1]"
      ]
     },
     "metadata": {},
     "output_type": "display_data"
    },
    {
     "data": {
      "image/png": "[encoded data removed]",
      "text/latex": [
       "$\\displaystyle - \\frac{\\Sigma^{2} a \\mu \\left(\\Sigma^{2} + \\rho^{4}\\right) \\sin{\\left(2 \\theta \\right)}}{2 \\Delta \\rho^{8}}$"
      ],
      "text/plain": [
       "  2     ⎛ 2    4⎞          \n",
       "-Σ ⋅a⋅μ⋅⎝Σ  + ρ ⎠⋅sin(2⋅θ) \n",
       "───────────────────────────\n",
       "                8          \n",
       "           2⋅Δ⋅ρ           "
      ]
     },
     "metadata": {},
     "output_type": "display_data"
    },
    {
     "data": {
      "image/png": "[encoded data removed]",
      "text/latex": [
       "$\\displaystyle \\left[ 0, \\  3, \\  0, \\  0\\right]$"
      ],
      "text/plain": [
       "[0, 3, 0, 0]"
      ]
     },
     "metadata": {},
     "output_type": "display_data"
    },
    {
     "data": {
      "image/png": "[encoded data removed]",
      "text/latex": [
       "$\\displaystyle \\frac{2 a^{3} \\mu r \\left(\\Delta \\mu^{2} \\sin^{2}{\\left(\\theta \\right)} - \\Sigma^{2} \\cos^{2}{\\left(\\theta \\right)} + 4 \\mu^{2} r^{2} \\cos^{2}{\\left(\\theta \\right)}\\right) \\sin^{2}{\\left(\\theta \\right)}}{\\Delta \\rho^{8}}$"
      ],
      "text/plain": [
       "   3     ⎛   2    2       2    2         2  2    2   ⎞    2   \n",
       "2⋅a ⋅μ⋅r⋅⎝Δ⋅μ ⋅sin (θ) - Σ ⋅cos (θ) + 4⋅μ ⋅r ⋅cos (θ)⎠⋅sin (θ)\n",
       "──────────────────────────────────────────────────────────────\n",
       "                                8                             \n",
       "                             Δ⋅ρ                              "
      ]
     },
     "metadata": {},
     "output_type": "display_data"
    },
    {
     "data": {
      "image/png": "[encoded data removed]",
      "text/latex": [
       "$\\displaystyle \\left[ 0, \\  3, \\  0, \\  3\\right]$"
      ],
      "text/plain": [
       "[0, 3, 0, 3]"
      ]
     },
     "metadata": {},
     "output_type": "display_data"
    },
    {
     "data": {
      "image/png": "[encoded data removed]",
      "text/latex": [
       "$\\displaystyle - \\frac{\\Sigma^{2} a^{2} \\left(\\Delta \\mu^{2} \\sin^{2}{\\left(\\theta \\right)} - \\Sigma^{2} \\cos^{2}{\\left(\\theta \\right)} + 4 \\mu^{2} r^{2} \\cos^{2}{\\left(\\theta \\right)}\\right) \\sin^{2}{\\left(\\theta \\right)}}{\\Delta \\rho^{8}}$"
      ],
      "text/plain": [
       "  2  2 ⎛   2    2       2    2         2  2    2   ⎞    2    \n",
       "-Σ ⋅a ⋅⎝Δ⋅μ ⋅sin (θ) - Σ ⋅cos (θ) + 4⋅μ ⋅r ⋅cos (θ)⎠⋅sin (θ) \n",
       "─────────────────────────────────────────────────────────────\n",
       "                                8                            \n",
       "                             Δ⋅ρ                             "
      ]
     },
     "metadata": {},
     "output_type": "display_data"
    },
    {
     "data": {
      "image/png": "[encoded data removed]",
      "text/latex": [
       "$\\displaystyle \\left[ 0, \\  3, \\  1, \\  1\\right]$"
      ],
      "text/plain": [
       "[0, 3, 1, 1]"
      ]
     },
     "metadata": {},
     "output_type": "display_data"
    },
    {
     "data": {
      "image/png": "[encoded data removed]",
      "text/latex": [
       "$\\displaystyle - \\frac{4 \\Sigma^{2} a^{3} \\mu^{3} r \\sin^{4}{\\left(\\theta \\right)}}{\\Delta^{2} \\rho^{8}}$"
      ],
      "text/plain": [
       "    2  3  3      4    \n",
       "-4⋅Σ ⋅a ⋅μ ⋅r⋅sin (θ) \n",
       "──────────────────────\n",
       "         2  8         \n",
       "        Δ ⋅ρ          "
      ]
     },
     "metadata": {},
     "output_type": "display_data"
    },
    {
     "data": {
      "image/png": "[encoded data removed]",
      "text/latex": [
       "$\\displaystyle \\left[ 0, \\  3, \\  1, \\  2\\right]$"
      ],
      "text/plain": [
       "[0, 3, 1, 2]"
      ]
     },
     "metadata": {},
     "output_type": "display_data"
    },
    {
     "data": {
      "image/png": "[encoded data removed]",
      "text/latex": [
       "$\\displaystyle \\frac{\\Sigma^{2} a \\mu \\sin{\\left(2 \\theta \\right)}}{2 \\Delta \\rho^{4}}$"
      ],
      "text/plain": [
       " 2             \n",
       "Σ ⋅a⋅μ⋅sin(2⋅θ)\n",
       "───────────────\n",
       "          4    \n",
       "     2⋅Δ⋅ρ     "
      ]
     },
     "metadata": {},
     "output_type": "display_data"
    },
    {
     "data": {
      "image/png": "[encoded data removed]",
      "text/latex": [
       "$\\displaystyle \\left[ 0, \\  3, \\  2, \\  1\\right]$"
      ],
      "text/plain": [
       "[0, 3, 2, 1]"
      ]
     },
     "metadata": {},
     "output_type": "display_data"
    },
    {
     "data": {
      "image/png": "[encoded data removed]",
      "text/latex": [
       "$\\displaystyle \\frac{\\Sigma^{2} a \\mu \\left(\\Sigma^{2} + \\rho^{4}\\right) \\sin{\\left(2 \\theta \\right)}}{2 \\Delta \\rho^{8}}$"
      ],
      "text/plain": [
       " 2     ⎛ 2    4⎞         \n",
       "Σ ⋅a⋅μ⋅⎝Σ  + ρ ⎠⋅sin(2⋅θ)\n",
       "─────────────────────────\n",
       "               8         \n",
       "          2⋅Δ⋅ρ          "
      ]
     },
     "metadata": {},
     "output_type": "display_data"
    },
    {
     "data": {
      "image/png": "[encoded data removed]",
      "text/latex": [
       "$\\displaystyle \\left[ 1, \\  0, \\  1, \\  0\\right]$"
      ],
      "text/plain": [
       "[1, 0, 1, 0]"
      ]
     },
     "metadata": {},
     "output_type": "display_data"
    },
    {
     "data": {
      "image/png": "[encoded data removed]",
      "text/latex": [
       "$\\displaystyle - \\frac{a^{2} \\mu^{2} \\left(- \\Delta + a^{2} \\sin^{2}{\\left(\\theta \\right)}\\right) \\sin^{2}{\\left(\\theta \\right)}}{\\rho^{8}}$"
      ],
      "text/plain": [
       "  2  2 ⎛      2    2   ⎞    2    \n",
       "-a ⋅μ ⋅⎝-Δ + a ⋅sin (θ)⎠⋅sin (θ) \n",
       "─────────────────────────────────\n",
       "                 8               \n",
       "                ρ                "
      ]
     },
     "metadata": {},
     "output_type": "display_data"
    },
    {
     "data": {
      "image/png": "[encoded data removed]",
      "text/latex": [
       "$\\displaystyle \\left[ 1, \\  0, \\  1, \\  3\\right]$"
      ],
      "text/plain": [
       "[1, 0, 1, 3]"
      ]
     },
     "metadata": {},
     "output_type": "display_data"
    },
    {
     "data": {
      "image/png": "[encoded data removed]",
      "text/latex": [
       "$\\displaystyle - \\frac{2 a^{3} \\mu^{3} r \\sin^{4}{\\left(\\theta \\right)}}{\\rho^{8}}$"
      ],
      "text/plain": [
       "    3  3      4    \n",
       "-2⋅a ⋅μ ⋅r⋅sin (θ) \n",
       "───────────────────\n",
       "          8        \n",
       "         ρ         "
      ]
     },
     "metadata": {},
     "output_type": "display_data"
    },
    {
     "data": {
      "image/png": "[encoded data removed]",
      "text/latex": [
       "$\\displaystyle \\left[ 1, \\  0, \\  2, \\  0\\right]$"
      ],
      "text/plain": [
       "[1, 0, 2, 0]"
      ]
     },
     "metadata": {},
     "output_type": "display_data"
    },
    {
     "data": {
      "image/png": "[encoded data removed]",
      "text/latex": [
       "$\\displaystyle \\frac{\\Delta a^{2} \\mu^{2} r \\sin{\\left(2 \\theta \\right)}}{\\rho^{8}}$"
      ],
      "text/plain": [
       "   2  2           \n",
       "Δ⋅a ⋅μ ⋅r⋅sin(2⋅θ)\n",
       "──────────────────\n",
       "         8        \n",
       "        ρ         "
      ]
     },
     "metadata": {},
     "output_type": "display_data"
    },
    {
     "data": {
      "image/png": "[encoded data removed]",
      "text/latex": [
       "$\\displaystyle \\left[ 1, \\  0, \\  2, \\  3\\right]$"
      ],
      "text/plain": [
       "[1, 0, 2, 3]"
      ]
     },
     "metadata": {},
     "output_type": "display_data"
    },
    {
     "data": {
      "image/png": "[encoded data removed]",
      "text/latex": [
       "$\\displaystyle \\frac{\\Delta a \\mu \\sin{\\left(2 \\theta \\right)}}{2 \\rho^{4}}$"
      ],
      "text/plain": [
       "Δ⋅a⋅μ⋅sin(2⋅θ)\n",
       "──────────────\n",
       "        4     \n",
       "     2⋅ρ      "
      ]
     },
     "metadata": {},
     "output_type": "display_data"
    },
    {
     "data": {
      "image/png": "[encoded data removed]",
      "text/latex": [
       "$\\displaystyle \\left[ 1, \\  0, \\  3, \\  2\\right]$"
      ],
      "text/plain": [
       "[1, 0, 3, 2]"
      ]
     },
     "metadata": {},
     "output_type": "display_data"
    },
    {
     "data": {
      "image/png": "[encoded data removed]",
      "text/latex": [
       "$\\displaystyle - \\frac{\\Delta \\Sigma^{2} a \\mu \\sin{\\left(2 \\theta \\right)}}{2 \\rho^{8}}$"
      ],
      "text/plain": [
       "    2              \n",
       "-Δ⋅Σ ⋅a⋅μ⋅sin(2⋅θ) \n",
       "───────────────────\n",
       "           8       \n",
       "        2⋅ρ        "
      ]
     },
     "metadata": {},
     "output_type": "display_data"
    },
    {
     "data": {
      "image/png": "[encoded data removed]",
      "text/latex": [
       "$\\displaystyle \\left[ 1, \\  1, \\  0, \\  0\\right]$"
      ],
      "text/plain": [
       "[1, 1, 0, 0]"
      ]
     },
     "metadata": {},
     "output_type": "display_data"
    },
    {
     "data": {
      "image/png": "[encoded data removed]",
      "text/latex": [
       "$\\displaystyle \\frac{a^{2} \\mu^{2} \\left(- \\Delta + a^{2} \\sin^{2}{\\left(\\theta \\right)}\\right) \\sin^{2}{\\left(\\theta \\right)}}{\\rho^{8}}$"
      ],
      "text/plain": [
       " 2  2 ⎛      2    2   ⎞    2   \n",
       "a ⋅μ ⋅⎝-Δ + a ⋅sin (θ)⎠⋅sin (θ)\n",
       "───────────────────────────────\n",
       "                8              \n",
       "               ρ               "
      ]
     },
     "metadata": {},
     "output_type": "display_data"
    },
    {
     "data": {
      "image/png": "[encoded data removed]",
      "text/latex": [
       "$\\displaystyle \\left[ 1, \\  1, \\  0, \\  3\\right]$"
      ],
      "text/plain": [
       "[1, 1, 0, 3]"
      ]
     },
     "metadata": {},
     "output_type": "display_data"
    },
    {
     "data": {
      "image/png": "[encoded data removed]",
      "text/latex": [
       "$\\displaystyle \\frac{2 a^{3} \\mu^{3} r \\sin^{4}{\\left(\\theta \\right)}}{\\rho^{8}}$"
      ],
      "text/plain": [
       "   3  3      4   \n",
       "2⋅a ⋅μ ⋅r⋅sin (θ)\n",
       "─────────────────\n",
       "         8       \n",
       "        ρ        "
      ]
     },
     "metadata": {},
     "output_type": "display_data"
    },
    {
     "data": {
      "image/png": "[encoded data removed]",
      "text/latex": [
       "$\\displaystyle \\left[ 1, \\  1, \\  3, \\  0\\right]$"
      ],
      "text/plain": [
       "[1, 1, 3, 0]"
      ]
     },
     "metadata": {},
     "output_type": "display_data"
    },
    {
     "data": {
      "image/png": "[encoded data removed]",
      "text/latex": [
       "$\\displaystyle \\frac{2 a^{3} \\mu^{3} r \\sin^{4}{\\left(\\theta \\right)}}{\\rho^{8}}$"
      ],
      "text/plain": [
       "   3  3      4   \n",
       "2⋅a ⋅μ ⋅r⋅sin (θ)\n",
       "─────────────────\n",
       "         8       \n",
       "        ρ        "
      ]
     },
     "metadata": {},
     "output_type": "display_data"
    },
    {
     "data": {
      "image/png": "[encoded data removed]",
      "text/latex": [
       "$\\displaystyle \\left[ 1, \\  1, \\  3, \\  3\\right]$"
      ],
      "text/plain": [
       "[1, 1, 3, 3]"
      ]
     },
     "metadata": {},
     "output_type": "display_data"
    },
    {
     "data": {
      "image/png": "[encoded data removed]",
      "text/latex": [
       "$\\displaystyle \\frac{\\Sigma^{2} a^{2} \\mu^{2} \\sin^{4}{\\left(\\theta \\right)}}{\\rho^{8}}$"
      ],
      "text/plain": [
       " 2  2  2    4   \n",
       "Σ ⋅a ⋅μ ⋅sin (θ)\n",
       "────────────────\n",
       "        8       \n",
       "       ρ        "
      ]
     },
     "metadata": {},
     "output_type": "display_data"
    },
    {
     "data": {
      "image/png": "[encoded data removed]",
      "text/latex": [
       "$\\displaystyle \\left[ 1, \\  2, \\  0, \\  0\\right]$"
      ],
      "text/plain": [
       "[1, 2, 0, 0]"
      ]
     },
     "metadata": {},
     "output_type": "display_data"
    },
    {
     "data": {
      "image/png": "[encoded data removed]",
      "text/latex": [
       "$\\displaystyle - \\frac{\\Delta a^{2} \\mu^{2} r \\sin{\\left(2 \\theta \\right)}}{\\rho^{8}}$"
      ],
      "text/plain": [
       "    2  2            \n",
       "-Δ⋅a ⋅μ ⋅r⋅sin(2⋅θ) \n",
       "────────────────────\n",
       "          8         \n",
       "         ρ          "
      ]
     },
     "metadata": {},
     "output_type": "display_data"
    },
    {
     "data": {
      "image/png": "[encoded data removed]",
      "text/latex": [
       "$\\displaystyle \\left[ 1, \\  2, \\  0, \\  3\\right]$"
      ],
      "text/plain": [
       "[1, 2, 0, 3]"
      ]
     },
     "metadata": {},
     "output_type": "display_data"
    },
    {
     "data": {
      "image/png": "[encoded data removed]",
      "text/latex": [
       "$\\displaystyle - \\frac{\\Delta a \\mu \\sin{\\left(2 \\theta \\right)}}{2 \\rho^{4}}$"
      ],
      "text/plain": [
       "-Δ⋅a⋅μ⋅sin(2⋅θ) \n",
       "────────────────\n",
       "         4      \n",
       "      2⋅ρ       "
      ]
     },
     "metadata": {},
     "output_type": "display_data"
    },
    {
     "data": {
      "image/png": "[encoded data removed]",
      "text/latex": [
       "$\\displaystyle \\left[ 1, \\  2, \\  3, \\  0\\right]$"
      ],
      "text/plain": [
       "[1, 2, 3, 0]"
      ]
     },
     "metadata": {},
     "output_type": "display_data"
    },
    {
     "data": {
      "image/png": "[encoded data removed]",
      "text/latex": [
       "$\\displaystyle - \\frac{\\Delta a \\mu \\left(\\Sigma^{2} + \\rho^{4}\\right) \\sin{\\left(2 \\theta \\right)}}{2 \\rho^{8}}$"
      ],
      "text/plain": [
       "       ⎛ 2    4⎞          \n",
       "-Δ⋅a⋅μ⋅⎝Σ  + ρ ⎠⋅sin(2⋅θ) \n",
       "──────────────────────────\n",
       "              8           \n",
       "           2⋅ρ            "
      ]
     },
     "metadata": {},
     "output_type": "display_data"
    },
    {
     "data": {
      "image/png": "[encoded data removed]",
      "text/latex": [
       "$\\displaystyle \\left[ 1, \\  3, \\  0, \\  2\\right]$"
      ],
      "text/plain": [
       "[1, 3, 0, 2]"
      ]
     },
     "metadata": {},
     "output_type": "display_data"
    },
    {
     "data": {
      "image/png": "[encoded data removed]",
      "text/latex": [
       "$\\displaystyle \\frac{\\Delta \\Sigma^{2} a \\mu \\sin{\\left(2 \\theta \\right)}}{2 \\rho^{8}}$"
      ],
      "text/plain": [
       "   2             \n",
       "Δ⋅Σ ⋅a⋅μ⋅sin(2⋅θ)\n",
       "─────────────────\n",
       "          8      \n",
       "       2⋅ρ       "
      ]
     },
     "metadata": {},
     "output_type": "display_data"
    },
    {
     "data": {
      "image/png": "[encoded data removed]",
      "text/latex": [
       "$\\displaystyle \\left[ 1, \\  3, \\  1, \\  0\\right]$"
      ],
      "text/plain": [
       "[1, 3, 1, 0]"
      ]
     },
     "metadata": {},
     "output_type": "display_data"
    },
    {
     "data": {
      "image/png": "[encoded data removed]",
      "text/latex": [
       "$\\displaystyle - \\frac{2 a^{3} \\mu^{3} r \\sin^{4}{\\left(\\theta \\right)}}{\\rho^{8}}$"
      ],
      "text/plain": [
       "    3  3      4    \n",
       "-2⋅a ⋅μ ⋅r⋅sin (θ) \n",
       "───────────────────\n",
       "          8        \n",
       "         ρ         "
      ]
     },
     "metadata": {},
     "output_type": "display_data"
    },
    {
     "data": {
      "image/png": "[encoded data removed]",
      "text/latex": [
       "$\\displaystyle \\left[ 1, \\  3, \\  1, \\  3\\right]$"
      ],
      "text/plain": [
       "[1, 3, 1, 3]"
      ]
     },
     "metadata": {},
     "output_type": "display_data"
    },
    {
     "data": {
      "image/png": "[encoded data removed]",
      "text/latex": [
       "$\\displaystyle - \\frac{\\Sigma^{2} a^{2} \\mu^{2} \\sin^{4}{\\left(\\theta \\right)}}{\\rho^{8}}$"
      ],
      "text/plain": [
       "  2  2  2    4    \n",
       "-Σ ⋅a ⋅μ ⋅sin (θ) \n",
       "──────────────────\n",
       "         8        \n",
       "        ρ         "
      ]
     },
     "metadata": {},
     "output_type": "display_data"
    },
    {
     "data": {
      "image/png": "[encoded data removed]",
      "text/latex": [
       "$\\displaystyle \\left[ 1, \\  3, \\  2, \\  0\\right]$"
      ],
      "text/plain": [
       "[1, 3, 2, 0]"
      ]
     },
     "metadata": {},
     "output_type": "display_data"
    },
    {
     "data": {
      "image/png": "[encoded data removed]",
      "text/latex": [
       "$\\displaystyle \\frac{\\Delta a \\mu \\left(\\Sigma^{2} + \\rho^{4}\\right) \\sin{\\left(2 \\theta \\right)}}{2 \\rho^{8}}$"
      ],
      "text/plain": [
       "      ⎛ 2    4⎞         \n",
       "Δ⋅a⋅μ⋅⎝Σ  + ρ ⎠⋅sin(2⋅θ)\n",
       "────────────────────────\n",
       "             8          \n",
       "          2⋅ρ           "
      ]
     },
     "metadata": {},
     "output_type": "display_data"
    },
    {
     "data": {
      "image/png": "[encoded data removed]",
      "text/latex": [
       "$\\displaystyle \\left[ 2, \\  0, \\  1, \\  0\\right]$"
      ],
      "text/plain": [
       "[2, 0, 1, 0]"
      ]
     },
     "metadata": {},
     "output_type": "display_data"
    },
    {
     "data": {
      "image/png": "[encoded data removed]",
      "text/latex": [
       "$\\displaystyle \\frac{a^{2} \\mu^{2} r \\sin{\\left(2 \\theta \\right)}}{\\rho^{8}}$"
      ],
      "text/plain": [
       " 2  2           \n",
       "a ⋅μ ⋅r⋅sin(2⋅θ)\n",
       "────────────────\n",
       "        8       \n",
       "       ρ        "
      ]
     },
     "metadata": {},
     "output_type": "display_data"
    },
    {
     "data": {
      "image/png": "[encoded data removed]",
      "text/latex": [
       "$\\displaystyle \\left[ 2, \\  0, \\  1, \\  3\\right]$"
      ],
      "text/plain": [
       "[2, 0, 1, 3]"
      ]
     },
     "metadata": {},
     "output_type": "display_data"
    },
    {
     "data": {
      "image/png": "[encoded data removed]",
      "text/latex": [
       "$\\displaystyle \\frac{a \\mu \\left(\\Sigma^{2} + \\rho^{4}\\right) \\sin{\\left(2 \\theta \\right)}}{2 \\rho^{8}}$"
      ],
      "text/plain": [
       "    ⎛ 2    4⎞         \n",
       "a⋅μ⋅⎝Σ  + ρ ⎠⋅sin(2⋅θ)\n",
       "──────────────────────\n",
       "            8         \n",
       "         2⋅ρ          "
      ]
     },
     "metadata": {},
     "output_type": "display_data"
    },
    {
     "data": {
      "image/png": "[encoded data removed]",
      "text/latex": [
       "$\\displaystyle \\left[ 2, \\  0, \\  2, \\  0\\right]$"
      ],
      "text/plain": [
       "[2, 0, 2, 0]"
      ]
     },
     "metadata": {},
     "output_type": "display_data"
    },
    {
     "data": {
      "image/png": "[encoded data removed]",
      "text/latex": [
       "$\\displaystyle \\frac{a^{2} \\left(- 2 \\Delta \\Sigma^{2} \\cos^{2}{\\left(\\theta \\right)} + \\Delta \\Sigma^{2} + 4 \\Delta \\mu^{2} r^{2} \\cos^{2}{\\left(\\theta \\right)} - \\Sigma^{2} a^{2} \\sin^{4}{\\left(\\theta \\right)} + 4 a^{2} \\mu^{2} r^{2} \\sin^{4}{\\left(\\theta \\right)}\\right)}{\\Delta \\rho^{8}}$"
      ],
      "text/plain": [
       " 2 ⎛       2    2         2        2  2    2       2  2    4         2  2  2  \n",
       "a ⋅⎝- 2⋅Δ⋅Σ ⋅cos (θ) + Δ⋅Σ  + 4⋅Δ⋅μ ⋅r ⋅cos (θ) - Σ ⋅a ⋅sin (θ) + 4⋅a ⋅μ ⋅r ⋅s\n",
       "──────────────────────────────────────────────────────────────────────────────\n",
       "                                            8                                 \n",
       "                                         Δ⋅ρ                                  \n",
       "\n",
       "  4   ⎞\n",
       "in (θ)⎠\n",
       "───────\n",
       "       \n",
       "       "
      ]
     },
     "metadata": {},
     "output_type": "display_data"
    },
    {
     "data": {
      "image/png": "[encoded data removed]",
      "text/latex": [
       "$\\displaystyle \\left[ 2, \\  0, \\  2, \\  3\\right]$"
      ],
      "text/plain": [
       "[2, 0, 2, 3]"
      ]
     },
     "metadata": {},
     "output_type": "display_data"
    },
    {
     "data": {
      "image/png": "[encoded data removed]",
      "text/latex": [
       "$\\displaystyle - \\frac{2 a \\mu r \\sin^{2}{\\left(\\theta \\right)}}{\\rho^{4}}$"
      ],
      "text/plain": [
       "            2    \n",
       "-2⋅a⋅μ⋅r⋅sin (θ) \n",
       "─────────────────\n",
       "         4       \n",
       "        ρ        "
      ]
     },
     "metadata": {},
     "output_type": "display_data"
    },
    {
     "data": {
      "image/png": "[encoded data removed]",
      "text/latex": [
       "$\\displaystyle \\left[ 2, \\  0, \\  3, \\  1\\right]$"
      ],
      "text/plain": [
       "[2, 0, 3, 1]"
      ]
     },
     "metadata": {},
     "output_type": "display_data"
    },
    {
     "data": {
      "image/png": "[encoded data removed]",
      "text/latex": [
       "$\\displaystyle \\frac{\\Sigma^{2} a \\mu \\sin{\\left(2 \\theta \\right)}}{2 \\rho^{8}}$"
      ],
      "text/plain": [
       " 2             \n",
       "Σ ⋅a⋅μ⋅sin(2⋅θ)\n",
       "───────────────\n",
       "         8     \n",
       "      2⋅ρ      "
      ]
     },
     "metadata": {},
     "output_type": "display_data"
    },
    {
     "data": {
      "image/png": "[encoded data removed]",
      "text/latex": [
       "$\\displaystyle \\left[ 2, \\  1, \\  0, \\  0\\right]$"
      ],
      "text/plain": [
       "[2, 1, 0, 0]"
      ]
     },
     "metadata": {},
     "output_type": "display_data"
    },
    {
     "data": {
      "image/png": "[encoded data removed]",
      "text/latex": [
       "$\\displaystyle - \\frac{a^{2} \\mu^{2} r \\sin{\\left(2 \\theta \\right)}}{\\rho^{8}}$"
      ],
      "text/plain": [
       "  2  2            \n",
       "-a ⋅μ ⋅r⋅sin(2⋅θ) \n",
       "──────────────────\n",
       "         8        \n",
       "        ρ         "
      ]
     },
     "metadata": {},
     "output_type": "display_data"
    },
    {
     "data": {
      "image/png": "[encoded data removed]",
      "text/latex": [
       "$\\displaystyle \\left[ 2, \\  1, \\  0, \\  3\\right]$"
      ],
      "text/plain": [
       "[2, 1, 0, 3]"
      ]
     },
     "metadata": {},
     "output_type": "display_data"
    },
    {
     "data": {
      "image/png": "[encoded data removed]",
      "text/latex": [
       "$\\displaystyle - \\frac{a \\mu \\left(\\Sigma^{2} + \\rho^{4}\\right) \\sin{\\left(2 \\theta \\right)}}{2 \\rho^{8}}$"
      ],
      "text/plain": [
       "     ⎛ 2    4⎞          \n",
       "-a⋅μ⋅⎝Σ  + ρ ⎠⋅sin(2⋅θ) \n",
       "────────────────────────\n",
       "             8          \n",
       "          2⋅ρ           "
      ]
     },
     "metadata": {},
     "output_type": "display_data"
    },
    {
     "data": {
      "image/png": "[encoded data removed]",
      "text/latex": [
       "$\\displaystyle \\left[ 2, \\  1, \\  3, \\  0\\right]$"
      ],
      "text/plain": [
       "[2, 1, 3, 0]"
      ]
     },
     "metadata": {},
     "output_type": "display_data"
    },
    {
     "data": {
      "image/png": "[encoded data removed]",
      "text/latex": [
       "$\\displaystyle - \\frac{a \\mu \\sin{\\left(2 \\theta \\right)}}{2 \\rho^{4}}$"
      ],
      "text/plain": [
       "-a⋅μ⋅sin(2⋅θ) \n",
       "──────────────\n",
       "        4     \n",
       "     2⋅ρ      "
      ]
     },
     "metadata": {},
     "output_type": "display_data"
    },
    {
     "data": {
      "image/png": "[encoded data removed]",
      "text/latex": [
       "$\\displaystyle \\left[ 2, \\  2, \\  0, \\  0\\right]$"
      ],
      "text/plain": [
       "[2, 2, 0, 0]"
      ]
     },
     "metadata": {},
     "output_type": "display_data"
    },
    {
     "data": {
      "image/png": "[encoded data removed]",
      "text/latex": [
       "$\\displaystyle - \\frac{a^{2} \\left(- 2 \\Delta \\Sigma^{2} \\cos^{2}{\\left(\\theta \\right)} + \\Delta \\Sigma^{2} + 4 \\Delta \\mu^{2} r^{2} \\cos^{2}{\\left(\\theta \\right)} - \\Sigma^{2} a^{2} \\sin^{4}{\\left(\\theta \\right)} + 4 a^{2} \\mu^{2} r^{2} \\sin^{4}{\\left(\\theta \\right)}\\right)}{\\Delta \\rho^{8}}$"
      ],
      "text/plain": [
       "  2 ⎛       2    2         2        2  2    2       2  2    4         2  2  2 \n",
       "-a ⋅⎝- 2⋅Δ⋅Σ ⋅cos (θ) + Δ⋅Σ  + 4⋅Δ⋅μ ⋅r ⋅cos (θ) - Σ ⋅a ⋅sin (θ) + 4⋅a ⋅μ ⋅r ⋅\n",
       "──────────────────────────────────────────────────────────────────────────────\n",
       "                                             8                                \n",
       "                                          Δ⋅ρ                                 \n",
       "\n",
       "   4   ⎞ \n",
       "sin (θ)⎠ \n",
       "─────────\n",
       "         \n",
       "         "
      ]
     },
     "metadata": {},
     "output_type": "display_data"
    },
    {
     "data": {
      "image/png": "[encoded data removed]",
      "text/latex": [
       "$\\displaystyle \\left[ 2, \\  2, \\  0, \\  3\\right]$"
      ],
      "text/plain": [
       "[2, 2, 0, 3]"
      ]
     },
     "metadata": {},
     "output_type": "display_data"
    },
    {
     "data": {
      "image/png": "[encoded data removed]",
      "text/latex": [
       "$\\displaystyle \\frac{2 a \\mu r \\sin^{2}{\\left(\\theta \\right)}}{\\rho^{4}}$"
      ],
      "text/plain": [
       "           2   \n",
       "2⋅a⋅μ⋅r⋅sin (θ)\n",
       "───────────────\n",
       "        4      \n",
       "       ρ       "
      ]
     },
     "metadata": {},
     "output_type": "display_data"
    },
    {
     "data": {
      "image/png": "[encoded data removed]",
      "text/latex": [
       "$\\displaystyle \\left[ 2, \\  2, \\  3, \\  0\\right]$"
      ],
      "text/plain": [
       "[2, 2, 3, 0]"
      ]
     },
     "metadata": {},
     "output_type": "display_data"
    },
    {
     "data": {
      "image/png": "[encoded data removed]",
      "text/latex": [
       "$\\displaystyle \\frac{2 a \\mu r \\sin^{2}{\\left(\\theta \\right)}}{\\rho^{4}}$"
      ],
      "text/plain": [
       "           2   \n",
       "2⋅a⋅μ⋅r⋅sin (θ)\n",
       "───────────────\n",
       "        4      \n",
       "       ρ       "
      ]
     },
     "metadata": {},
     "output_type": "display_data"
    },
    {
     "data": {
      "image/png": "[encoded data removed]",
      "text/latex": [
       "$\\displaystyle \\left[ 2, \\  2, \\  3, \\  3\\right]$"
      ],
      "text/plain": [
       "[2, 2, 3, 3]"
      ]
     },
     "metadata": {},
     "output_type": "display_data"
    },
    {
     "data": {
      "image/png": "[encoded data removed]",
      "text/latex": [
       "$\\displaystyle - \\frac{\\Sigma^{2} \\sin^{2}{\\left(\\theta \\right)}}{\\rho^{4}}$"
      ],
      "text/plain": [
       "  2    2    \n",
       "-Σ ⋅sin (θ) \n",
       "────────────\n",
       "      4     \n",
       "     ρ      "
      ]
     },
     "metadata": {},
     "output_type": "display_data"
    },
    {
     "data": {
      "image/png": "[encoded data removed]",
      "text/latex": [
       "$\\displaystyle \\left[ 2, \\  3, \\  0, \\  1\\right]$"
      ],
      "text/plain": [
       "[2, 3, 0, 1]"
      ]
     },
     "metadata": {},
     "output_type": "display_data"
    },
    {
     "data": {
      "image/png": "[encoded data removed]",
      "text/latex": [
       "$\\displaystyle - \\frac{\\Sigma^{2} a \\mu \\sin{\\left(2 \\theta \\right)}}{2 \\rho^{8}}$"
      ],
      "text/plain": [
       "  2              \n",
       "-Σ ⋅a⋅μ⋅sin(2⋅θ) \n",
       "─────────────────\n",
       "          8      \n",
       "       2⋅ρ       "
      ]
     },
     "metadata": {},
     "output_type": "display_data"
    },
    {
     "data": {
      "image/png": "[encoded data removed]",
      "text/latex": [
       "$\\displaystyle \\left[ 2, \\  3, \\  1, \\  0\\right]$"
      ],
      "text/plain": [
       "[2, 3, 1, 0]"
      ]
     },
     "metadata": {},
     "output_type": "display_data"
    },
    {
     "data": {
      "image/png": "[encoded data removed]",
      "text/latex": [
       "$\\displaystyle \\frac{a \\mu \\sin{\\left(2 \\theta \\right)}}{2 \\rho^{4}}$"
      ],
      "text/plain": [
       "a⋅μ⋅sin(2⋅θ)\n",
       "────────────\n",
       "       4    \n",
       "    2⋅ρ     "
      ]
     },
     "metadata": {},
     "output_type": "display_data"
    },
    {
     "data": {
      "image/png": "[encoded data removed]",
      "text/latex": [
       "$\\displaystyle \\left[ 2, \\  3, \\  2, \\  0\\right]$"
      ],
      "text/plain": [
       "[2, 3, 2, 0]"
      ]
     },
     "metadata": {},
     "output_type": "display_data"
    },
    {
     "data": {
      "image/png": "[encoded data removed]",
      "text/latex": [
       "$\\displaystyle - \\frac{2 a \\mu r \\sin^{2}{\\left(\\theta \\right)}}{\\rho^{4}}$"
      ],
      "text/plain": [
       "            2    \n",
       "-2⋅a⋅μ⋅r⋅sin (θ) \n",
       "─────────────────\n",
       "         4       \n",
       "        ρ        "
      ]
     },
     "metadata": {},
     "output_type": "display_data"
    },
    {
     "data": {
      "image/png": "[encoded data removed]",
      "text/latex": [
       "$\\displaystyle \\left[ 2, \\  3, \\  2, \\  3\\right]$"
      ],
      "text/plain": [
       "[2, 3, 2, 3]"
      ]
     },
     "metadata": {},
     "output_type": "display_data"
    },
    {
     "data": {
      "image/png": "[encoded data removed]",
      "text/latex": [
       "$\\displaystyle \\frac{\\Sigma^{2} \\sin^{2}{\\left(\\theta \\right)}}{\\rho^{4}}$"
      ],
      "text/plain": [
       " 2    2   \n",
       "Σ ⋅sin (θ)\n",
       "──────────\n",
       "     4    \n",
       "    ρ     "
      ]
     },
     "metadata": {},
     "output_type": "display_data"
    },
    {
     "data": {
      "image/png": "[encoded data removed]",
      "text/latex": [
       "$\\displaystyle \\left[ 3, \\  0, \\  1, \\  1\\right]$"
      ],
      "text/plain": [
       "[3, 0, 1, 1]"
      ]
     },
     "metadata": {},
     "output_type": "display_data"
    },
    {
     "data": {
      "image/png": "[encoded data removed]",
      "text/latex": [
       "$\\displaystyle - \\frac{4 a^{3} \\mu^{3} r \\left(- \\Delta + a^{2} \\sin^{2}{\\left(\\theta \\right)}\\right) \\sin^{2}{\\left(\\theta \\right)}}{\\Delta^{2} \\rho^{8}}$"
      ],
      "text/plain": [
       "    3  3   ⎛      2    2   ⎞    2    \n",
       "-4⋅a ⋅μ ⋅r⋅⎝-Δ + a ⋅sin (θ)⎠⋅sin (θ) \n",
       "─────────────────────────────────────\n",
       "                 2  8                \n",
       "                Δ ⋅ρ                 "
      ]
     },
     "metadata": {},
     "output_type": "display_data"
    },
    {
     "data": {
      "image/png": "[encoded data removed]",
      "text/latex": [
       "$\\displaystyle \\left[ 3, \\  0, \\  1, \\  2\\right]$"
      ],
      "text/plain": [
       "[3, 0, 1, 2]"
      ]
     },
     "metadata": {},
     "output_type": "display_data"
    },
    {
     "data": {
      "image/png": "[encoded data removed]",
      "text/latex": [
       "$\\displaystyle \\frac{a \\mu \\left(- 2 \\Delta^{2} \\Sigma^{2} + 3 \\Delta \\Sigma^{2} a^{2} \\sin^{2}{\\left(\\theta \\right)} - \\Sigma^{2} a^{4} \\sin^{4}{\\left(\\theta \\right)} + 4 a^{4} \\mu^{2} r^{2} \\sin^{4}{\\left(\\theta \\right)}\\right)}{\\Delta^{2} \\rho^{8} \\tan{\\left(\\theta \\right)}}$"
      ],
      "text/plain": [
       "    ⎛     2  2        2  2    2       2  4    4         4  2  2    4   ⎞\n",
       "a⋅μ⋅⎝- 2⋅Δ ⋅Σ  + 3⋅Δ⋅Σ ⋅a ⋅sin (θ) - Σ ⋅a ⋅sin (θ) + 4⋅a ⋅μ ⋅r ⋅sin (θ)⎠\n",
       "────────────────────────────────────────────────────────────────────────\n",
       "                               2  8                                     \n",
       "                              Δ ⋅ρ ⋅tan(θ)                              "
      ]
     },
     "metadata": {},
     "output_type": "display_data"
    },
    {
     "data": {
      "image/png": "[encoded data removed]",
      "text/latex": [
       "$\\displaystyle \\left[ 3, \\  0, \\  2, \\  1\\right]$"
      ],
      "text/plain": [
       "[3, 0, 2, 1]"
      ]
     },
     "metadata": {},
     "output_type": "display_data"
    },
    {
     "data": {
      "image/png": "[encoded data removed]",
      "text/latex": [
       "$\\displaystyle \\frac{a \\mu \\left(- \\Delta \\Sigma + \\Sigma a^{2} \\sin^{2}{\\left(\\theta \\right)} + 2 a^{2} \\mu r \\sin^{2}{\\left(\\theta \\right)}\\right) \\left(\\Delta \\Sigma - \\Sigma a^{2} \\sin^{2}{\\left(\\theta \\right)} + 2 a^{2} \\mu r \\sin^{2}{\\left(\\theta \\right)}\\right)}{\\Delta^{2} \\rho^{8} \\tan{\\left(\\theta \\right)}}$"
      ],
      "text/plain": [
       "    ⎛          2    2         2        2   ⎞ ⎛         2    2         2       \n",
       "a⋅μ⋅⎝-Δ⋅Σ + Σ⋅a ⋅sin (θ) + 2⋅a ⋅μ⋅r⋅sin (θ)⎠⋅⎝Δ⋅Σ - Σ⋅a ⋅sin (θ) + 2⋅a ⋅μ⋅r⋅si\n",
       "──────────────────────────────────────────────────────────────────────────────\n",
       "                                     2  8                                     \n",
       "                                    Δ ⋅ρ ⋅tan(θ)                              \n",
       "\n",
       " 2   ⎞\n",
       "n (θ)⎠\n",
       "──────\n",
       "      \n",
       "      "
      ]
     },
     "metadata": {},
     "output_type": "display_data"
    },
    {
     "data": {
      "image/png": "[encoded data removed]",
      "text/latex": [
       "$\\displaystyle \\left[ 3, \\  0, \\  2, \\  2\\right]$"
      ],
      "text/plain": [
       "[3, 0, 2, 2]"
      ]
     },
     "metadata": {},
     "output_type": "display_data"
    },
    {
     "data": {
      "image/png": "[encoded data removed]",
      "text/latex": [
       "$\\displaystyle \\frac{2 a \\mu r \\left(\\Delta \\Sigma^{2} - \\Sigma^{2} a^{2} + 4 a^{2} \\mu^{2} r^{2}\\right)}{\\Delta \\rho^{8}}$"
      ],
      "text/plain": [
       "        ⎛   2    2  2      2  2  2⎞\n",
       "2⋅a⋅μ⋅r⋅⎝Δ⋅Σ  - Σ ⋅a  + 4⋅a ⋅μ ⋅r ⎠\n",
       "───────────────────────────────────\n",
       "                   8               \n",
       "                Δ⋅ρ                "
      ]
     },
     "metadata": {},
     "output_type": "display_data"
    },
    {
     "data": {
      "image/png": "[encoded data removed]",
      "text/latex": [
       "$\\displaystyle \\left[ 3, \\  0, \\  3, \\  0\\right]$"
      ],
      "text/plain": [
       "[3, 0, 3, 0]"
      ]
     },
     "metadata": {},
     "output_type": "display_data"
    },
    {
     "data": {
      "image/png": "[encoded data removed]",
      "text/latex": [
       "$\\displaystyle - \\frac{a^{2} \\left(- \\Delta + a^{2} \\sin^{2}{\\left(\\theta \\right)}\\right) \\left(\\Delta \\mu^{2} \\sin^{2}{\\left(\\theta \\right)} - \\Sigma^{2} \\cos^{2}{\\left(\\theta \\right)} + 4 \\mu^{2} r^{2} \\cos^{2}{\\left(\\theta \\right)}\\right)}{\\Delta \\rho^{8}}$"
      ],
      "text/plain": [
       "  2 ⎛      2    2   ⎞ ⎛   2    2       2    2         2  2    2   ⎞ \n",
       "-a ⋅⎝-Δ + a ⋅sin (θ)⎠⋅⎝Δ⋅μ ⋅sin (θ) - Σ ⋅cos (θ) + 4⋅μ ⋅r ⋅cos (θ)⎠ \n",
       "────────────────────────────────────────────────────────────────────\n",
       "                                   8                                \n",
       "                                Δ⋅ρ                                 "
      ]
     },
     "metadata": {},
     "output_type": "display_data"
    },
    {
     "data": {
      "image/png": "[encoded data removed]",
      "text/latex": [
       "$\\displaystyle \\left[ 3, \\  0, \\  3, \\  3\\right]$"
      ],
      "text/plain": [
       "[3, 0, 3, 3]"
      ]
     },
     "metadata": {},
     "output_type": "display_data"
    },
    {
     "data": {
      "image/png": "[encoded data removed]",
      "text/latex": [
       "$\\displaystyle \\frac{2 a^{3} \\mu r \\left(\\Delta \\mu^{2} \\sin^{2}{\\left(\\theta \\right)} - \\Sigma^{2} \\cos^{2}{\\left(\\theta \\right)} + 4 \\mu^{2} r^{2} \\cos^{2}{\\left(\\theta \\right)}\\right) \\sin^{2}{\\left(\\theta \\right)}}{\\Delta \\rho^{8}}$"
      ],
      "text/plain": [
       "   3     ⎛   2    2       2    2         2  2    2   ⎞    2   \n",
       "2⋅a ⋅μ⋅r⋅⎝Δ⋅μ ⋅sin (θ) - Σ ⋅cos (θ) + 4⋅μ ⋅r ⋅cos (θ)⎠⋅sin (θ)\n",
       "──────────────────────────────────────────────────────────────\n",
       "                                8                             \n",
       "                             Δ⋅ρ                              "
      ]
     },
     "metadata": {},
     "output_type": "display_data"
    },
    {
     "data": {
      "image/png": "[encoded data removed]",
      "text/latex": [
       "$\\displaystyle \\left[ 3, \\  1, \\  0, \\  1\\right]$"
      ],
      "text/plain": [
       "[3, 1, 0, 1]"
      ]
     },
     "metadata": {},
     "output_type": "display_data"
    },
    {
     "data": {
      "image/png": "[encoded data removed]",
      "text/latex": [
       "$\\displaystyle \\frac{4 a^{3} \\mu^{3} r \\left(- \\Delta + a^{2} \\sin^{2}{\\left(\\theta \\right)}\\right) \\sin^{2}{\\left(\\theta \\right)}}{\\Delta^{2} \\rho^{8}}$"
      ],
      "text/plain": [
       "   3  3   ⎛      2    2   ⎞    2   \n",
       "4⋅a ⋅μ ⋅r⋅⎝-Δ + a ⋅sin (θ)⎠⋅sin (θ)\n",
       "───────────────────────────────────\n",
       "                2  8               \n",
       "               Δ ⋅ρ                "
      ]
     },
     "metadata": {},
     "output_type": "display_data"
    },
    {
     "data": {
      "image/png": "[encoded data removed]",
      "text/latex": [
       "$\\displaystyle \\left[ 3, \\  1, \\  0, \\  2\\right]$"
      ],
      "text/plain": [
       "[3, 1, 0, 2]"
      ]
     },
     "metadata": {},
     "output_type": "display_data"
    },
    {
     "data": {
      "image/png": "[encoded data removed]",
      "text/latex": [
       "$\\displaystyle - \\frac{a \\mu \\left(- 2 \\Delta^{2} \\Sigma^{2} + 3 \\Delta \\Sigma^{2} a^{2} \\sin^{2}{\\left(\\theta \\right)} - \\Sigma^{2} a^{4} \\sin^{4}{\\left(\\theta \\right)} + 4 a^{4} \\mu^{2} r^{2} \\sin^{4}{\\left(\\theta \\right)}\\right)}{\\Delta^{2} \\rho^{8} \\tan{\\left(\\theta \\right)}}$"
      ],
      "text/plain": [
       "     ⎛     2  2        2  2    2       2  4    4         4  2  2    4   ⎞ \n",
       "-a⋅μ⋅⎝- 2⋅Δ ⋅Σ  + 3⋅Δ⋅Σ ⋅a ⋅sin (θ) - Σ ⋅a ⋅sin (θ) + 4⋅a ⋅μ ⋅r ⋅sin (θ)⎠ \n",
       "──────────────────────────────────────────────────────────────────────────\n",
       "                                2  8                                      \n",
       "                               Δ ⋅ρ ⋅tan(θ)                               "
      ]
     },
     "metadata": {},
     "output_type": "display_data"
    },
    {
     "data": {
      "image/png": "[encoded data removed]",
      "text/latex": [
       "$\\displaystyle \\left[ 3, \\  1, \\  2, \\  0\\right]$"
      ],
      "text/plain": [
       "[3, 1, 2, 0]"
      ]
     },
     "metadata": {},
     "output_type": "display_data"
    },
    {
     "data": {
      "image/png": "[encoded data removed]",
      "text/latex": [
       "$\\displaystyle - \\frac{\\Sigma^{2} a \\mu \\left(- \\Delta + a^{2} \\sin^{2}{\\left(\\theta \\right)}\\right)}{\\Delta \\rho^{8} \\tan{\\left(\\theta \\right)}}$"
      ],
      "text/plain": [
       "  2     ⎛      2    2   ⎞ \n",
       "-Σ ⋅a⋅μ⋅⎝-Δ + a ⋅sin (θ)⎠ \n",
       "──────────────────────────\n",
       "          8               \n",
       "       Δ⋅ρ ⋅tan(θ)        "
      ]
     },
     "metadata": {},
     "output_type": "display_data"
    },
    {
     "data": {
      "image/png": "[encoded data removed]",
      "text/latex": [
       "$\\displaystyle \\left[ 3, \\  1, \\  2, \\  3\\right]$"
      ],
      "text/plain": [
       "[3, 1, 2, 3]"
      ]
     },
     "metadata": {},
     "output_type": "display_data"
    },
    {
     "data": {
      "image/png": "[encoded data removed]",
      "text/latex": [
       "$\\displaystyle \\frac{\\Sigma^{2} a^{2} \\mu^{2} r \\sin{\\left(2 \\theta \\right)}}{\\Delta \\rho^{8}}$"
      ],
      "text/plain": [
       " 2  2  2           \n",
       "Σ ⋅a ⋅μ ⋅r⋅sin(2⋅θ)\n",
       "───────────────────\n",
       "           8       \n",
       "        Δ⋅ρ        "
      ]
     },
     "metadata": {},
     "output_type": "display_data"
    },
    {
     "data": {
      "image/png": "[encoded data removed]",
      "text/latex": [
       "$\\displaystyle \\left[ 3, \\  1, \\  3, \\  1\\right]$"
      ],
      "text/plain": [
       "[3, 1, 3, 1]"
      ]
     },
     "metadata": {},
     "output_type": "display_data"
    },
    {
     "data": {
      "image/png": "[encoded data removed]",
      "text/latex": [
       "$\\displaystyle \\frac{a^{2} \\mu^{2} \\left(- \\Delta \\Sigma^{2} + \\Sigma^{2} a^{2} \\sin^{2}{\\left(\\theta \\right)} + 4 a^{2} \\mu^{2} r^{2} \\sin^{2}{\\left(\\theta \\right)}\\right) \\sin^{2}{\\left(\\theta \\right)}}{\\Delta^{2} \\rho^{8}}$"
      ],
      "text/plain": [
       " 2  2 ⎛     2    2  2    2         2  2  2    2   ⎞    2   \n",
       "a ⋅μ ⋅⎝- Δ⋅Σ  + Σ ⋅a ⋅sin (θ) + 4⋅a ⋅μ ⋅r ⋅sin (θ)⎠⋅sin (θ)\n",
       "───────────────────────────────────────────────────────────\n",
       "                            2  8                           \n",
       "                           Δ ⋅ρ                            "
      ]
     },
     "metadata": {},
     "output_type": "display_data"
    },
    {
     "data": {
      "image/png": "[encoded data removed]",
      "text/latex": [
       "$\\displaystyle \\left[ 3, \\  1, \\  3, \\  2\\right]$"
      ],
      "text/plain": [
       "[3, 1, 3, 2]"
      ]
     },
     "metadata": {},
     "output_type": "display_data"
    },
    {
     "data": {
      "image/png": "[encoded data removed]",
      "text/latex": [
       "$\\displaystyle - \\frac{a^{2} \\mu^{2} r \\sin{\\left(2 \\theta \\right)}}{\\Delta \\rho^{4}}$"
      ],
      "text/plain": [
       "  2  2            \n",
       "-a ⋅μ ⋅r⋅sin(2⋅θ) \n",
       "──────────────────\n",
       "          4       \n",
       "       Δ⋅ρ        "
      ]
     },
     "metadata": {},
     "output_type": "display_data"
    },
    {
     "data": {
      "image/png": "[encoded data removed]",
      "text/latex": [
       "$\\displaystyle \\left[ 3, \\  2, \\  0, \\  1\\right]$"
      ],
      "text/plain": [
       "[3, 2, 0, 1]"
      ]
     },
     "metadata": {},
     "output_type": "display_data"
    },
    {
     "data": {
      "image/png": "[encoded data removed]",
      "text/latex": [
       "$\\displaystyle - \\frac{a \\mu \\left(- \\Delta \\Sigma + \\Sigma a^{2} \\sin^{2}{\\left(\\theta \\right)} + 2 a^{2} \\mu r \\sin^{2}{\\left(\\theta \\right)}\\right) \\left(\\Delta \\Sigma - \\Sigma a^{2} \\sin^{2}{\\left(\\theta \\right)} + 2 a^{2} \\mu r \\sin^{2}{\\left(\\theta \\right)}\\right)}{\\Delta^{2} \\rho^{8} \\tan{\\left(\\theta \\right)}}$"
      ],
      "text/plain": [
       "     ⎛          2    2         2        2   ⎞ ⎛         2    2         2      \n",
       "-a⋅μ⋅⎝-Δ⋅Σ + Σ⋅a ⋅sin (θ) + 2⋅a ⋅μ⋅r⋅sin (θ)⎠⋅⎝Δ⋅Σ - Σ⋅a ⋅sin (θ) + 2⋅a ⋅μ⋅r⋅s\n",
       "──────────────────────────────────────────────────────────────────────────────\n",
       "                                      2  8                                    \n",
       "                                     Δ ⋅ρ ⋅tan(θ)                             \n",
       "\n",
       "  2   ⎞ \n",
       "in (θ)⎠ \n",
       "────────\n",
       "        \n",
       "        "
      ]
     },
     "metadata": {},
     "output_type": "display_data"
    },
    {
     "data": {
      "image/png": "[encoded data removed]",
      "text/latex": [
       "$\\displaystyle \\left[ 3, \\  2, \\  0, \\  2\\right]$"
      ],
      "text/plain": [
       "[3, 2, 0, 2]"
      ]
     },
     "metadata": {},
     "output_type": "display_data"
    },
    {
     "data": {
      "image/png": "[encoded data removed]",
      "text/latex": [
       "$\\displaystyle - \\frac{2 a \\mu r \\left(\\Delta \\Sigma^{2} - \\Sigma^{2} a^{2} + 4 a^{2} \\mu^{2} r^{2}\\right)}{\\Delta \\rho^{8}}$"
      ],
      "text/plain": [
       "         ⎛   2    2  2      2  2  2⎞ \n",
       "-2⋅a⋅μ⋅r⋅⎝Δ⋅Σ  - Σ ⋅a  + 4⋅a ⋅μ ⋅r ⎠ \n",
       "─────────────────────────────────────\n",
       "                    8                \n",
       "                 Δ⋅ρ                 "
      ]
     },
     "metadata": {},
     "output_type": "display_data"
    },
    {
     "data": {
      "image/png": "[encoded data removed]",
      "text/latex": [
       "$\\displaystyle \\left[ 3, \\  2, \\  1, \\  0\\right]$"
      ],
      "text/plain": [
       "[3, 2, 1, 0]"
      ]
     },
     "metadata": {},
     "output_type": "display_data"
    },
    {
     "data": {
      "image/png": "[encoded data removed]",
      "text/latex": [
       "$\\displaystyle \\frac{\\Sigma^{2} a \\mu \\left(- \\Delta + a^{2} \\sin^{2}{\\left(\\theta \\right)}\\right)}{\\Delta \\rho^{8} \\tan{\\left(\\theta \\right)}}$"
      ],
      "text/plain": [
       " 2     ⎛      2    2   ⎞\n",
       "Σ ⋅a⋅μ⋅⎝-Δ + a ⋅sin (θ)⎠\n",
       "────────────────────────\n",
       "         8              \n",
       "      Δ⋅ρ ⋅tan(θ)       "
      ]
     },
     "metadata": {},
     "output_type": "display_data"
    },
    {
     "data": {
      "image/png": "[encoded data removed]",
      "text/latex": [
       "$\\displaystyle \\left[ 3, \\  2, \\  1, \\  3\\right]$"
      ],
      "text/plain": [
       "[3, 2, 1, 3]"
      ]
     },
     "metadata": {},
     "output_type": "display_data"
    },
    {
     "data": {
      "image/png": "[encoded data removed]",
      "text/latex": [
       "$\\displaystyle - \\frac{\\Sigma^{2} a^{2} \\mu^{2} r \\sin{\\left(2 \\theta \\right)}}{\\Delta \\rho^{8}}$"
      ],
      "text/plain": [
       "  2  2  2            \n",
       "-Σ ⋅a ⋅μ ⋅r⋅sin(2⋅θ) \n",
       "─────────────────────\n",
       "            8        \n",
       "         Δ⋅ρ         "
      ]
     },
     "metadata": {},
     "output_type": "display_data"
    },
    {
     "data": {
      "image/png": "[encoded data removed]",
      "text/latex": [
       "$\\displaystyle \\left[ 3, \\  2, \\  3, \\  1\\right]$"
      ],
      "text/plain": [
       "[3, 2, 3, 1]"
      ]
     },
     "metadata": {},
     "output_type": "display_data"
    },
    {
     "data": {
      "image/png": "[encoded data removed]",
      "text/latex": [
       "$\\displaystyle - \\frac{a^{2} \\mu^{2} r \\left(\\Sigma^{2} + \\rho^{4}\\right) \\sin{\\left(2 \\theta \\right)}}{\\Delta \\rho^{8}}$"
      ],
      "text/plain": [
       "  2  2   ⎛ 2    4⎞          \n",
       "-a ⋅μ ⋅r⋅⎝Σ  + ρ ⎠⋅sin(2⋅θ) \n",
       "────────────────────────────\n",
       "               8            \n",
       "            Δ⋅ρ             "
      ]
     },
     "metadata": {},
     "output_type": "display_data"
    },
    {
     "data": {
      "image/png": "[encoded data removed]",
      "text/latex": [
       "$\\displaystyle \\left[ 3, \\  2, \\  3, \\  2\\right]$"
      ],
      "text/plain": [
       "[3, 2, 3, 2]"
      ]
     },
     "metadata": {},
     "output_type": "display_data"
    },
    {
     "data": {
      "image/png": "[encoded data removed]",
      "text/latex": [
       "$\\displaystyle 1$"
      ],
      "text/plain": [
       "1"
      ]
     },
     "metadata": {},
     "output_type": "display_data"
    },
    {
     "data": {
      "image/png": "[encoded data removed]",
      "text/latex": [
       "$\\displaystyle \\left[ 3, \\  3, \\  0, \\  0\\right]$"
      ],
      "text/plain": [
       "[3, 3, 0, 0]"
      ]
     },
     "metadata": {},
     "output_type": "display_data"
    },
    {
     "data": {
      "image/png": "[encoded data removed]",
      "text/latex": [
       "$\\displaystyle \\frac{a^{2} \\left(- \\Delta + a^{2} \\sin^{2}{\\left(\\theta \\right)}\\right) \\left(\\Delta \\mu^{2} \\sin^{2}{\\left(\\theta \\right)} - \\Sigma^{2} \\cos^{2}{\\left(\\theta \\right)} + 4 \\mu^{2} r^{2} \\cos^{2}{\\left(\\theta \\right)}\\right)}{\\Delta \\rho^{8}}$"
      ],
      "text/plain": [
       " 2 ⎛      2    2   ⎞ ⎛   2    2       2    2         2  2    2   ⎞\n",
       "a ⋅⎝-Δ + a ⋅sin (θ)⎠⋅⎝Δ⋅μ ⋅sin (θ) - Σ ⋅cos (θ) + 4⋅μ ⋅r ⋅cos (θ)⎠\n",
       "──────────────────────────────────────────────────────────────────\n",
       "                                  8                               \n",
       "                               Δ⋅ρ                                "
      ]
     },
     "metadata": {},
     "output_type": "display_data"
    },
    {
     "data": {
      "image/png": "[encoded data removed]",
      "text/latex": [
       "$\\displaystyle \\left[ 3, \\  3, \\  0, \\  3\\right]$"
      ],
      "text/plain": [
       "[3, 3, 0, 3]"
      ]
     },
     "metadata": {},
     "output_type": "display_data"
    },
    {
     "data": {
      "image/png": "[encoded data removed]",
      "text/latex": [
       "$\\displaystyle - \\frac{2 a^{3} \\mu r \\left(\\Delta \\mu^{2} \\sin^{2}{\\left(\\theta \\right)} - \\Sigma^{2} \\cos^{2}{\\left(\\theta \\right)} + 4 \\mu^{2} r^{2} \\cos^{2}{\\left(\\theta \\right)}\\right) \\sin^{2}{\\left(\\theta \\right)}}{\\Delta \\rho^{8}}$"
      ],
      "text/plain": [
       "    3     ⎛   2    2       2    2         2  2    2   ⎞    2    \n",
       "-2⋅a ⋅μ⋅r⋅⎝Δ⋅μ ⋅sin (θ) - Σ ⋅cos (θ) + 4⋅μ ⋅r ⋅cos (θ)⎠⋅sin (θ) \n",
       "────────────────────────────────────────────────────────────────\n",
       "                                 8                              \n",
       "                              Δ⋅ρ                               "
      ]
     },
     "metadata": {},
     "output_type": "display_data"
    },
    {
     "data": {
      "image/png": "[encoded data removed]",
      "text/latex": [
       "$\\displaystyle \\left[ 3, \\  3, \\  1, \\  1\\right]$"
      ],
      "text/plain": [
       "[3, 3, 1, 1]"
      ]
     },
     "metadata": {},
     "output_type": "display_data"
    },
    {
     "data": {
      "image/png": "[encoded data removed]",
      "text/latex": [
       "$\\displaystyle - \\frac{a^{2} \\mu^{2} \\left(- \\Delta \\Sigma^{2} + \\Sigma^{2} a^{2} \\sin^{2}{\\left(\\theta \\right)} + 4 a^{2} \\mu^{2} r^{2} \\sin^{2}{\\left(\\theta \\right)}\\right) \\sin^{2}{\\left(\\theta \\right)}}{\\Delta^{2} \\rho^{8}}$"
      ],
      "text/plain": [
       "  2  2 ⎛     2    2  2    2         2  2  2    2   ⎞    2    \n",
       "-a ⋅μ ⋅⎝- Δ⋅Σ  + Σ ⋅a ⋅sin (θ) + 4⋅a ⋅μ ⋅r ⋅sin (θ)⎠⋅sin (θ) \n",
       "─────────────────────────────────────────────────────────────\n",
       "                             2  8                            \n",
       "                            Δ ⋅ρ                             "
      ]
     },
     "metadata": {},
     "output_type": "display_data"
    },
    {
     "data": {
      "image/png": "[encoded data removed]",
      "text/latex": [
       "$\\displaystyle \\left[ 3, \\  3, \\  1, \\  2\\right]$"
      ],
      "text/plain": [
       "[3, 3, 1, 2]"
      ]
     },
     "metadata": {},
     "output_type": "display_data"
    },
    {
     "data": {
      "image/png": "[encoded data removed]",
      "text/latex": [
       "$\\displaystyle \\frac{a^{2} \\mu^{2} r \\sin{\\left(2 \\theta \\right)}}{\\Delta \\rho^{4}}$"
      ],
      "text/plain": [
       " 2  2           \n",
       "a ⋅μ ⋅r⋅sin(2⋅θ)\n",
       "────────────────\n",
       "         4      \n",
       "      Δ⋅ρ       "
      ]
     },
     "metadata": {},
     "output_type": "display_data"
    },
    {
     "data": {
      "image/png": "[encoded data removed]",
      "text/latex": [
       "$\\displaystyle \\left[ 3, \\  3, \\  2, \\  1\\right]$"
      ],
      "text/plain": [
       "[3, 3, 2, 1]"
      ]
     },
     "metadata": {},
     "output_type": "display_data"
    },
    {
     "data": {
      "image/png": "[encoded data removed]",
      "text/latex": [
       "$\\displaystyle \\frac{a^{2} \\mu^{2} r \\left(\\Sigma^{2} + \\rho^{4}\\right) \\sin{\\left(2 \\theta \\right)}}{\\Delta \\rho^{8}}$"
      ],
      "text/plain": [
       " 2  2   ⎛ 2    4⎞         \n",
       "a ⋅μ ⋅r⋅⎝Σ  + ρ ⎠⋅sin(2⋅θ)\n",
       "──────────────────────────\n",
       "              8           \n",
       "           Δ⋅ρ            "
      ]
     },
     "metadata": {},
     "output_type": "display_data"
    },
    {
     "data": {
      "image/png": "[encoded data removed]",
      "text/latex": [
       "$\\displaystyle \\left[ 3, \\  3, \\  2, \\  2\\right]$"
      ],
      "text/plain": [
       "[3, 3, 2, 2]"
      ]
     },
     "metadata": {},
     "output_type": "display_data"
    },
    {
     "data": {
      "image/png": "[encoded data removed]",
      "text/latex": [
       "$\\displaystyle -1$"
      ],
      "text/plain": [
       "-1"
      ]
     },
     "metadata": {},
     "output_type": "display_data"
    }
   ],
   "source": [
    "rim_latex = open('riemann_real.txt', 'w')\n",
    "\n",
    "for i in range(n):\n",
    "    for j in range(n):\n",
    "        for k in range(n):\n",
    "            for l in range(n):\n",
    "                    if rim[i, j, k, l] != 0:\n",
    "                        rimxpr = subsx(rim[i, j, k, l])\n",
    "\n",
    "                        rimxpr = fracx(rimxpr)\n",
    "\n",
    "                        rim_latex.write(str(i) + str(j) + str(k) + str(l) + '\\n')\n",
    "                        rim_latex.write(sp.latex(rimxpr) + '\\n')\n",
    "                        \n",
    "                        display([i, j, k, l], rimxpr)\n",
    "                        \n",
    "rim_latex.close()"
   ]
  },
  {
   "cell_type": "markdown",
   "metadata": {},
   "source": [
    "# Ricci"
   ]
  },
  {
   "cell_type": "markdown",
   "metadata": {},
   "source": [
    "$$\n",
    "R_{\\beta \\gamma}\n",
    "$$"
   ]
  },
  {
   "cell_type": "code",
   "execution_count": 20,
   "metadata": {},
   "outputs": [],
   "source": [
    "ric = gr.RicciTensor.from_riemann(rim)"
   ]
  },
  {
   "cell_type": "code",
   "execution_count": 46,
   "metadata": {
    "scrolled": true
   },
   "outputs": [
    {
     "data": {
      "image/png": "[encoded data removed]",
      "text/latex": [
       "$\\displaystyle \\left[ 0, \\  0\\right]$"
      ],
      "text/plain": [
       "[0, 0]"
      ]
     },
     "metadata": {},
     "output_type": "display_data"
    },
    {
     "data": {
      "image/png": "[encoded data removed]",
      "text/latex": [
       "$\\displaystyle - \\frac{a^{2} \\left(- 2 \\Delta \\mu^{2} \\sin^{2}{\\left(\\theta \\right)} - 3 \\Sigma^{2} \\sin^{2}{\\left(\\theta \\right)} + \\Sigma^{2} + 2 a^{2} \\mu^{2} \\sin^{4}{\\left(\\theta \\right)} + 4 a^{2} \\mu r \\sin^{4}{\\left(\\theta \\right)} + 2 a^{2} \\rho^{2} \\sin^{4}{\\left(\\theta \\right)} + 8 \\mu^{2} r^{2} \\sin^{2}{\\left(\\theta \\right)} - 8 \\mu^{2} r^{2} + \\rho^{4}\\right)}{\\rho^{8}}$"
      ],
      "text/plain": [
       "  2 ⎛       2    2         2    2       2      2  2    4         2        4   \n",
       "-a ⋅⎝- 2⋅Δ⋅μ ⋅sin (θ) - 3⋅Σ ⋅sin (θ) + Σ  + 2⋅a ⋅μ ⋅sin (θ) + 4⋅a ⋅μ⋅r⋅sin (θ)\n",
       "──────────────────────────────────────────────────────────────────────────────\n",
       "                                                                  8           \n",
       "                                                                 ρ            \n",
       "\n",
       "      2  2    4         2  2    2         2  2    4⎞ \n",
       " + 2⋅a ⋅ρ ⋅sin (θ) + 8⋅μ ⋅r ⋅sin (θ) - 8⋅μ ⋅r  + ρ ⎠ \n",
       "─────────────────────────────────────────────────────\n",
       "                                                     \n",
       "                                                     "
      ]
     },
     "metadata": {},
     "output_type": "display_data"
    },
    {
     "data": {
      "image/png": "[encoded data removed]",
      "text/latex": [
       "$\\displaystyle \\left[ 0, \\  3\\right]$"
      ],
      "text/plain": [
       "[0, 3]"
      ]
     },
     "metadata": {},
     "output_type": "display_data"
    },
    {
     "data": {
      "image/png": "[encoded data removed]",
      "text/latex": [
       "$\\displaystyle \\frac{2 a \\mu r \\left(- \\Delta \\Sigma^{2} - 2 \\Sigma^{2} a^{2} \\cos^{2}{\\left(\\theta \\right)} + \\Sigma^{2} a^{2} + 8 a^{2} \\mu^{2} r^{2} \\cos^{2}{\\left(\\theta \\right)} - 4 a^{2} \\mu^{2} r^{2}\\right) \\sin^{2}{\\left(\\theta \\right)}}{\\Delta \\rho^{8}}$"
      ],
      "text/plain": [
       "        ⎛     2      2  2    2       2  2      2  2  2    2         2  2  2⎞  \n",
       "2⋅a⋅μ⋅r⋅⎝- Δ⋅Σ  - 2⋅Σ ⋅a ⋅cos (θ) + Σ ⋅a  + 8⋅a ⋅μ ⋅r ⋅cos (θ) - 4⋅a ⋅μ ⋅r ⎠⋅s\n",
       "──────────────────────────────────────────────────────────────────────────────\n",
       "                                           8                                  \n",
       "                                        Δ⋅ρ                                   \n",
       "\n",
       "  2   \n",
       "in (θ)\n",
       "──────\n",
       "      \n",
       "      "
      ]
     },
     "metadata": {},
     "output_type": "display_data"
    },
    {
     "data": {
      "image/png": "[encoded data removed]",
      "text/latex": [
       "$\\displaystyle \\left[ 1, \\  1\\right]$"
      ],
      "text/plain": [
       "[1, 1]"
      ]
     },
     "metadata": {},
     "output_type": "display_data"
    },
    {
     "data": {
      "image/png": "[encoded data removed]",
      "text/latex": [
       "$\\displaystyle \\frac{2 a^{2} \\mu^{2} \\left(- \\Delta \\Sigma^{2} + \\Sigma^{2} a^{2} \\sin^{2}{\\left(\\theta \\right)} + 4 a^{2} \\mu^{2} r^{2} \\sin^{2}{\\left(\\theta \\right)}\\right) \\sin^{2}{\\left(\\theta \\right)}}{\\Delta^{2} \\rho^{8}}$"
      ],
      "text/plain": [
       "   2  2 ⎛     2    2  2    2         2  2  2    2   ⎞    2   \n",
       "2⋅a ⋅μ ⋅⎝- Δ⋅Σ  + Σ ⋅a ⋅sin (θ) + 4⋅a ⋅μ ⋅r ⋅sin (θ)⎠⋅sin (θ)\n",
       "─────────────────────────────────────────────────────────────\n",
       "                             2  8                            \n",
       "                            Δ ⋅ρ                             "
      ]
     },
     "metadata": {},
     "output_type": "display_data"
    },
    {
     "data": {
      "image/png": "[encoded data removed]",
      "text/latex": [
       "$\\displaystyle \\left[ 1, \\  2\\right]$"
      ],
      "text/plain": [
       "[1, 2]"
      ]
     },
     "metadata": {},
     "output_type": "display_data"
    },
    {
     "data": {
      "image/png": "[encoded data removed]",
      "text/latex": [
       "$\\displaystyle - \\frac{2 a^{2} \\mu^{2} r \\left(\\Sigma^{2} + \\rho^{4}\\right) \\sin{\\left(2 \\theta \\right)}}{\\Delta \\rho^{8}}$"
      ],
      "text/plain": [
       "    2  2   ⎛ 2    4⎞          \n",
       "-2⋅a ⋅μ ⋅r⋅⎝Σ  + ρ ⎠⋅sin(2⋅θ) \n",
       "──────────────────────────────\n",
       "                8             \n",
       "             Δ⋅ρ              "
      ]
     },
     "metadata": {},
     "output_type": "display_data"
    },
    {
     "data": {
      "image/png": "[encoded data removed]",
      "text/latex": [
       "$\\displaystyle \\left[ 2, \\  2\\right]$"
      ],
      "text/plain": [
       "[2, 2]"
      ]
     },
     "metadata": {},
     "output_type": "display_data"
    },
    {
     "data": {
      "image/png": "[encoded data removed]",
      "text/latex": [
       "$\\displaystyle \\frac{\\Delta^{2} \\Sigma^{4} - 4 \\Delta \\Sigma^{4} a^{2} \\sin^{2}{\\left(\\theta \\right)} + \\Delta \\Sigma^{4} a^{2} + 16 \\Delta \\Sigma^{2} a^{2} \\mu^{2} r^{2} \\sin^{2}{\\left(\\theta \\right)} - 4 \\Delta \\Sigma^{2} a^{2} \\mu^{2} r^{2} + 2 \\Sigma^{4} a^{4} \\sin^{4}{\\left(\\theta \\right)} - 16 \\Sigma^{2} a^{4} \\mu^{2} r^{2} \\sin^{4}{\\left(\\theta \\right)} + 32 a^{4} \\mu^{4} r^{4} \\sin^{4}{\\left(\\theta \\right)}}{\\Delta^{2} \\rho^{8}}$"
      ],
      "text/plain": [
       " 2  4        4  2    2         4  2         2  2  2  2    2           2  2  2 \n",
       "Δ ⋅Σ  - 4⋅Δ⋅Σ ⋅a ⋅sin (θ) + Δ⋅Σ ⋅a  + 16⋅Δ⋅Σ ⋅a ⋅μ ⋅r ⋅sin (θ) - 4⋅Δ⋅Σ ⋅a ⋅μ ⋅\n",
       "──────────────────────────────────────────────────────────────────────────────\n",
       "                                                                       2  8   \n",
       "                                                                      Δ ⋅ρ    \n",
       "\n",
       " 2      4  4    4          2  4  2  2    4          4  4  4    4   \n",
       "r  + 2⋅Σ ⋅a ⋅sin (θ) - 16⋅Σ ⋅a ⋅μ ⋅r ⋅sin (θ) + 32⋅a ⋅μ ⋅r ⋅sin (θ)\n",
       "───────────────────────────────────────────────────────────────────\n",
       "                                                                   \n",
       "                                                                   "
      ]
     },
     "metadata": {},
     "output_type": "display_data"
    },
    {
     "data": {
      "image/png": "[encoded data removed]",
      "text/latex": [
       "$\\displaystyle \\left[ 3, \\  3\\right]$"
      ],
      "text/plain": [
       "[3, 3]"
      ]
     },
     "metadata": {},
     "output_type": "display_data"
    },
    {
     "data": {
      "image/png": "[encoded data removed]",
      "text/latex": [
       "$\\displaystyle - \\frac{\\Sigma^{2} \\left(- \\Delta \\Sigma^{2} + 2 \\Delta a^{2} \\mu^{2} \\sin^{2}{\\left(\\theta \\right)} + 4 \\Delta a^{2} \\mu r \\sin^{2}{\\left(\\theta \\right)} + 2 \\Delta a^{2} \\rho^{2} \\sin^{2}{\\left(\\theta \\right)} - \\Sigma^{2} a^{2} + 4 a^{2} \\mu^{2} r^{2}\\right) \\sin^{2}{\\left(\\theta \\right)}}{\\Delta \\rho^{8}}$"
      ],
      "text/plain": [
       "  2 ⎛     2        2  2    2           2        2           2  2    2       2 \n",
       "-Σ ⋅⎝- Δ⋅Σ  + 2⋅Δ⋅a ⋅μ ⋅sin (θ) + 4⋅Δ⋅a ⋅μ⋅r⋅sin (θ) + 2⋅Δ⋅a ⋅ρ ⋅sin (θ) - Σ ⋅\n",
       "──────────────────────────────────────────────────────────────────────────────\n",
       "                                                     8                        \n",
       "                                                  Δ⋅ρ                         \n",
       "\n",
       " 2      2  2  2⎞    2    \n",
       "a  + 4⋅a ⋅μ ⋅r ⎠⋅sin (θ) \n",
       "─────────────────────────\n",
       "                         \n",
       "                         "
      ]
     },
     "metadata": {},
     "output_type": "display_data"
    }
   ],
   "source": [
    "ric_latex = open('ricci_real.txt', 'w')\n",
    "\n",
    "for i in range(n):\n",
    "    for j in range(i, n):\n",
    "        if ric[i, j] != 0:\n",
    "                ricpr = subsx(ric[i, j])\n",
    "                \n",
    "                ricpr = fracx(ricpr)\n",
    "                \n",
    "                ric_latex.write(str(i) + str(j) + '\\n')\n",
    "                ric_latex.write(sp.latex(ricpr) + '\\n')\n",
    "                \n",
    "                display([i, j], ricpr)\n",
    "\n",
    "ric_latex.close()"
   ]
  },
  {
   "cell_type": "markdown",
   "metadata": {},
   "source": [
    "# Kretschmann scalar"
   ]
  },
  {
   "cell_type": "code",
   "execution_count": 47,
   "metadata": {},
   "outputs": [
    {
     "data": {
      "text/plain": [
       "'ulll'"
      ]
     },
     "execution_count": 47,
     "metadata": {},
     "output_type": "execute_result"
    }
   ],
   "source": [
    "rim.config"
   ]
  },
  {
   "cell_type": "code",
   "execution_count": 49,
   "metadata": {},
   "outputs": [],
   "source": [
    "rim_uull = rim.change_config('uull')"
   ]
  },
  {
   "cell_type": "code",
   "execution_count": 50,
   "metadata": {},
   "outputs": [],
   "source": [
    "rim_uuul = rim_uull.change_config('uuul')"
   ]
  },
  {
   "cell_type": "markdown",
   "metadata": {},
   "source": [
    "$$\n",
    "R^{\\alpha \\beta \\gamma \\delta}\n",
    "$$"
   ]
  },
  {
   "cell_type": "code",
   "execution_count": 51,
   "metadata": {},
   "outputs": [],
   "source": [
    "rim_uuuu = rim_uuul.change_config('uuuu')"
   ]
  },
  {
   "cell_type": "markdown",
   "metadata": {},
   "source": [
    "$$\n",
    "R_{\\alpha \\beta \\gamma \\delta}\n",
    "$$"
   ]
  },
  {
   "cell_type": "code",
   "execution_count": 52,
   "metadata": {},
   "outputs": [],
   "source": [
    "rim_llll = rim.change_config('llll')"
   ]
  },
  {
   "cell_type": "code",
   "execution_count": null,
   "metadata": {
    "scrolled": true
   },
   "outputs": [],
   "source": [
    "Kx = 0\n",
    "\n",
    "for i in range(n):\n",
    "    for j in range(n):\n",
    "        for k in range(n):\n",
    "            for l in range(n):\n",
    "                    Kx += rim[i, j, k, l]*rim[i, j, k, l]\n",
    "                    \n",
    "Kx"
   ]
  },
  {
   "cell_type": "code",
   "execution_count": 59,
   "metadata": {},
   "outputs": [
    {
     "ename": "KeyboardInterrupt",
     "evalue": "",
     "output_type": "error",
     "traceback": [
      "\u001b[1;31m---------------------------------------------------------------------------\u001b[0m",
      "\u001b[1;31mKeyboardInterrupt\u001b[0m                         Traceback (most recent call last)",
      "\u001b[1;32m<ipython-input-59-3837f34b620d>\u001b[0m in \u001b[0;36m<module>\u001b[1;34m\u001b[0m\n\u001b[0;32m      1\u001b[0m \u001b[0mK\u001b[0m \u001b[1;33m=\u001b[0m \u001b[0mKx\u001b[0m\u001b[1;33m.\u001b[0m\u001b[0msubs\u001b[0m\u001b[1;33m(\u001b[0m\u001b[0mE\u001b[0m\u001b[1;33m**\u001b[0m\u001b[1;36m2\u001b[0m\u001b[1;33m,\u001b[0m \u001b[1;33m(\u001b[0m\u001b[0mr\u001b[0m\u001b[1;33m**\u001b[0m\u001b[1;36m2\u001b[0m \u001b[1;33m+\u001b[0m \u001b[0ma\u001b[0m\u001b[1;33m**\u001b[0m\u001b[1;36m2\u001b[0m\u001b[1;33m)\u001b[0m\u001b[1;33m**\u001b[0m\u001b[1;36m2\u001b[0m \u001b[1;33m-\u001b[0m \u001b[0ma\u001b[0m\u001b[1;33m**\u001b[0m\u001b[1;36m2\u001b[0m\u001b[1;33m*\u001b[0m\u001b[0mD\u001b[0m\u001b[1;33m*\u001b[0m\u001b[1;33m(\u001b[0m\u001b[0msp\u001b[0m\u001b[1;33m.\u001b[0m\u001b[0msin\u001b[0m\u001b[1;33m(\u001b[0m\u001b[0mth\u001b[0m\u001b[1;33m)\u001b[0m\u001b[1;33m)\u001b[0m\u001b[1;33m**\u001b[0m\u001b[1;36m2\u001b[0m\u001b[1;33m)\u001b[0m\u001b[1;33m\u001b[0m\u001b[1;33m\u001b[0m\u001b[0m\n\u001b[0;32m      2\u001b[0m \u001b[0mK\u001b[0m \u001b[1;33m=\u001b[0m \u001b[0mK\u001b[0m\u001b[1;33m.\u001b[0m\u001b[0msubs\u001b[0m\u001b[1;33m(\u001b[0m\u001b[1;33m[\u001b[0m\u001b[1;33m(\u001b[0m\u001b[0mD\u001b[0m\u001b[1;33m,\u001b[0m \u001b[0mr\u001b[0m\u001b[1;33m**\u001b[0m\u001b[1;36m2\u001b[0m \u001b[1;33m-\u001b[0m \u001b[1;36m2\u001b[0m\u001b[1;33m*\u001b[0m\u001b[0mu\u001b[0m\u001b[1;33m*\u001b[0m\u001b[0mr\u001b[0m \u001b[1;33m+\u001b[0m \u001b[0ma\u001b[0m\u001b[1;33m**\u001b[0m\u001b[1;36m2\u001b[0m\u001b[1;33m)\u001b[0m\u001b[1;33m,\u001b[0m \u001b[1;33m(\u001b[0m\u001b[0mrho\u001b[0m\u001b[1;33m**\u001b[0m\u001b[1;36m2\u001b[0m\u001b[1;33m,\u001b[0m \u001b[0mr\u001b[0m\u001b[1;33m**\u001b[0m\u001b[1;36m2\u001b[0m \u001b[1;33m+\u001b[0m \u001b[0ma\u001b[0m\u001b[1;33m**\u001b[0m\u001b[1;36m2\u001b[0m\u001b[1;33m*\u001b[0m\u001b[1;33m(\u001b[0m\u001b[0msp\u001b[0m\u001b[1;33m.\u001b[0m\u001b[0mcos\u001b[0m\u001b[1;33m(\u001b[0m\u001b[0mth\u001b[0m\u001b[1;33m)\u001b[0m\u001b[1;33m)\u001b[0m\u001b[1;33m**\u001b[0m\u001b[1;36m2\u001b[0m\u001b[1;33m)\u001b[0m\u001b[1;33m]\u001b[0m\u001b[1;33m)\u001b[0m\u001b[1;33m\u001b[0m\u001b[1;33m\u001b[0m\u001b[0m\n\u001b[1;32m----> 3\u001b[1;33m \u001b[0mK\u001b[0m \u001b[1;33m=\u001b[0m \u001b[0msp\u001b[0m\u001b[1;33m.\u001b[0m\u001b[0msimplify\u001b[0m\u001b[1;33m(\u001b[0m\u001b[0mK\u001b[0m\u001b[1;33m)\u001b[0m\u001b[1;33m\u001b[0m\u001b[1;33m\u001b[0m\u001b[0m\n\u001b[0m\u001b[0;32m      4\u001b[0m \u001b[1;33m\u001b[0m\u001b[0m\n\u001b[0;32m      5\u001b[0m \u001b[0mK\u001b[0m\u001b[1;33m\u001b[0m\u001b[1;33m\u001b[0m\u001b[0m\n",
      "\u001b[1;32mC:\\ProgramData\\Anaconda3\\lib\\site-packages\\sympy\\simplify\\simplify.py\u001b[0m in \u001b[0;36msimplify\u001b[1;34m(expr, ratio, measure, rational, inverse)\u001b[0m\n\u001b[0;32m    558\u001b[0m     \u001b[0mexpr\u001b[0m \u001b[1;33m=\u001b[0m \u001b[0mbottom_up\u001b[0m\u001b[1;33m(\u001b[0m\u001b[0mexpr\u001b[0m\u001b[1;33m,\u001b[0m \u001b[1;32mlambda\u001b[0m \u001b[0mw\u001b[0m\u001b[1;33m:\u001b[0m \u001b[0mgetattr\u001b[0m\u001b[1;33m(\u001b[0m\u001b[0mw\u001b[0m\u001b[1;33m,\u001b[0m \u001b[1;34m'normal'\u001b[0m\u001b[1;33m,\u001b[0m \u001b[1;32mlambda\u001b[0m\u001b[1;33m:\u001b[0m \u001b[0mw\u001b[0m\u001b[1;33m)\u001b[0m\u001b[1;33m(\u001b[0m\u001b[1;33m)\u001b[0m\u001b[1;33m)\u001b[0m\u001b[1;33m\u001b[0m\u001b[1;33m\u001b[0m\u001b[0m\n\u001b[0;32m    559\u001b[0m     \u001b[0mexpr\u001b[0m \u001b[1;33m=\u001b[0m \u001b[0mMul\u001b[0m\u001b[1;33m(\u001b[0m\u001b[1;33m*\u001b[0m\u001b[0mpowsimp\u001b[0m\u001b[1;33m(\u001b[0m\u001b[0mexpr\u001b[0m\u001b[1;33m)\u001b[0m\u001b[1;33m.\u001b[0m\u001b[0mas_content_primitive\u001b[0m\u001b[1;33m(\u001b[0m\u001b[1;33m)\u001b[0m\u001b[1;33m)\u001b[0m\u001b[1;33m\u001b[0m\u001b[1;33m\u001b[0m\u001b[0m\n\u001b[1;32m--> 560\u001b[1;33m     \u001b[0m_e\u001b[0m \u001b[1;33m=\u001b[0m \u001b[0mcancel\u001b[0m\u001b[1;33m(\u001b[0m\u001b[0mexpr\u001b[0m\u001b[1;33m)\u001b[0m\u001b[1;33m\u001b[0m\u001b[1;33m\u001b[0m\u001b[0m\n\u001b[0m\u001b[0;32m    561\u001b[0m     \u001b[0mexpr1\u001b[0m \u001b[1;33m=\u001b[0m \u001b[0mshorter\u001b[0m\u001b[1;33m(\u001b[0m\u001b[0m_e\u001b[0m\u001b[1;33m,\u001b[0m \u001b[0m_mexpand\u001b[0m\u001b[1;33m(\u001b[0m\u001b[0m_e\u001b[0m\u001b[1;33m)\u001b[0m\u001b[1;33m.\u001b[0m\u001b[0mcancel\u001b[0m\u001b[1;33m(\u001b[0m\u001b[1;33m)\u001b[0m\u001b[1;33m)\u001b[0m  \u001b[1;31m# issue 6829\u001b[0m\u001b[1;33m\u001b[0m\u001b[1;33m\u001b[0m\u001b[0m\n\u001b[0;32m    562\u001b[0m     \u001b[0mexpr2\u001b[0m \u001b[1;33m=\u001b[0m \u001b[0mshorter\u001b[0m\u001b[1;33m(\u001b[0m\u001b[0mtogether\u001b[0m\u001b[1;33m(\u001b[0m\u001b[0mexpr\u001b[0m\u001b[1;33m,\u001b[0m \u001b[0mdeep\u001b[0m\u001b[1;33m=\u001b[0m\u001b[1;32mTrue\u001b[0m\u001b[1;33m)\u001b[0m\u001b[1;33m,\u001b[0m \u001b[0mtogether\u001b[0m\u001b[1;33m(\u001b[0m\u001b[0mexpr1\u001b[0m\u001b[1;33m,\u001b[0m \u001b[0mdeep\u001b[0m\u001b[1;33m=\u001b[0m\u001b[1;32mTrue\u001b[0m\u001b[1;33m)\u001b[0m\u001b[1;33m)\u001b[0m\u001b[1;33m\u001b[0m\u001b[1;33m\u001b[0m\u001b[0m\n",
      "\u001b[1;32mC:\\ProgramData\\Anaconda3\\lib\\site-packages\\sympy\\polys\\polytools.py\u001b[0m in \u001b[0;36mcancel\u001b[1;34m(f, *gens, **args)\u001b[0m\n\u001b[0;32m   6615\u001b[0m \u001b[1;33m\u001b[0m\u001b[0m\n\u001b[0;32m   6616\u001b[0m     \u001b[1;32mtry\u001b[0m\u001b[1;33m:\u001b[0m\u001b[1;33m\u001b[0m\u001b[1;33m\u001b[0m\u001b[0m\n\u001b[1;32m-> 6617\u001b[1;33m         \u001b[1;33m(\u001b[0m\u001b[0mF\u001b[0m\u001b[1;33m,\u001b[0m \u001b[0mG\u001b[0m\u001b[1;33m)\u001b[0m\u001b[1;33m,\u001b[0m \u001b[0mopt\u001b[0m \u001b[1;33m=\u001b[0m \u001b[0mparallel_poly_from_expr\u001b[0m\u001b[1;33m(\u001b[0m\u001b[1;33m(\u001b[0m\u001b[0mp\u001b[0m\u001b[1;33m,\u001b[0m \u001b[0mq\u001b[0m\u001b[1;33m)\u001b[0m\u001b[1;33m,\u001b[0m \u001b[1;33m*\u001b[0m\u001b[0mgens\u001b[0m\u001b[1;33m,\u001b[0m \u001b[1;33m**\u001b[0m\u001b[0margs\u001b[0m\u001b[1;33m)\u001b[0m\u001b[1;33m\u001b[0m\u001b[1;33m\u001b[0m\u001b[0m\n\u001b[0m\u001b[0;32m   6618\u001b[0m     \u001b[1;32mexcept\u001b[0m \u001b[0mPolificationFailed\u001b[0m\u001b[1;33m:\u001b[0m\u001b[1;33m\u001b[0m\u001b[1;33m\u001b[0m\u001b[0m\n\u001b[0;32m   6619\u001b[0m         \u001b[1;32mif\u001b[0m \u001b[1;32mnot\u001b[0m \u001b[0misinstance\u001b[0m\u001b[1;33m(\u001b[0m\u001b[0mf\u001b[0m\u001b[1;33m,\u001b[0m \u001b[1;33m(\u001b[0m\u001b[0mtuple\u001b[0m\u001b[1;33m,\u001b[0m \u001b[0mTuple\u001b[0m\u001b[1;33m)\u001b[0m\u001b[1;33m)\u001b[0m\u001b[1;33m:\u001b[0m\u001b[1;33m\u001b[0m\u001b[1;33m\u001b[0m\u001b[0m\n",
      "\u001b[1;32mC:\\ProgramData\\Anaconda3\\lib\\site-packages\\sympy\\polys\\polytools.py\u001b[0m in \u001b[0;36mparallel_poly_from_expr\u001b[1;34m(exprs, *gens, **args)\u001b[0m\n\u001b[0;32m   4307\u001b[0m     \u001b[1;34m\"\"\"Construct polynomials from expressions. \"\"\"\u001b[0m\u001b[1;33m\u001b[0m\u001b[1;33m\u001b[0m\u001b[0m\n\u001b[0;32m   4308\u001b[0m     \u001b[0mopt\u001b[0m \u001b[1;33m=\u001b[0m \u001b[0moptions\u001b[0m\u001b[1;33m.\u001b[0m\u001b[0mbuild_options\u001b[0m\u001b[1;33m(\u001b[0m\u001b[0mgens\u001b[0m\u001b[1;33m,\u001b[0m \u001b[0margs\u001b[0m\u001b[1;33m)\u001b[0m\u001b[1;33m\u001b[0m\u001b[1;33m\u001b[0m\u001b[0m\n\u001b[1;32m-> 4309\u001b[1;33m     \u001b[1;32mreturn\u001b[0m \u001b[0m_parallel_poly_from_expr\u001b[0m\u001b[1;33m(\u001b[0m\u001b[0mexprs\u001b[0m\u001b[1;33m,\u001b[0m \u001b[0mopt\u001b[0m\u001b[1;33m)\u001b[0m\u001b[1;33m\u001b[0m\u001b[1;33m\u001b[0m\u001b[0m\n\u001b[0m\u001b[0;32m   4310\u001b[0m \u001b[1;33m\u001b[0m\u001b[0m\n\u001b[0;32m   4311\u001b[0m \u001b[1;33m\u001b[0m\u001b[0m\n",
      "\u001b[1;32mC:\\ProgramData\\Anaconda3\\lib\\site-packages\\sympy\\polys\\polytools.py\u001b[0m in \u001b[0;36m_parallel_poly_from_expr\u001b[1;34m(exprs, opt)\u001b[0m\n\u001b[0;32m   4346\u001b[0m \u001b[1;33m\u001b[0m\u001b[0m\n\u001b[0;32m   4347\u001b[0m                 \u001b[1;32mif\u001b[0m \u001b[0mopt\u001b[0m\u001b[1;33m.\u001b[0m\u001b[0mexpand\u001b[0m\u001b[1;33m:\u001b[0m\u001b[1;33m\u001b[0m\u001b[1;33m\u001b[0m\u001b[0m\n\u001b[1;32m-> 4348\u001b[1;33m                     \u001b[0mexpr\u001b[0m \u001b[1;33m=\u001b[0m \u001b[0mexpr\u001b[0m\u001b[1;33m.\u001b[0m\u001b[0mexpand\u001b[0m\u001b[1;33m(\u001b[0m\u001b[1;33m)\u001b[0m\u001b[1;33m\u001b[0m\u001b[1;33m\u001b[0m\u001b[0m\n\u001b[0m\u001b[0;32m   4349\u001b[0m         \u001b[1;32melse\u001b[0m\u001b[1;33m:\u001b[0m\u001b[1;33m\u001b[0m\u001b[1;33m\u001b[0m\u001b[0m\n\u001b[0;32m   4350\u001b[0m             \u001b[0mfailed\u001b[0m \u001b[1;33m=\u001b[0m \u001b[1;32mTrue\u001b[0m\u001b[1;33m\u001b[0m\u001b[1;33m\u001b[0m\u001b[0m\n",
      "\u001b[1;32mC:\\ProgramData\\Anaconda3\\lib\\site-packages\\sympy\\core\\expr.py\u001b[0m in \u001b[0;36mexpand\u001b[1;34m(self, deep, modulus, power_base, power_exp, mul, log, multinomial, basic, **hints)\u001b[0m\n\u001b[0;32m   3195\u001b[0m             \u001b[1;32mif\u001b[0m \u001b[0mhints\u001b[0m\u001b[1;33m.\u001b[0m\u001b[0mget\u001b[0m\u001b[1;33m(\u001b[0m\u001b[1;34m'multinomial'\u001b[0m\u001b[1;33m,\u001b[0m \u001b[1;32mFalse\u001b[0m\u001b[1;33m)\u001b[0m\u001b[1;33m:\u001b[0m\u001b[1;33m\u001b[0m\u001b[1;33m\u001b[0m\u001b[0m\n\u001b[0;32m   3196\u001b[0m                 expr, _ = Expr._expand_hint(\n\u001b[1;32m-> 3197\u001b[1;33m                     expr, '_eval_expand_multinomial', deep=deep, **hints)\n\u001b[0m\u001b[0;32m   3198\u001b[0m             \u001b[1;32mif\u001b[0m \u001b[0mhints\u001b[0m\u001b[1;33m.\u001b[0m\u001b[0mget\u001b[0m\u001b[1;33m(\u001b[0m\u001b[1;34m'mul'\u001b[0m\u001b[1;33m,\u001b[0m \u001b[1;32mFalse\u001b[0m\u001b[1;33m)\u001b[0m\u001b[1;33m:\u001b[0m\u001b[1;33m\u001b[0m\u001b[1;33m\u001b[0m\u001b[0m\n\u001b[0;32m   3199\u001b[0m                 expr, _ = Expr._expand_hint(\n",
      "\u001b[1;32mC:\\ProgramData\\Anaconda3\\lib\\site-packages\\sympy\\core\\expr.py\u001b[0m in \u001b[0;36m_expand_hint\u001b[1;34m(expr, hint, deep, **hints)\u001b[0m\n\u001b[0;32m   3122\u001b[0m             \u001b[0msargs\u001b[0m \u001b[1;33m=\u001b[0m \u001b[1;33m[\u001b[0m\u001b[1;33m]\u001b[0m\u001b[1;33m\u001b[0m\u001b[1;33m\u001b[0m\u001b[0m\n\u001b[0;32m   3123\u001b[0m             \u001b[1;32mfor\u001b[0m \u001b[0marg\u001b[0m \u001b[1;32min\u001b[0m \u001b[0mexpr\u001b[0m\u001b[1;33m.\u001b[0m\u001b[0margs\u001b[0m\u001b[1;33m:\u001b[0m\u001b[1;33m\u001b[0m\u001b[1;33m\u001b[0m\u001b[0m\n\u001b[1;32m-> 3124\u001b[1;33m                 \u001b[0marg\u001b[0m\u001b[1;33m,\u001b[0m \u001b[0marghit\u001b[0m \u001b[1;33m=\u001b[0m \u001b[0mExpr\u001b[0m\u001b[1;33m.\u001b[0m\u001b[0m_expand_hint\u001b[0m\u001b[1;33m(\u001b[0m\u001b[0marg\u001b[0m\u001b[1;33m,\u001b[0m \u001b[0mhint\u001b[0m\u001b[1;33m,\u001b[0m \u001b[1;33m**\u001b[0m\u001b[0mhints\u001b[0m\u001b[1;33m)\u001b[0m\u001b[1;33m\u001b[0m\u001b[1;33m\u001b[0m\u001b[0m\n\u001b[0m\u001b[0;32m   3125\u001b[0m                 \u001b[0mhit\u001b[0m \u001b[1;33m|=\u001b[0m \u001b[0marghit\u001b[0m\u001b[1;33m\u001b[0m\u001b[1;33m\u001b[0m\u001b[0m\n\u001b[0;32m   3126\u001b[0m                 \u001b[0msargs\u001b[0m\u001b[1;33m.\u001b[0m\u001b[0mappend\u001b[0m\u001b[1;33m(\u001b[0m\u001b[0marg\u001b[0m\u001b[1;33m)\u001b[0m\u001b[1;33m\u001b[0m\u001b[1;33m\u001b[0m\u001b[0m\n",
      "\u001b[1;32mC:\\ProgramData\\Anaconda3\\lib\\site-packages\\sympy\\core\\expr.py\u001b[0m in \u001b[0;36m_expand_hint\u001b[1;34m(expr, hint, deep, **hints)\u001b[0m\n\u001b[0;32m   3122\u001b[0m             \u001b[0msargs\u001b[0m \u001b[1;33m=\u001b[0m \u001b[1;33m[\u001b[0m\u001b[1;33m]\u001b[0m\u001b[1;33m\u001b[0m\u001b[1;33m\u001b[0m\u001b[0m\n\u001b[0;32m   3123\u001b[0m             \u001b[1;32mfor\u001b[0m \u001b[0marg\u001b[0m \u001b[1;32min\u001b[0m \u001b[0mexpr\u001b[0m\u001b[1;33m.\u001b[0m\u001b[0margs\u001b[0m\u001b[1;33m:\u001b[0m\u001b[1;33m\u001b[0m\u001b[1;33m\u001b[0m\u001b[0m\n\u001b[1;32m-> 3124\u001b[1;33m                 \u001b[0marg\u001b[0m\u001b[1;33m,\u001b[0m \u001b[0marghit\u001b[0m \u001b[1;33m=\u001b[0m \u001b[0mExpr\u001b[0m\u001b[1;33m.\u001b[0m\u001b[0m_expand_hint\u001b[0m\u001b[1;33m(\u001b[0m\u001b[0marg\u001b[0m\u001b[1;33m,\u001b[0m \u001b[0mhint\u001b[0m\u001b[1;33m,\u001b[0m \u001b[1;33m**\u001b[0m\u001b[0mhints\u001b[0m\u001b[1;33m)\u001b[0m\u001b[1;33m\u001b[0m\u001b[1;33m\u001b[0m\u001b[0m\n\u001b[0m\u001b[0;32m   3125\u001b[0m                 \u001b[0mhit\u001b[0m \u001b[1;33m|=\u001b[0m \u001b[0marghit\u001b[0m\u001b[1;33m\u001b[0m\u001b[1;33m\u001b[0m\u001b[0m\n\u001b[0;32m   3126\u001b[0m                 \u001b[0msargs\u001b[0m\u001b[1;33m.\u001b[0m\u001b[0mappend\u001b[0m\u001b[1;33m(\u001b[0m\u001b[0marg\u001b[0m\u001b[1;33m)\u001b[0m\u001b[1;33m\u001b[0m\u001b[1;33m\u001b[0m\u001b[0m\n",
      "\u001b[1;32mC:\\ProgramData\\Anaconda3\\lib\\site-packages\\sympy\\core\\expr.py\u001b[0m in \u001b[0;36m_expand_hint\u001b[1;34m(expr, hint, deep, **hints)\u001b[0m\n\u001b[0;32m   3130\u001b[0m \u001b[1;33m\u001b[0m\u001b[0m\n\u001b[0;32m   3131\u001b[0m         \u001b[1;32mif\u001b[0m \u001b[0mhasattr\u001b[0m\u001b[1;33m(\u001b[0m\u001b[0mexpr\u001b[0m\u001b[1;33m,\u001b[0m \u001b[0mhint\u001b[0m\u001b[1;33m)\u001b[0m\u001b[1;33m:\u001b[0m\u001b[1;33m\u001b[0m\u001b[1;33m\u001b[0m\u001b[0m\n\u001b[1;32m-> 3132\u001b[1;33m             \u001b[0mnewexpr\u001b[0m \u001b[1;33m=\u001b[0m \u001b[0mgetattr\u001b[0m\u001b[1;33m(\u001b[0m\u001b[0mexpr\u001b[0m\u001b[1;33m,\u001b[0m \u001b[0mhint\u001b[0m\u001b[1;33m)\u001b[0m\u001b[1;33m(\u001b[0m\u001b[1;33m**\u001b[0m\u001b[0mhints\u001b[0m\u001b[1;33m)\u001b[0m\u001b[1;33m\u001b[0m\u001b[1;33m\u001b[0m\u001b[0m\n\u001b[0m\u001b[0;32m   3133\u001b[0m             \u001b[1;32mif\u001b[0m \u001b[0mnewexpr\u001b[0m \u001b[1;33m!=\u001b[0m \u001b[0mexpr\u001b[0m\u001b[1;33m:\u001b[0m\u001b[1;33m\u001b[0m\u001b[1;33m\u001b[0m\u001b[0m\n\u001b[0;32m   3134\u001b[0m                 \u001b[1;32mreturn\u001b[0m \u001b[1;33m(\u001b[0m\u001b[0mnewexpr\u001b[0m\u001b[1;33m,\u001b[0m \u001b[1;32mTrue\u001b[0m\u001b[1;33m)\u001b[0m\u001b[1;33m\u001b[0m\u001b[1;33m\u001b[0m\u001b[0m\n",
      "\u001b[1;32mC:\\ProgramData\\Anaconda3\\lib\\site-packages\\sympy\\core\\power.py\u001b[0m in \u001b[0;36m_eval_expand_multinomial\u001b[1;34m(self, **hints)\u001b[0m\n\u001b[0;32m   1050\u001b[0m                 \u001b[1;31m# in our example: {(3, 0): 1, (1, 2): 3, (0, 3): 1, (2, 1): 3}\u001b[0m\u001b[1;33m\u001b[0m\u001b[1;33m\u001b[0m\u001b[1;33m\u001b[0m\u001b[0m\n\u001b[0;32m   1051\u001b[0m                 \u001b[1;31m# and now construct the expression.\u001b[0m\u001b[1;33m\u001b[0m\u001b[1;33m\u001b[0m\u001b[1;33m\u001b[0m\u001b[0m\n\u001b[1;32m-> 1052\u001b[1;33m                 \u001b[1;32mreturn\u001b[0m \u001b[0mbasic_from_dict\u001b[0m\u001b[1;33m(\u001b[0m\u001b[0mexpansion_dict\u001b[0m\u001b[1;33m,\u001b[0m \u001b[1;33m*\u001b[0m\u001b[0mp\u001b[0m\u001b[1;33m)\u001b[0m\u001b[1;33m\u001b[0m\u001b[1;33m\u001b[0m\u001b[0m\n\u001b[0m\u001b[0;32m   1053\u001b[0m             \u001b[1;32melse\u001b[0m\u001b[1;33m:\u001b[0m\u001b[1;33m\u001b[0m\u001b[1;33m\u001b[0m\u001b[0m\n\u001b[0;32m   1054\u001b[0m                 \u001b[1;32mif\u001b[0m \u001b[0mn\u001b[0m \u001b[1;33m==\u001b[0m \u001b[1;36m2\u001b[0m\u001b[1;33m:\u001b[0m\u001b[1;33m\u001b[0m\u001b[1;33m\u001b[0m\u001b[0m\n",
      "\u001b[1;32mC:\\ProgramData\\Anaconda3\\lib\\site-packages\\sympy\\polys\\polyutils.py\u001b[0m in \u001b[0;36mexpr_from_dict\u001b[1;34m(rep, *gens)\u001b[0m\n\u001b[0;32m    379\u001b[0m                 \u001b[0mterm\u001b[0m\u001b[1;33m.\u001b[0m\u001b[0mappend\u001b[0m\u001b[1;33m(\u001b[0m\u001b[0mPow\u001b[0m\u001b[1;33m(\u001b[0m\u001b[0mg\u001b[0m\u001b[1;33m,\u001b[0m \u001b[0mm\u001b[0m\u001b[1;33m)\u001b[0m\u001b[1;33m)\u001b[0m\u001b[1;33m\u001b[0m\u001b[1;33m\u001b[0m\u001b[0m\n\u001b[0;32m    380\u001b[0m \u001b[1;33m\u001b[0m\u001b[0m\n\u001b[1;32m--> 381\u001b[1;33m         \u001b[0mresult\u001b[0m\u001b[1;33m.\u001b[0m\u001b[0mappend\u001b[0m\u001b[1;33m(\u001b[0m\u001b[0mMul\u001b[0m\u001b[1;33m(\u001b[0m\u001b[1;33m*\u001b[0m\u001b[0mterm\u001b[0m\u001b[1;33m)\u001b[0m\u001b[1;33m)\u001b[0m\u001b[1;33m\u001b[0m\u001b[1;33m\u001b[0m\u001b[0m\n\u001b[0m\u001b[0;32m    382\u001b[0m \u001b[1;33m\u001b[0m\u001b[0m\n\u001b[0;32m    383\u001b[0m     \u001b[1;32mreturn\u001b[0m \u001b[0mAdd\u001b[0m\u001b[1;33m(\u001b[0m\u001b[1;33m*\u001b[0m\u001b[0mresult\u001b[0m\u001b[1;33m)\u001b[0m\u001b[1;33m\u001b[0m\u001b[1;33m\u001b[0m\u001b[0m\n",
      "\u001b[1;32mC:\\ProgramData\\Anaconda3\\lib\\site-packages\\sympy\\core\\operations.py\u001b[0m in \u001b[0;36m__new__\u001b[1;34m(cls, *args, **options)\u001b[0m\n\u001b[0;32m     45\u001b[0m             \u001b[1;32mreturn\u001b[0m \u001b[0margs\u001b[0m\u001b[1;33m[\u001b[0m\u001b[1;36m0\u001b[0m\u001b[1;33m]\u001b[0m\u001b[1;33m\u001b[0m\u001b[1;33m\u001b[0m\u001b[0m\n\u001b[0;32m     46\u001b[0m \u001b[1;33m\u001b[0m\u001b[0m\n\u001b[1;32m---> 47\u001b[1;33m         \u001b[0mc_part\u001b[0m\u001b[1;33m,\u001b[0m \u001b[0mnc_part\u001b[0m\u001b[1;33m,\u001b[0m \u001b[0morder_symbols\u001b[0m \u001b[1;33m=\u001b[0m \u001b[0mcls\u001b[0m\u001b[1;33m.\u001b[0m\u001b[0mflatten\u001b[0m\u001b[1;33m(\u001b[0m\u001b[0margs\u001b[0m\u001b[1;33m)\u001b[0m\u001b[1;33m\u001b[0m\u001b[1;33m\u001b[0m\u001b[0m\n\u001b[0m\u001b[0;32m     48\u001b[0m         \u001b[0mis_commutative\u001b[0m \u001b[1;33m=\u001b[0m \u001b[1;32mnot\u001b[0m \u001b[0mnc_part\u001b[0m\u001b[1;33m\u001b[0m\u001b[1;33m\u001b[0m\u001b[0m\n\u001b[0;32m     49\u001b[0m         \u001b[0mobj\u001b[0m \u001b[1;33m=\u001b[0m \u001b[0mcls\u001b[0m\u001b[1;33m.\u001b[0m\u001b[0m_from_args\u001b[0m\u001b[1;33m(\u001b[0m\u001b[0mc_part\u001b[0m \u001b[1;33m+\u001b[0m \u001b[0mnc_part\u001b[0m\u001b[1;33m,\u001b[0m \u001b[0mis_commutative\u001b[0m\u001b[1;33m)\u001b[0m\u001b[1;33m\u001b[0m\u001b[1;33m\u001b[0m\u001b[0m\n",
      "\u001b[1;32mC:\\ProgramData\\Anaconda3\\lib\\site-packages\\sympy\\core\\mul.py\u001b[0m in \u001b[0;36mflatten\u001b[1;34m(cls, seq)\u001b[0m\n\u001b[0;32m    385\u001b[0m \u001b[1;33m\u001b[0m\u001b[0m\n\u001b[0;32m    386\u001b[0m         \u001b[1;31m# in c_powers\u001b[0m\u001b[1;33m\u001b[0m\u001b[1;33m\u001b[0m\u001b[1;33m\u001b[0m\u001b[0m\n\u001b[1;32m--> 387\u001b[1;33m         \u001b[0mc_powers\u001b[0m \u001b[1;33m=\u001b[0m \u001b[0m_gather\u001b[0m\u001b[1;33m(\u001b[0m\u001b[0mc_powers\u001b[0m\u001b[1;33m)\u001b[0m\u001b[1;33m\u001b[0m\u001b[1;33m\u001b[0m\u001b[0m\n\u001b[0m\u001b[0;32m    388\u001b[0m \u001b[1;33m\u001b[0m\u001b[0m\n\u001b[0;32m    389\u001b[0m         \u001b[1;31m# and in num_exp\u001b[0m\u001b[1;33m\u001b[0m\u001b[1;33m\u001b[0m\u001b[1;33m\u001b[0m\u001b[0m\n",
      "\u001b[1;32mC:\\ProgramData\\Anaconda3\\lib\\site-packages\\sympy\\core\\mul.py\u001b[0m in \u001b[0;36m_gather\u001b[1;34m(c_powers)\u001b[0m\n\u001b[0;32m    378\u001b[0m             \u001b[1;32mfor\u001b[0m \u001b[0mb\u001b[0m\u001b[1;33m,\u001b[0m \u001b[0md\u001b[0m \u001b[1;32min\u001b[0m \u001b[0mcommon_b\u001b[0m\u001b[1;33m.\u001b[0m\u001b[0mitems\u001b[0m\u001b[1;33m(\u001b[0m\u001b[1;33m)\u001b[0m\u001b[1;33m:\u001b[0m\u001b[1;33m\u001b[0m\u001b[1;33m\u001b[0m\u001b[0m\n\u001b[0;32m    379\u001b[0m                 \u001b[1;32mfor\u001b[0m \u001b[0mdi\u001b[0m\u001b[1;33m,\u001b[0m \u001b[0mli\u001b[0m \u001b[1;32min\u001b[0m \u001b[0md\u001b[0m\u001b[1;33m.\u001b[0m\u001b[0mitems\u001b[0m\u001b[1;33m(\u001b[0m\u001b[1;33m)\u001b[0m\u001b[1;33m:\u001b[0m\u001b[1;33m\u001b[0m\u001b[1;33m\u001b[0m\u001b[0m\n\u001b[1;32m--> 380\u001b[1;33m                     \u001b[0md\u001b[0m\u001b[1;33m[\u001b[0m\u001b[0mdi\u001b[0m\u001b[1;33m]\u001b[0m \u001b[1;33m=\u001b[0m \u001b[0mAdd\u001b[0m\u001b[1;33m(\u001b[0m\u001b[1;33m*\u001b[0m\u001b[0mli\u001b[0m\u001b[1;33m)\u001b[0m\u001b[1;33m\u001b[0m\u001b[1;33m\u001b[0m\u001b[0m\n\u001b[0m\u001b[0;32m    381\u001b[0m             \u001b[0mnew_c_powers\u001b[0m \u001b[1;33m=\u001b[0m \u001b[1;33m[\u001b[0m\u001b[1;33m]\u001b[0m\u001b[1;33m\u001b[0m\u001b[1;33m\u001b[0m\u001b[0m\n\u001b[0;32m    382\u001b[0m             \u001b[1;32mfor\u001b[0m \u001b[0mb\u001b[0m\u001b[1;33m,\u001b[0m \u001b[0me\u001b[0m \u001b[1;32min\u001b[0m \u001b[0mcommon_b\u001b[0m\u001b[1;33m.\u001b[0m\u001b[0mitems\u001b[0m\u001b[1;33m(\u001b[0m\u001b[1;33m)\u001b[0m\u001b[1;33m:\u001b[0m\u001b[1;33m\u001b[0m\u001b[1;33m\u001b[0m\u001b[0m\n",
      "\u001b[1;31mKeyboardInterrupt\u001b[0m: "
     ]
    }
   ],
   "source": [
    "K = Kx.subs(E**2, (r**2 + a**2)**2 - a**2*D*(sp.sin(th))**2)\n",
    "K = K.subs([(D, r**2 - 2*u*r + a**2), (rho**2, r**2 + a**2*(sp.cos(th))**2)])\n",
    "K = sp.simplify(K)\n",
    "\n",
    "K"
   ]
  },
  {
   "cell_type": "code",
   "execution_count": 63,
   "metadata": {},
   "outputs": [
    {
     "ename": "KeyboardInterrupt",
     "evalue": "",
     "output_type": "error",
     "traceback": [
      "\u001b[1;31m---------------------------------------------------------------------------\u001b[0m",
      "\u001b[1;31mKeyboardInterrupt\u001b[0m                         Traceback (most recent call last)",
      "\u001b[1;32m<ipython-input-63-47fe2bef6e7e>\u001b[0m in \u001b[0;36m<module>\u001b[1;34m\u001b[0m\n\u001b[1;32m----> 1\u001b[1;33m \u001b[0mK\u001b[0m \u001b[1;33m=\u001b[0m \u001b[0msp\u001b[0m\u001b[1;33m.\u001b[0m\u001b[0msimplify\u001b[0m\u001b[1;33m(\u001b[0m\u001b[0mKx\u001b[0m\u001b[1;33m.\u001b[0m\u001b[0msubs\u001b[0m\u001b[1;33m(\u001b[0m\u001b[0mE\u001b[0m\u001b[1;33m**\u001b[0m\u001b[1;36m2\u001b[0m\u001b[1;33m,\u001b[0m \u001b[1;33m(\u001b[0m\u001b[0mr\u001b[0m\u001b[1;33m**\u001b[0m\u001b[1;36m2\u001b[0m \u001b[1;33m+\u001b[0m \u001b[0ma\u001b[0m\u001b[1;33m**\u001b[0m\u001b[1;36m2\u001b[0m\u001b[1;33m)\u001b[0m\u001b[1;33m**\u001b[0m\u001b[1;36m2\u001b[0m \u001b[1;33m-\u001b[0m \u001b[0ma\u001b[0m\u001b[1;33m**\u001b[0m\u001b[1;36m2\u001b[0m\u001b[1;33m*\u001b[0m\u001b[0mD\u001b[0m\u001b[1;33m*\u001b[0m\u001b[1;33m(\u001b[0m\u001b[0msp\u001b[0m\u001b[1;33m.\u001b[0m\u001b[0msin\u001b[0m\u001b[1;33m(\u001b[0m\u001b[0mth\u001b[0m\u001b[1;33m)\u001b[0m\u001b[1;33m)\u001b[0m\u001b[1;33m**\u001b[0m\u001b[1;36m2\u001b[0m\u001b[1;33m)\u001b[0m\u001b[1;33m)\u001b[0m\u001b[1;33m\u001b[0m\u001b[1;33m\u001b[0m\u001b[0m\n\u001b[0m",
      "\u001b[1;32mC:\\ProgramData\\Anaconda3\\lib\\site-packages\\sympy\\simplify\\simplify.py\u001b[0m in \u001b[0;36msimplify\u001b[1;34m(expr, ratio, measure, rational, inverse)\u001b[0m\n\u001b[0;32m    558\u001b[0m     \u001b[0mexpr\u001b[0m \u001b[1;33m=\u001b[0m \u001b[0mbottom_up\u001b[0m\u001b[1;33m(\u001b[0m\u001b[0mexpr\u001b[0m\u001b[1;33m,\u001b[0m \u001b[1;32mlambda\u001b[0m \u001b[0mw\u001b[0m\u001b[1;33m:\u001b[0m \u001b[0mgetattr\u001b[0m\u001b[1;33m(\u001b[0m\u001b[0mw\u001b[0m\u001b[1;33m,\u001b[0m \u001b[1;34m'normal'\u001b[0m\u001b[1;33m,\u001b[0m \u001b[1;32mlambda\u001b[0m\u001b[1;33m:\u001b[0m \u001b[0mw\u001b[0m\u001b[1;33m)\u001b[0m\u001b[1;33m(\u001b[0m\u001b[1;33m)\u001b[0m\u001b[1;33m)\u001b[0m\u001b[1;33m\u001b[0m\u001b[1;33m\u001b[0m\u001b[0m\n\u001b[0;32m    559\u001b[0m     \u001b[0mexpr\u001b[0m \u001b[1;33m=\u001b[0m \u001b[0mMul\u001b[0m\u001b[1;33m(\u001b[0m\u001b[1;33m*\u001b[0m\u001b[0mpowsimp\u001b[0m\u001b[1;33m(\u001b[0m\u001b[0mexpr\u001b[0m\u001b[1;33m)\u001b[0m\u001b[1;33m.\u001b[0m\u001b[0mas_content_primitive\u001b[0m\u001b[1;33m(\u001b[0m\u001b[1;33m)\u001b[0m\u001b[1;33m)\u001b[0m\u001b[1;33m\u001b[0m\u001b[1;33m\u001b[0m\u001b[0m\n\u001b[1;32m--> 560\u001b[1;33m     \u001b[0m_e\u001b[0m \u001b[1;33m=\u001b[0m \u001b[0mcancel\u001b[0m\u001b[1;33m(\u001b[0m\u001b[0mexpr\u001b[0m\u001b[1;33m)\u001b[0m\u001b[1;33m\u001b[0m\u001b[1;33m\u001b[0m\u001b[0m\n\u001b[0m\u001b[0;32m    561\u001b[0m     \u001b[0mexpr1\u001b[0m \u001b[1;33m=\u001b[0m \u001b[0mshorter\u001b[0m\u001b[1;33m(\u001b[0m\u001b[0m_e\u001b[0m\u001b[1;33m,\u001b[0m \u001b[0m_mexpand\u001b[0m\u001b[1;33m(\u001b[0m\u001b[0m_e\u001b[0m\u001b[1;33m)\u001b[0m\u001b[1;33m.\u001b[0m\u001b[0mcancel\u001b[0m\u001b[1;33m(\u001b[0m\u001b[1;33m)\u001b[0m\u001b[1;33m)\u001b[0m  \u001b[1;31m# issue 6829\u001b[0m\u001b[1;33m\u001b[0m\u001b[1;33m\u001b[0m\u001b[0m\n\u001b[0;32m    562\u001b[0m     \u001b[0mexpr2\u001b[0m \u001b[1;33m=\u001b[0m \u001b[0mshorter\u001b[0m\u001b[1;33m(\u001b[0m\u001b[0mtogether\u001b[0m\u001b[1;33m(\u001b[0m\u001b[0mexpr\u001b[0m\u001b[1;33m,\u001b[0m \u001b[0mdeep\u001b[0m\u001b[1;33m=\u001b[0m\u001b[1;32mTrue\u001b[0m\u001b[1;33m)\u001b[0m\u001b[1;33m,\u001b[0m \u001b[0mtogether\u001b[0m\u001b[1;33m(\u001b[0m\u001b[0mexpr1\u001b[0m\u001b[1;33m,\u001b[0m \u001b[0mdeep\u001b[0m\u001b[1;33m=\u001b[0m\u001b[1;32mTrue\u001b[0m\u001b[1;33m)\u001b[0m\u001b[1;33m)\u001b[0m\u001b[1;33m\u001b[0m\u001b[1;33m\u001b[0m\u001b[0m\n",
      "\u001b[1;32mC:\\ProgramData\\Anaconda3\\lib\\site-packages\\sympy\\polys\\polytools.py\u001b[0m in \u001b[0;36mcancel\u001b[1;34m(f, *gens, **args)\u001b[0m\n\u001b[0;32m   6615\u001b[0m \u001b[1;33m\u001b[0m\u001b[0m\n\u001b[0;32m   6616\u001b[0m     \u001b[1;32mtry\u001b[0m\u001b[1;33m:\u001b[0m\u001b[1;33m\u001b[0m\u001b[1;33m\u001b[0m\u001b[0m\n\u001b[1;32m-> 6617\u001b[1;33m         \u001b[1;33m(\u001b[0m\u001b[0mF\u001b[0m\u001b[1;33m,\u001b[0m \u001b[0mG\u001b[0m\u001b[1;33m)\u001b[0m\u001b[1;33m,\u001b[0m \u001b[0mopt\u001b[0m \u001b[1;33m=\u001b[0m \u001b[0mparallel_poly_from_expr\u001b[0m\u001b[1;33m(\u001b[0m\u001b[1;33m(\u001b[0m\u001b[0mp\u001b[0m\u001b[1;33m,\u001b[0m \u001b[0mq\u001b[0m\u001b[1;33m)\u001b[0m\u001b[1;33m,\u001b[0m \u001b[1;33m*\u001b[0m\u001b[0mgens\u001b[0m\u001b[1;33m,\u001b[0m \u001b[1;33m**\u001b[0m\u001b[0margs\u001b[0m\u001b[1;33m)\u001b[0m\u001b[1;33m\u001b[0m\u001b[1;33m\u001b[0m\u001b[0m\n\u001b[0m\u001b[0;32m   6618\u001b[0m     \u001b[1;32mexcept\u001b[0m \u001b[0mPolificationFailed\u001b[0m\u001b[1;33m:\u001b[0m\u001b[1;33m\u001b[0m\u001b[1;33m\u001b[0m\u001b[0m\n\u001b[0;32m   6619\u001b[0m         \u001b[1;32mif\u001b[0m \u001b[1;32mnot\u001b[0m \u001b[0misinstance\u001b[0m\u001b[1;33m(\u001b[0m\u001b[0mf\u001b[0m\u001b[1;33m,\u001b[0m \u001b[1;33m(\u001b[0m\u001b[0mtuple\u001b[0m\u001b[1;33m,\u001b[0m \u001b[0mTuple\u001b[0m\u001b[1;33m)\u001b[0m\u001b[1;33m)\u001b[0m\u001b[1;33m:\u001b[0m\u001b[1;33m\u001b[0m\u001b[1;33m\u001b[0m\u001b[0m\n",
      "\u001b[1;32mC:\\ProgramData\\Anaconda3\\lib\\site-packages\\sympy\\polys\\polytools.py\u001b[0m in \u001b[0;36mparallel_poly_from_expr\u001b[1;34m(exprs, *gens, **args)\u001b[0m\n\u001b[0;32m   4307\u001b[0m     \u001b[1;34m\"\"\"Construct polynomials from expressions. \"\"\"\u001b[0m\u001b[1;33m\u001b[0m\u001b[1;33m\u001b[0m\u001b[0m\n\u001b[0;32m   4308\u001b[0m     \u001b[0mopt\u001b[0m \u001b[1;33m=\u001b[0m \u001b[0moptions\u001b[0m\u001b[1;33m.\u001b[0m\u001b[0mbuild_options\u001b[0m\u001b[1;33m(\u001b[0m\u001b[0mgens\u001b[0m\u001b[1;33m,\u001b[0m \u001b[0margs\u001b[0m\u001b[1;33m)\u001b[0m\u001b[1;33m\u001b[0m\u001b[1;33m\u001b[0m\u001b[0m\n\u001b[1;32m-> 4309\u001b[1;33m     \u001b[1;32mreturn\u001b[0m \u001b[0m_parallel_poly_from_expr\u001b[0m\u001b[1;33m(\u001b[0m\u001b[0mexprs\u001b[0m\u001b[1;33m,\u001b[0m \u001b[0mopt\u001b[0m\u001b[1;33m)\u001b[0m\u001b[1;33m\u001b[0m\u001b[1;33m\u001b[0m\u001b[0m\n\u001b[0m\u001b[0;32m   4310\u001b[0m \u001b[1;33m\u001b[0m\u001b[0m\n\u001b[0;32m   4311\u001b[0m \u001b[1;33m\u001b[0m\u001b[0m\n",
      "\u001b[1;32mC:\\ProgramData\\Anaconda3\\lib\\site-packages\\sympy\\polys\\polytools.py\u001b[0m in \u001b[0;36m_parallel_poly_from_expr\u001b[1;34m(exprs, opt)\u001b[0m\n\u001b[0;32m   4346\u001b[0m \u001b[1;33m\u001b[0m\u001b[0m\n\u001b[0;32m   4347\u001b[0m                 \u001b[1;32mif\u001b[0m \u001b[0mopt\u001b[0m\u001b[1;33m.\u001b[0m\u001b[0mexpand\u001b[0m\u001b[1;33m:\u001b[0m\u001b[1;33m\u001b[0m\u001b[1;33m\u001b[0m\u001b[0m\n\u001b[1;32m-> 4348\u001b[1;33m                     \u001b[0mexpr\u001b[0m \u001b[1;33m=\u001b[0m \u001b[0mexpr\u001b[0m\u001b[1;33m.\u001b[0m\u001b[0mexpand\u001b[0m\u001b[1;33m(\u001b[0m\u001b[1;33m)\u001b[0m\u001b[1;33m\u001b[0m\u001b[1;33m\u001b[0m\u001b[0m\n\u001b[0m\u001b[0;32m   4349\u001b[0m         \u001b[1;32melse\u001b[0m\u001b[1;33m:\u001b[0m\u001b[1;33m\u001b[0m\u001b[1;33m\u001b[0m\u001b[0m\n\u001b[0;32m   4350\u001b[0m             \u001b[0mfailed\u001b[0m \u001b[1;33m=\u001b[0m \u001b[1;32mTrue\u001b[0m\u001b[1;33m\u001b[0m\u001b[1;33m\u001b[0m\u001b[0m\n",
      "\u001b[1;32mC:\\ProgramData\\Anaconda3\\lib\\site-packages\\sympy\\core\\expr.py\u001b[0m in \u001b[0;36mexpand\u001b[1;34m(self, deep, modulus, power_base, power_exp, mul, log, multinomial, basic, **hints)\u001b[0m\n\u001b[0;32m   3189\u001b[0m             \u001b[1;32mif\u001b[0m \u001b[0muse_hint\u001b[0m\u001b[1;33m:\u001b[0m\u001b[1;33m\u001b[0m\u001b[1;33m\u001b[0m\u001b[0m\n\u001b[0;32m   3190\u001b[0m                 \u001b[0mhint\u001b[0m \u001b[1;33m=\u001b[0m \u001b[1;34m'_eval_expand_'\u001b[0m \u001b[1;33m+\u001b[0m \u001b[0mhint\u001b[0m\u001b[1;33m\u001b[0m\u001b[1;33m\u001b[0m\u001b[0m\n\u001b[1;32m-> 3191\u001b[1;33m                 \u001b[0mexpr\u001b[0m\u001b[1;33m,\u001b[0m \u001b[0mhit\u001b[0m \u001b[1;33m=\u001b[0m \u001b[0mExpr\u001b[0m\u001b[1;33m.\u001b[0m\u001b[0m_expand_hint\u001b[0m\u001b[1;33m(\u001b[0m\u001b[0mexpr\u001b[0m\u001b[1;33m,\u001b[0m \u001b[0mhint\u001b[0m\u001b[1;33m,\u001b[0m \u001b[0mdeep\u001b[0m\u001b[1;33m=\u001b[0m\u001b[0mdeep\u001b[0m\u001b[1;33m,\u001b[0m \u001b[1;33m**\u001b[0m\u001b[0mhints\u001b[0m\u001b[1;33m)\u001b[0m\u001b[1;33m\u001b[0m\u001b[1;33m\u001b[0m\u001b[0m\n\u001b[0m\u001b[0;32m   3192\u001b[0m \u001b[1;33m\u001b[0m\u001b[0m\n\u001b[0;32m   3193\u001b[0m         \u001b[1;32mwhile\u001b[0m \u001b[1;32mTrue\u001b[0m\u001b[1;33m:\u001b[0m\u001b[1;33m\u001b[0m\u001b[1;33m\u001b[0m\u001b[0m\n",
      "\u001b[1;32mC:\\ProgramData\\Anaconda3\\lib\\site-packages\\sympy\\core\\expr.py\u001b[0m in \u001b[0;36m_expand_hint\u001b[1;34m(expr, hint, deep, **hints)\u001b[0m\n\u001b[0;32m   3122\u001b[0m             \u001b[0msargs\u001b[0m \u001b[1;33m=\u001b[0m \u001b[1;33m[\u001b[0m\u001b[1;33m]\u001b[0m\u001b[1;33m\u001b[0m\u001b[1;33m\u001b[0m\u001b[0m\n\u001b[0;32m   3123\u001b[0m             \u001b[1;32mfor\u001b[0m \u001b[0marg\u001b[0m \u001b[1;32min\u001b[0m \u001b[0mexpr\u001b[0m\u001b[1;33m.\u001b[0m\u001b[0margs\u001b[0m\u001b[1;33m:\u001b[0m\u001b[1;33m\u001b[0m\u001b[1;33m\u001b[0m\u001b[0m\n\u001b[1;32m-> 3124\u001b[1;33m                 \u001b[0marg\u001b[0m\u001b[1;33m,\u001b[0m \u001b[0marghit\u001b[0m \u001b[1;33m=\u001b[0m \u001b[0mExpr\u001b[0m\u001b[1;33m.\u001b[0m\u001b[0m_expand_hint\u001b[0m\u001b[1;33m(\u001b[0m\u001b[0marg\u001b[0m\u001b[1;33m,\u001b[0m \u001b[0mhint\u001b[0m\u001b[1;33m,\u001b[0m \u001b[1;33m**\u001b[0m\u001b[0mhints\u001b[0m\u001b[1;33m)\u001b[0m\u001b[1;33m\u001b[0m\u001b[1;33m\u001b[0m\u001b[0m\n\u001b[0m\u001b[0;32m   3125\u001b[0m                 \u001b[0mhit\u001b[0m \u001b[1;33m|=\u001b[0m \u001b[0marghit\u001b[0m\u001b[1;33m\u001b[0m\u001b[1;33m\u001b[0m\u001b[0m\n\u001b[0;32m   3126\u001b[0m                 \u001b[0msargs\u001b[0m\u001b[1;33m.\u001b[0m\u001b[0mappend\u001b[0m\u001b[1;33m(\u001b[0m\u001b[0marg\u001b[0m\u001b[1;33m)\u001b[0m\u001b[1;33m\u001b[0m\u001b[1;33m\u001b[0m\u001b[0m\n",
      "\u001b[1;32mC:\\ProgramData\\Anaconda3\\lib\\site-packages\\sympy\\core\\expr.py\u001b[0m in \u001b[0;36m_expand_hint\u001b[1;34m(expr, hint, deep, **hints)\u001b[0m\n\u001b[0;32m   3130\u001b[0m \u001b[1;33m\u001b[0m\u001b[0m\n\u001b[0;32m   3131\u001b[0m         \u001b[1;32mif\u001b[0m \u001b[0mhasattr\u001b[0m\u001b[1;33m(\u001b[0m\u001b[0mexpr\u001b[0m\u001b[1;33m,\u001b[0m \u001b[0mhint\u001b[0m\u001b[1;33m)\u001b[0m\u001b[1;33m:\u001b[0m\u001b[1;33m\u001b[0m\u001b[1;33m\u001b[0m\u001b[0m\n\u001b[1;32m-> 3132\u001b[1;33m             \u001b[0mnewexpr\u001b[0m \u001b[1;33m=\u001b[0m \u001b[0mgetattr\u001b[0m\u001b[1;33m(\u001b[0m\u001b[0mexpr\u001b[0m\u001b[1;33m,\u001b[0m \u001b[0mhint\u001b[0m\u001b[1;33m)\u001b[0m\u001b[1;33m(\u001b[0m\u001b[1;33m**\u001b[0m\u001b[0mhints\u001b[0m\u001b[1;33m)\u001b[0m\u001b[1;33m\u001b[0m\u001b[1;33m\u001b[0m\u001b[0m\n\u001b[0m\u001b[0;32m   3133\u001b[0m             \u001b[1;32mif\u001b[0m \u001b[0mnewexpr\u001b[0m \u001b[1;33m!=\u001b[0m \u001b[0mexpr\u001b[0m\u001b[1;33m:\u001b[0m\u001b[1;33m\u001b[0m\u001b[1;33m\u001b[0m\u001b[0m\n\u001b[0;32m   3134\u001b[0m                 \u001b[1;32mreturn\u001b[0m \u001b[1;33m(\u001b[0m\u001b[0mnewexpr\u001b[0m\u001b[1;33m,\u001b[0m \u001b[1;32mTrue\u001b[0m\u001b[1;33m)\u001b[0m\u001b[1;33m\u001b[0m\u001b[1;33m\u001b[0m\u001b[0m\n",
      "\u001b[1;32mC:\\ProgramData\\Anaconda3\\lib\\site-packages\\sympy\\core\\mul.py\u001b[0m in \u001b[0;36m_eval_expand_mul\u001b[1;34m(self, **hints)\u001b[0m\n\u001b[0;32m    877\u001b[0m             \u001b[1;32mif\u001b[0m \u001b[0msums\u001b[0m\u001b[1;33m:\u001b[0m\u001b[1;33m\u001b[0m\u001b[1;33m\u001b[0m\u001b[0m\n\u001b[0;32m    878\u001b[0m                 \u001b[0mdeep\u001b[0m \u001b[1;33m=\u001b[0m \u001b[0mhints\u001b[0m\u001b[1;33m.\u001b[0m\u001b[0mget\u001b[0m\u001b[1;33m(\u001b[0m\u001b[1;34m\"deep\"\u001b[0m\u001b[1;33m,\u001b[0m \u001b[1;32mFalse\u001b[0m\u001b[1;33m)\u001b[0m\u001b[1;33m\u001b[0m\u001b[1;33m\u001b[0m\u001b[0m\n\u001b[1;32m--> 879\u001b[1;33m                 \u001b[0mterms\u001b[0m \u001b[1;33m=\u001b[0m \u001b[0mself\u001b[0m\u001b[1;33m.\u001b[0m\u001b[0mfunc\u001b[0m\u001b[1;33m.\u001b[0m\u001b[0m_expandsums\u001b[0m\u001b[1;33m(\u001b[0m\u001b[0msums\u001b[0m\u001b[1;33m)\u001b[0m\u001b[1;33m\u001b[0m\u001b[1;33m\u001b[0m\u001b[0m\n\u001b[0m\u001b[0;32m    880\u001b[0m                 \u001b[0margs\u001b[0m \u001b[1;33m=\u001b[0m \u001b[1;33m[\u001b[0m\u001b[1;33m]\u001b[0m\u001b[1;33m\u001b[0m\u001b[1;33m\u001b[0m\u001b[0m\n\u001b[0;32m    881\u001b[0m                 \u001b[1;32mfor\u001b[0m \u001b[0mterm\u001b[0m \u001b[1;32min\u001b[0m \u001b[0mterms\u001b[0m\u001b[1;33m:\u001b[0m\u001b[1;33m\u001b[0m\u001b[1;33m\u001b[0m\u001b[0m\n",
      "\u001b[1;32mC:\\ProgramData\\Anaconda3\\lib\\site-packages\\sympy\\core\\mul.py\u001b[0m in \u001b[0;36m_expandsums\u001b[1;34m(sums)\u001b[0m\n\u001b[0;32m    842\u001b[0m         \u001b[0mright\u001b[0m \u001b[1;33m=\u001b[0m \u001b[0mMul\u001b[0m\u001b[1;33m.\u001b[0m\u001b[0m_expandsums\u001b[0m\u001b[1;33m(\u001b[0m\u001b[0msums\u001b[0m\u001b[1;33m[\u001b[0m\u001b[0mL\u001b[0m\u001b[1;33m//\u001b[0m\u001b[1;36m2\u001b[0m\u001b[1;33m:\u001b[0m\u001b[1;33m]\u001b[0m\u001b[1;33m)\u001b[0m\u001b[1;33m\u001b[0m\u001b[1;33m\u001b[0m\u001b[0m\n\u001b[0;32m    843\u001b[0m \u001b[1;33m\u001b[0m\u001b[0m\n\u001b[1;32m--> 844\u001b[1;33m         \u001b[0mterms\u001b[0m \u001b[1;33m=\u001b[0m \u001b[1;33m[\u001b[0m\u001b[0mMul\u001b[0m\u001b[1;33m(\u001b[0m\u001b[0ma\u001b[0m\u001b[1;33m,\u001b[0m \u001b[0mb\u001b[0m\u001b[1;33m)\u001b[0m \u001b[1;32mfor\u001b[0m \u001b[0ma\u001b[0m \u001b[1;32min\u001b[0m \u001b[0mleft\u001b[0m \u001b[1;32mfor\u001b[0m \u001b[0mb\u001b[0m \u001b[1;32min\u001b[0m \u001b[0mright\u001b[0m\u001b[1;33m]\u001b[0m\u001b[1;33m\u001b[0m\u001b[1;33m\u001b[0m\u001b[0m\n\u001b[0m\u001b[0;32m    845\u001b[0m         \u001b[0madded\u001b[0m \u001b[1;33m=\u001b[0m \u001b[0mAdd\u001b[0m\u001b[1;33m(\u001b[0m\u001b[1;33m*\u001b[0m\u001b[0mterms\u001b[0m\u001b[1;33m)\u001b[0m\u001b[1;33m\u001b[0m\u001b[1;33m\u001b[0m\u001b[0m\n\u001b[0;32m    846\u001b[0m         \u001b[1;32mreturn\u001b[0m \u001b[0mAdd\u001b[0m\u001b[1;33m.\u001b[0m\u001b[0mmake_args\u001b[0m\u001b[1;33m(\u001b[0m\u001b[0madded\u001b[0m\u001b[1;33m)\u001b[0m  \u001b[1;31m# it may have collapsed down to one term\u001b[0m\u001b[1;33m\u001b[0m\u001b[1;33m\u001b[0m\u001b[0m\n",
      "\u001b[1;32mC:\\ProgramData\\Anaconda3\\lib\\site-packages\\sympy\\core\\mul.py\u001b[0m in \u001b[0;36m<listcomp>\u001b[1;34m(.0)\u001b[0m\n\u001b[0;32m    842\u001b[0m         \u001b[0mright\u001b[0m \u001b[1;33m=\u001b[0m \u001b[0mMul\u001b[0m\u001b[1;33m.\u001b[0m\u001b[0m_expandsums\u001b[0m\u001b[1;33m(\u001b[0m\u001b[0msums\u001b[0m\u001b[1;33m[\u001b[0m\u001b[0mL\u001b[0m\u001b[1;33m//\u001b[0m\u001b[1;36m2\u001b[0m\u001b[1;33m:\u001b[0m\u001b[1;33m]\u001b[0m\u001b[1;33m)\u001b[0m\u001b[1;33m\u001b[0m\u001b[1;33m\u001b[0m\u001b[0m\n\u001b[0;32m    843\u001b[0m \u001b[1;33m\u001b[0m\u001b[0m\n\u001b[1;32m--> 844\u001b[1;33m         \u001b[0mterms\u001b[0m \u001b[1;33m=\u001b[0m \u001b[1;33m[\u001b[0m\u001b[0mMul\u001b[0m\u001b[1;33m(\u001b[0m\u001b[0ma\u001b[0m\u001b[1;33m,\u001b[0m \u001b[0mb\u001b[0m\u001b[1;33m)\u001b[0m \u001b[1;32mfor\u001b[0m \u001b[0ma\u001b[0m \u001b[1;32min\u001b[0m \u001b[0mleft\u001b[0m \u001b[1;32mfor\u001b[0m \u001b[0mb\u001b[0m \u001b[1;32min\u001b[0m \u001b[0mright\u001b[0m\u001b[1;33m]\u001b[0m\u001b[1;33m\u001b[0m\u001b[1;33m\u001b[0m\u001b[0m\n\u001b[0m\u001b[0;32m    845\u001b[0m         \u001b[0madded\u001b[0m \u001b[1;33m=\u001b[0m \u001b[0mAdd\u001b[0m\u001b[1;33m(\u001b[0m\u001b[1;33m*\u001b[0m\u001b[0mterms\u001b[0m\u001b[1;33m)\u001b[0m\u001b[1;33m\u001b[0m\u001b[1;33m\u001b[0m\u001b[0m\n\u001b[0;32m    846\u001b[0m         \u001b[1;32mreturn\u001b[0m \u001b[0mAdd\u001b[0m\u001b[1;33m.\u001b[0m\u001b[0mmake_args\u001b[0m\u001b[1;33m(\u001b[0m\u001b[0madded\u001b[0m\u001b[1;33m)\u001b[0m  \u001b[1;31m# it may have collapsed down to one term\u001b[0m\u001b[1;33m\u001b[0m\u001b[1;33m\u001b[0m\u001b[0m\n",
      "\u001b[1;32mC:\\ProgramData\\Anaconda3\\lib\\site-packages\\sympy\\core\\operations.py\u001b[0m in \u001b[0;36m__new__\u001b[1;34m(cls, *args, **options)\u001b[0m\n\u001b[0;32m     45\u001b[0m             \u001b[1;32mreturn\u001b[0m \u001b[0margs\u001b[0m\u001b[1;33m[\u001b[0m\u001b[1;36m0\u001b[0m\u001b[1;33m]\u001b[0m\u001b[1;33m\u001b[0m\u001b[1;33m\u001b[0m\u001b[0m\n\u001b[0;32m     46\u001b[0m \u001b[1;33m\u001b[0m\u001b[0m\n\u001b[1;32m---> 47\u001b[1;33m         \u001b[0mc_part\u001b[0m\u001b[1;33m,\u001b[0m \u001b[0mnc_part\u001b[0m\u001b[1;33m,\u001b[0m \u001b[0morder_symbols\u001b[0m \u001b[1;33m=\u001b[0m \u001b[0mcls\u001b[0m\u001b[1;33m.\u001b[0m\u001b[0mflatten\u001b[0m\u001b[1;33m(\u001b[0m\u001b[0margs\u001b[0m\u001b[1;33m)\u001b[0m\u001b[1;33m\u001b[0m\u001b[1;33m\u001b[0m\u001b[0m\n\u001b[0m\u001b[0;32m     48\u001b[0m         \u001b[0mis_commutative\u001b[0m \u001b[1;33m=\u001b[0m \u001b[1;32mnot\u001b[0m \u001b[0mnc_part\u001b[0m\u001b[1;33m\u001b[0m\u001b[1;33m\u001b[0m\u001b[0m\n\u001b[0;32m     49\u001b[0m         \u001b[0mobj\u001b[0m \u001b[1;33m=\u001b[0m \u001b[0mcls\u001b[0m\u001b[1;33m.\u001b[0m\u001b[0m_from_args\u001b[0m\u001b[1;33m(\u001b[0m\u001b[0mc_part\u001b[0m \u001b[1;33m+\u001b[0m \u001b[0mnc_part\u001b[0m\u001b[1;33m,\u001b[0m \u001b[0mis_commutative\u001b[0m\u001b[1;33m)\u001b[0m\u001b[1;33m\u001b[0m\u001b[1;33m\u001b[0m\u001b[0m\n",
      "\u001b[1;32mC:\\ProgramData\\Anaconda3\\lib\\site-packages\\sympy\\core\\mul.py\u001b[0m in \u001b[0;36mflatten\u001b[1;34m(cls, seq)\u001b[0m\n\u001b[0;32m    385\u001b[0m \u001b[1;33m\u001b[0m\u001b[0m\n\u001b[0;32m    386\u001b[0m         \u001b[1;31m# in c_powers\u001b[0m\u001b[1;33m\u001b[0m\u001b[1;33m\u001b[0m\u001b[1;33m\u001b[0m\u001b[0m\n\u001b[1;32m--> 387\u001b[1;33m         \u001b[0mc_powers\u001b[0m \u001b[1;33m=\u001b[0m \u001b[0m_gather\u001b[0m\u001b[1;33m(\u001b[0m\u001b[0mc_powers\u001b[0m\u001b[1;33m)\u001b[0m\u001b[1;33m\u001b[0m\u001b[1;33m\u001b[0m\u001b[0m\n\u001b[0m\u001b[0;32m    388\u001b[0m \u001b[1;33m\u001b[0m\u001b[0m\n\u001b[0;32m    389\u001b[0m         \u001b[1;31m# and in num_exp\u001b[0m\u001b[1;33m\u001b[0m\u001b[1;33m\u001b[0m\u001b[1;33m\u001b[0m\u001b[0m\n",
      "\u001b[1;32mC:\\ProgramData\\Anaconda3\\lib\\site-packages\\sympy\\core\\mul.py\u001b[0m in \u001b[0;36m_gather\u001b[1;34m(c_powers)\u001b[0m\n\u001b[0;32m    381\u001b[0m             \u001b[0mnew_c_powers\u001b[0m \u001b[1;33m=\u001b[0m \u001b[1;33m[\u001b[0m\u001b[1;33m]\u001b[0m\u001b[1;33m\u001b[0m\u001b[1;33m\u001b[0m\u001b[0m\n\u001b[0;32m    382\u001b[0m             \u001b[1;32mfor\u001b[0m \u001b[0mb\u001b[0m\u001b[1;33m,\u001b[0m \u001b[0me\u001b[0m \u001b[1;32min\u001b[0m \u001b[0mcommon_b\u001b[0m\u001b[1;33m.\u001b[0m\u001b[0mitems\u001b[0m\u001b[1;33m(\u001b[0m\u001b[1;33m)\u001b[0m\u001b[1;33m:\u001b[0m\u001b[1;33m\u001b[0m\u001b[1;33m\u001b[0m\u001b[0m\n\u001b[1;32m--> 383\u001b[1;33m                 \u001b[0mnew_c_powers\u001b[0m\u001b[1;33m.\u001b[0m\u001b[0mextend\u001b[0m\u001b[1;33m(\u001b[0m\u001b[1;33m[\u001b[0m\u001b[1;33m(\u001b[0m\u001b[0mb\u001b[0m\u001b[1;33m,\u001b[0m \u001b[0mc\u001b[0m\u001b[1;33m*\u001b[0m\u001b[0mt\u001b[0m\u001b[1;33m)\u001b[0m \u001b[1;32mfor\u001b[0m \u001b[0mt\u001b[0m\u001b[1;33m,\u001b[0m \u001b[0mc\u001b[0m \u001b[1;32min\u001b[0m \u001b[0me\u001b[0m\u001b[1;33m.\u001b[0m\u001b[0mitems\u001b[0m\u001b[1;33m(\u001b[0m\u001b[1;33m)\u001b[0m\u001b[1;33m]\u001b[0m\u001b[1;33m)\u001b[0m\u001b[1;33m\u001b[0m\u001b[1;33m\u001b[0m\u001b[0m\n\u001b[0m\u001b[0;32m    384\u001b[0m             \u001b[1;32mreturn\u001b[0m \u001b[0mnew_c_powers\u001b[0m\u001b[1;33m\u001b[0m\u001b[1;33m\u001b[0m\u001b[0m\n\u001b[0;32m    385\u001b[0m \u001b[1;33m\u001b[0m\u001b[0m\n",
      "\u001b[1;32mC:\\ProgramData\\Anaconda3\\lib\\site-packages\\sympy\\core\\mul.py\u001b[0m in \u001b[0;36m<listcomp>\u001b[1;34m(.0)\u001b[0m\n\u001b[0;32m    381\u001b[0m             \u001b[0mnew_c_powers\u001b[0m \u001b[1;33m=\u001b[0m \u001b[1;33m[\u001b[0m\u001b[1;33m]\u001b[0m\u001b[1;33m\u001b[0m\u001b[1;33m\u001b[0m\u001b[0m\n\u001b[0;32m    382\u001b[0m             \u001b[1;32mfor\u001b[0m \u001b[0mb\u001b[0m\u001b[1;33m,\u001b[0m \u001b[0me\u001b[0m \u001b[1;32min\u001b[0m \u001b[0mcommon_b\u001b[0m\u001b[1;33m.\u001b[0m\u001b[0mitems\u001b[0m\u001b[1;33m(\u001b[0m\u001b[1;33m)\u001b[0m\u001b[1;33m:\u001b[0m\u001b[1;33m\u001b[0m\u001b[1;33m\u001b[0m\u001b[0m\n\u001b[1;32m--> 383\u001b[1;33m                 \u001b[0mnew_c_powers\u001b[0m\u001b[1;33m.\u001b[0m\u001b[0mextend\u001b[0m\u001b[1;33m(\u001b[0m\u001b[1;33m[\u001b[0m\u001b[1;33m(\u001b[0m\u001b[0mb\u001b[0m\u001b[1;33m,\u001b[0m \u001b[0mc\u001b[0m\u001b[1;33m*\u001b[0m\u001b[0mt\u001b[0m\u001b[1;33m)\u001b[0m \u001b[1;32mfor\u001b[0m \u001b[0mt\u001b[0m\u001b[1;33m,\u001b[0m \u001b[0mc\u001b[0m \u001b[1;32min\u001b[0m \u001b[0me\u001b[0m\u001b[1;33m.\u001b[0m\u001b[0mitems\u001b[0m\u001b[1;33m(\u001b[0m\u001b[1;33m)\u001b[0m\u001b[1;33m]\u001b[0m\u001b[1;33m)\u001b[0m\u001b[1;33m\u001b[0m\u001b[1;33m\u001b[0m\u001b[0m\n\u001b[0m\u001b[0;32m    384\u001b[0m             \u001b[1;32mreturn\u001b[0m \u001b[0mnew_c_powers\u001b[0m\u001b[1;33m\u001b[0m\u001b[1;33m\u001b[0m\u001b[0m\n\u001b[0;32m    385\u001b[0m \u001b[1;33m\u001b[0m\u001b[0m\n",
      "\u001b[1;32mC:\\ProgramData\\Anaconda3\\lib\\site-packages\\sympy\\core\\numbers.py\u001b[0m in \u001b[0;36m__mul__\u001b[1;34m(self, other)\u001b[0m\n\u001b[0;32m   2041\u001b[0m                 \u001b[1;32mreturn\u001b[0m \u001b[0mInteger\u001b[0m\u001b[1;33m(\u001b[0m\u001b[0mself\u001b[0m\u001b[1;33m.\u001b[0m\u001b[0mp\u001b[0m\u001b[1;33m*\u001b[0m\u001b[0mother\u001b[0m\u001b[1;33m)\u001b[0m\u001b[1;33m\u001b[0m\u001b[1;33m\u001b[0m\u001b[0m\n\u001b[0;32m   2042\u001b[0m             \u001b[1;32melif\u001b[0m \u001b[0misinstance\u001b[0m\u001b[1;33m(\u001b[0m\u001b[0mother\u001b[0m\u001b[1;33m,\u001b[0m \u001b[0mInteger\u001b[0m\u001b[1;33m)\u001b[0m\u001b[1;33m:\u001b[0m\u001b[1;33m\u001b[0m\u001b[1;33m\u001b[0m\u001b[0m\n\u001b[1;32m-> 2043\u001b[1;33m                 \u001b[1;32mreturn\u001b[0m \u001b[0mInteger\u001b[0m\u001b[1;33m(\u001b[0m\u001b[0mself\u001b[0m\u001b[1;33m.\u001b[0m\u001b[0mp\u001b[0m\u001b[1;33m*\u001b[0m\u001b[0mother\u001b[0m\u001b[1;33m.\u001b[0m\u001b[0mp\u001b[0m\u001b[1;33m)\u001b[0m\u001b[1;33m\u001b[0m\u001b[1;33m\u001b[0m\u001b[0m\n\u001b[0m\u001b[0;32m   2044\u001b[0m             \u001b[1;32melif\u001b[0m \u001b[0misinstance\u001b[0m\u001b[1;33m(\u001b[0m\u001b[0mother\u001b[0m\u001b[1;33m,\u001b[0m \u001b[0mRational\u001b[0m\u001b[1;33m)\u001b[0m\u001b[1;33m:\u001b[0m\u001b[1;33m\u001b[0m\u001b[1;33m\u001b[0m\u001b[0m\n\u001b[0;32m   2045\u001b[0m                 \u001b[1;32mreturn\u001b[0m \u001b[0mRational\u001b[0m\u001b[1;33m(\u001b[0m\u001b[0mself\u001b[0m\u001b[1;33m.\u001b[0m\u001b[0mp\u001b[0m\u001b[1;33m*\u001b[0m\u001b[0mother\u001b[0m\u001b[1;33m.\u001b[0m\u001b[0mp\u001b[0m\u001b[1;33m,\u001b[0m \u001b[0mother\u001b[0m\u001b[1;33m.\u001b[0m\u001b[0mq\u001b[0m\u001b[1;33m,\u001b[0m \u001b[0migcd\u001b[0m\u001b[1;33m(\u001b[0m\u001b[0mself\u001b[0m\u001b[1;33m.\u001b[0m\u001b[0mp\u001b[0m\u001b[1;33m,\u001b[0m \u001b[0mother\u001b[0m\u001b[1;33m.\u001b[0m\u001b[0mq\u001b[0m\u001b[1;33m)\u001b[0m\u001b[1;33m)\u001b[0m\u001b[1;33m\u001b[0m\u001b[1;33m\u001b[0m\u001b[0m\n",
      "\u001b[1;31mKeyboardInterrupt\u001b[0m: "
     ]
    }
   ],
   "source": [
    "K = sp.simplify(Kx.subs(E**2, (r**2 + a**2)**2 - a**2*D*(sp.sin(th))**2))"
   ]
  },
  {
   "cell_type": "code",
   "execution_count": null,
   "metadata": {},
   "outputs": [],
   "source": []
  }
 ],
 "metadata": {
  "kernelspec": {
   "display_name": "Python 3",
   "language": "python",
   "name": "python3"
  },
  "language_info": {
   "codemirror_mode": {
    "name": "ipython",
    "version": 3
   },
   "file_extension": ".py",
   "mimetype": "text/x-python",
   "name": "python",
   "nbconvert_exporter": "python",
   "pygments_lexer": "ipython3",
   "version": "3.7.3"
  }
 },
 "nbformat": 4,
 "nbformat_minor": 2
}
